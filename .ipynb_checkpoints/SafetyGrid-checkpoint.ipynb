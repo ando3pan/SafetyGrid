{
 "cells": [
  {
   "cell_type": "code",
   "execution_count": 1,
   "metadata": {},
   "outputs": [],
   "source": [
    "import pandas as pd\n",
    "import scipy\n",
    "from sklearn.neighbors import KNeighborsClassifier as KNN\n",
    "import matplotlib.pyplot as plt\n",
    "import seaborn as sns\n",
    "import statsmodels.formula.api as smf\n",
    "from sklearn import metrics\n",
    "from sklearn.model_selection import KFold\n",
    "import numpy as np\n"
   ]
  },
  {
   "cell_type": "markdown",
   "metadata": {},
   "source": [
    "### Read in LA Crime Data Set"
   ]
  },
  {
   "cell_type": "code",
   "execution_count": 2,
   "metadata": {},
   "outputs": [],
   "source": [
    "df = pd.read_csv('Crime_Data_from_2010_to_Present.csv')"
   ]
  },
  {
   "cell_type": "code",
   "execution_count": 3,
   "metadata": {},
   "outputs": [
    {
     "data": {
      "text/html": [
       "<div>\n",
       "<style scoped>\n",
       "    .dataframe tbody tr th:only-of-type {\n",
       "        vertical-align: middle;\n",
       "    }\n",
       "\n",
       "    .dataframe tbody tr th {\n",
       "        vertical-align: top;\n",
       "    }\n",
       "\n",
       "    .dataframe thead th {\n",
       "        text-align: right;\n",
       "    }\n",
       "</style>\n",
       "<table border=\"1\" class=\"dataframe\">\n",
       "  <thead>\n",
       "    <tr style=\"text-align: right;\">\n",
       "      <th></th>\n",
       "      <th>DR_NO</th>\n",
       "      <th>Date Rptd</th>\n",
       "      <th>DATE OCC</th>\n",
       "      <th>TIME OCC</th>\n",
       "      <th>AREA</th>\n",
       "      <th>AREA NAME</th>\n",
       "      <th>Rpt Dist No</th>\n",
       "      <th>Part 1-2</th>\n",
       "      <th>Crm Cd</th>\n",
       "      <th>Crm Cd Desc</th>\n",
       "      <th>...</th>\n",
       "      <th>Status</th>\n",
       "      <th>Status Desc</th>\n",
       "      <th>Crm Cd 1</th>\n",
       "      <th>Crm Cd 2</th>\n",
       "      <th>Crm Cd 3</th>\n",
       "      <th>Crm Cd 4</th>\n",
       "      <th>LOCATION</th>\n",
       "      <th>Cross Street</th>\n",
       "      <th>LAT</th>\n",
       "      <th>LON</th>\n",
       "    </tr>\n",
       "  </thead>\n",
       "  <tbody>\n",
       "    <tr>\n",
       "      <th>0</th>\n",
       "      <td>1307355</td>\n",
       "      <td>02/20/2010 12:00:00 AM</td>\n",
       "      <td>02/20/2010 12:00:00 AM</td>\n",
       "      <td>1350</td>\n",
       "      <td>13</td>\n",
       "      <td>Newton</td>\n",
       "      <td>1385</td>\n",
       "      <td>2</td>\n",
       "      <td>900</td>\n",
       "      <td>VIOLATION OF COURT ORDER</td>\n",
       "      <td>...</td>\n",
       "      <td>AA</td>\n",
       "      <td>Adult Arrest</td>\n",
       "      <td>900.0</td>\n",
       "      <td>NaN</td>\n",
       "      <td>NaN</td>\n",
       "      <td>NaN</td>\n",
       "      <td>300 E  GAGE                         AV</td>\n",
       "      <td>NaN</td>\n",
       "      <td>33.9825</td>\n",
       "      <td>-118.2695</td>\n",
       "    </tr>\n",
       "    <tr>\n",
       "      <th>1</th>\n",
       "      <td>11401303</td>\n",
       "      <td>09/13/2010 12:00:00 AM</td>\n",
       "      <td>09/12/2010 12:00:00 AM</td>\n",
       "      <td>45</td>\n",
       "      <td>14</td>\n",
       "      <td>Pacific</td>\n",
       "      <td>1485</td>\n",
       "      <td>2</td>\n",
       "      <td>740</td>\n",
       "      <td>VANDALISM - FELONY ($400 &amp; OVER, ALL CHURCH VA...</td>\n",
       "      <td>...</td>\n",
       "      <td>IC</td>\n",
       "      <td>Invest Cont</td>\n",
       "      <td>740.0</td>\n",
       "      <td>NaN</td>\n",
       "      <td>NaN</td>\n",
       "      <td>NaN</td>\n",
       "      <td>SEPULVEDA                    BL</td>\n",
       "      <td>MANCHESTER                   AV</td>\n",
       "      <td>33.9599</td>\n",
       "      <td>-118.3962</td>\n",
       "    </tr>\n",
       "    <tr>\n",
       "      <th>2</th>\n",
       "      <td>70309629</td>\n",
       "      <td>08/09/2010 12:00:00 AM</td>\n",
       "      <td>08/09/2010 12:00:00 AM</td>\n",
       "      <td>1515</td>\n",
       "      <td>13</td>\n",
       "      <td>Newton</td>\n",
       "      <td>1324</td>\n",
       "      <td>2</td>\n",
       "      <td>946</td>\n",
       "      <td>OTHER MISCELLANEOUS CRIME</td>\n",
       "      <td>...</td>\n",
       "      <td>IC</td>\n",
       "      <td>Invest Cont</td>\n",
       "      <td>946.0</td>\n",
       "      <td>NaN</td>\n",
       "      <td>NaN</td>\n",
       "      <td>NaN</td>\n",
       "      <td>1300 E  21ST                         ST</td>\n",
       "      <td>NaN</td>\n",
       "      <td>34.0224</td>\n",
       "      <td>-118.2524</td>\n",
       "    </tr>\n",
       "    <tr>\n",
       "      <th>3</th>\n",
       "      <td>90631215</td>\n",
       "      <td>01/05/2010 12:00:00 AM</td>\n",
       "      <td>01/05/2010 12:00:00 AM</td>\n",
       "      <td>150</td>\n",
       "      <td>6</td>\n",
       "      <td>Hollywood</td>\n",
       "      <td>646</td>\n",
       "      <td>2</td>\n",
       "      <td>900</td>\n",
       "      <td>VIOLATION OF COURT ORDER</td>\n",
       "      <td>...</td>\n",
       "      <td>IC</td>\n",
       "      <td>Invest Cont</td>\n",
       "      <td>900.0</td>\n",
       "      <td>998.0</td>\n",
       "      <td>NaN</td>\n",
       "      <td>NaN</td>\n",
       "      <td>CAHUENGA                     BL</td>\n",
       "      <td>HOLLYWOOD                    BL</td>\n",
       "      <td>34.1016</td>\n",
       "      <td>-118.3295</td>\n",
       "    </tr>\n",
       "    <tr>\n",
       "      <th>4</th>\n",
       "      <td>100100501</td>\n",
       "      <td>01/03/2010 12:00:00 AM</td>\n",
       "      <td>01/02/2010 12:00:00 AM</td>\n",
       "      <td>2100</td>\n",
       "      <td>1</td>\n",
       "      <td>Central</td>\n",
       "      <td>176</td>\n",
       "      <td>1</td>\n",
       "      <td>122</td>\n",
       "      <td>RAPE, ATTEMPTED</td>\n",
       "      <td>...</td>\n",
       "      <td>IC</td>\n",
       "      <td>Invest Cont</td>\n",
       "      <td>122.0</td>\n",
       "      <td>NaN</td>\n",
       "      <td>NaN</td>\n",
       "      <td>NaN</td>\n",
       "      <td>8TH                          ST</td>\n",
       "      <td>SAN PEDRO                    ST</td>\n",
       "      <td>34.0387</td>\n",
       "      <td>-118.2488</td>\n",
       "    </tr>\n",
       "  </tbody>\n",
       "</table>\n",
       "<p>5 rows × 28 columns</p>\n",
       "</div>"
      ],
      "text/plain": [
       "       DR_NO               Date Rptd                DATE OCC  TIME OCC  AREA   \\\n",
       "0    1307355  02/20/2010 12:00:00 AM  02/20/2010 12:00:00 AM      1350     13   \n",
       "1   11401303  09/13/2010 12:00:00 AM  09/12/2010 12:00:00 AM        45     14   \n",
       "2   70309629  08/09/2010 12:00:00 AM  08/09/2010 12:00:00 AM      1515     13   \n",
       "3   90631215  01/05/2010 12:00:00 AM  01/05/2010 12:00:00 AM       150      6   \n",
       "4  100100501  01/03/2010 12:00:00 AM  01/02/2010 12:00:00 AM      2100      1   \n",
       "\n",
       "   AREA NAME  Rpt Dist No  Part 1-2  Crm Cd  \\\n",
       "0     Newton         1385         2     900   \n",
       "1    Pacific         1485         2     740   \n",
       "2     Newton         1324         2     946   \n",
       "3  Hollywood          646         2     900   \n",
       "4    Central          176         1     122   \n",
       "\n",
       "                                         Crm Cd Desc    ...    Status  \\\n",
       "0                           VIOLATION OF COURT ORDER    ...        AA   \n",
       "1  VANDALISM - FELONY ($400 & OVER, ALL CHURCH VA...    ...        IC   \n",
       "2                          OTHER MISCELLANEOUS CRIME    ...        IC   \n",
       "3                           VIOLATION OF COURT ORDER    ...        IC   \n",
       "4                                    RAPE, ATTEMPTED    ...        IC   \n",
       "\n",
       "    Status Desc Crm Cd 1 Crm Cd 2  Crm Cd 3 Crm Cd 4  \\\n",
       "0  Adult Arrest    900.0      NaN       NaN      NaN   \n",
       "1   Invest Cont    740.0      NaN       NaN      NaN   \n",
       "2   Invest Cont    946.0      NaN       NaN      NaN   \n",
       "3   Invest Cont    900.0    998.0       NaN      NaN   \n",
       "4   Invest Cont    122.0      NaN       NaN      NaN   \n",
       "\n",
       "                                  LOCATION                     Cross Street  \\\n",
       "0   300 E  GAGE                         AV                              NaN   \n",
       "1          SEPULVEDA                    BL  MANCHESTER                   AV   \n",
       "2  1300 E  21ST                         ST                              NaN   \n",
       "3          CAHUENGA                     BL  HOLLYWOOD                    BL   \n",
       "4          8TH                          ST  SAN PEDRO                    ST   \n",
       "\n",
       "       LAT       LON  \n",
       "0  33.9825 -118.2695  \n",
       "1  33.9599 -118.3962  \n",
       "2  34.0224 -118.2524  \n",
       "3  34.1016 -118.3295  \n",
       "4  34.0387 -118.2488  \n",
       "\n",
       "[5 rows x 28 columns]"
      ]
     },
     "execution_count": 3,
     "metadata": {},
     "output_type": "execute_result"
    }
   ],
   "source": [
    "df.head()"
   ]
  },
  {
   "cell_type": "code",
   "execution_count": 4,
   "metadata": {},
   "outputs": [
    {
     "data": {
      "text/plain": [
       "Index(['DR_NO', 'Date Rptd', 'DATE OCC', 'TIME OCC', 'AREA ', 'AREA NAME',\n",
       "       'Rpt Dist No', 'Part 1-2', 'Crm Cd', 'Crm Cd Desc', 'Mocodes',\n",
       "       'Vict Age', 'Vict Sex', 'Vict Descent', 'Premis Cd', 'Premis Desc',\n",
       "       'Weapon Used Cd', 'Weapon Desc', 'Status', 'Status Desc', 'Crm Cd 1',\n",
       "       'Crm Cd 2', 'Crm Cd 3', 'Crm Cd 4', 'LOCATION', 'Cross Street', 'LAT',\n",
       "       'LON'],\n",
       "      dtype='object')"
      ]
     },
     "execution_count": 4,
     "metadata": {},
     "output_type": "execute_result"
    }
   ],
   "source": [
    "df.columns"
   ]
  },
  {
   "cell_type": "markdown",
   "metadata": {},
   "source": [
    "### Drop unneeded features of the dataset"
   ]
  },
  {
   "cell_type": "code",
   "execution_count": 5,
   "metadata": {},
   "outputs": [
    {
     "data": {
      "text/plain": [
       "Index(['DATE OCC', 'TIME OCC', 'AREA NAME', 'Crm Cd Desc', 'Vict Age',\n",
       "       'Vict Sex', 'Vict Descent', 'LAT', 'LON'],\n",
       "      dtype='object')"
      ]
     },
     "execution_count": 5,
     "metadata": {},
     "output_type": "execute_result"
    }
   ],
   "source": [
    "#drop columns irrelevant to our data analysis\n",
    "drop_cols = [\n",
    "    'DR_NO',\n",
    "    'Date Rptd',\n",
    "    'AREA ',\n",
    "    'Rpt Dist No',\n",
    "    'Part 1-2',\n",
    "    'Crm Cd',\n",
    "    'Premis Cd',\n",
    "    'Premis Desc',\n",
    "    'Weapon Used Cd',\n",
    "    'Weapon Desc',\n",
    "    'Mocodes',\n",
    "    'Status',\n",
    "    'Status Desc',\n",
    "    'Crm Cd 1',\n",
    "    'Crm Cd 2',\n",
    "    'Crm Cd 3',\n",
    "    'Crm Cd 4',\n",
    "    'Cross Street',\n",
    "    'LOCATION',\n",
    "]\n",
    "\n",
    "df = df.drop(drop_cols, axis=1)\n",
    "df.columns"
   ]
  },
  {
   "cell_type": "markdown",
   "metadata": {},
   "source": [
    "## Preprocessing \n",
    "### renaming columns for future use in analysis and visualization"
   ]
  },
  {
   "cell_type": "code",
   "execution_count": 6,
   "metadata": {},
   "outputs": [
    {
     "data": {
      "text/plain": [
       "Index(['DATE_OCC', 'TIME_OCC', 'AREA_NAME', 'Crm Cd Desc', 'Vict_Age',\n",
       "       'Vict_Sex', 'Vict_Descent', 'LAT', 'LON'],\n",
       "      dtype='object')"
      ]
     },
     "execution_count": 6,
     "metadata": {},
     "output_type": "execute_result"
    }
   ],
   "source": [
    "df.rename(columns={\"DATE OCC\": \"DATE_OCC\", \"TIME OCC\": \"TIME_OCC\",'AREA NAME':'AREA_NAME','Vict Age':'Vict_Age',\n",
    "        'Vict Sex':'Vict_Sex', 'Vict Descent': 'Vict_Descent'}, inplace = True)\n",
    "          \n",
    "df.columns"
   ]
  },
  {
   "cell_type": "code",
   "execution_count": 7,
   "metadata": {},
   "outputs": [],
   "source": [
    "# clean up date occurred to only contain month/day/year\n",
    "temp = df['DATE_OCC'].str.split(' ',n = 1, expand = True)\n",
    "temp2 = temp[0]\n",
    "df['DATE_OCC'] = temp2"
   ]
  },
  {
   "cell_type": "code",
   "execution_count": 8,
   "metadata": {
    "scrolled": true
   },
   "outputs": [
    {
     "data": {
      "text/html": [
       "<div>\n",
       "<style scoped>\n",
       "    .dataframe tbody tr th:only-of-type {\n",
       "        vertical-align: middle;\n",
       "    }\n",
       "\n",
       "    .dataframe tbody tr th {\n",
       "        vertical-align: top;\n",
       "    }\n",
       "\n",
       "    .dataframe thead th {\n",
       "        text-align: right;\n",
       "    }\n",
       "</style>\n",
       "<table border=\"1\" class=\"dataframe\">\n",
       "  <thead>\n",
       "    <tr style=\"text-align: right;\">\n",
       "      <th></th>\n",
       "      <th>DATE_OCC</th>\n",
       "      <th>TIME_OCC</th>\n",
       "      <th>AREA_NAME</th>\n",
       "      <th>Crm Cd Desc</th>\n",
       "      <th>Vict_Age</th>\n",
       "      <th>Vict_Sex</th>\n",
       "      <th>Vict_Descent</th>\n",
       "      <th>LAT</th>\n",
       "      <th>LON</th>\n",
       "    </tr>\n",
       "  </thead>\n",
       "  <tbody>\n",
       "    <tr>\n",
       "      <th>0</th>\n",
       "      <td>02/20/2010</td>\n",
       "      <td>1350</td>\n",
       "      <td>Newton</td>\n",
       "      <td>VIOLATION OF COURT ORDER</td>\n",
       "      <td>48</td>\n",
       "      <td>M</td>\n",
       "      <td>H</td>\n",
       "      <td>33.9825</td>\n",
       "      <td>-118.2695</td>\n",
       "    </tr>\n",
       "    <tr>\n",
       "      <th>1</th>\n",
       "      <td>09/12/2010</td>\n",
       "      <td>45</td>\n",
       "      <td>Pacific</td>\n",
       "      <td>VANDALISM - FELONY ($400 &amp; OVER, ALL CHURCH VA...</td>\n",
       "      <td>0</td>\n",
       "      <td>M</td>\n",
       "      <td>W</td>\n",
       "      <td>33.9599</td>\n",
       "      <td>-118.3962</td>\n",
       "    </tr>\n",
       "    <tr>\n",
       "      <th>2</th>\n",
       "      <td>08/09/2010</td>\n",
       "      <td>1515</td>\n",
       "      <td>Newton</td>\n",
       "      <td>OTHER MISCELLANEOUS CRIME</td>\n",
       "      <td>0</td>\n",
       "      <td>M</td>\n",
       "      <td>H</td>\n",
       "      <td>34.0224</td>\n",
       "      <td>-118.2524</td>\n",
       "    </tr>\n",
       "    <tr>\n",
       "      <th>3</th>\n",
       "      <td>01/05/2010</td>\n",
       "      <td>150</td>\n",
       "      <td>Hollywood</td>\n",
       "      <td>VIOLATION OF COURT ORDER</td>\n",
       "      <td>47</td>\n",
       "      <td>F</td>\n",
       "      <td>W</td>\n",
       "      <td>34.1016</td>\n",
       "      <td>-118.3295</td>\n",
       "    </tr>\n",
       "    <tr>\n",
       "      <th>4</th>\n",
       "      <td>01/02/2010</td>\n",
       "      <td>2100</td>\n",
       "      <td>Central</td>\n",
       "      <td>RAPE, ATTEMPTED</td>\n",
       "      <td>47</td>\n",
       "      <td>F</td>\n",
       "      <td>H</td>\n",
       "      <td>34.0387</td>\n",
       "      <td>-118.2488</td>\n",
       "    </tr>\n",
       "  </tbody>\n",
       "</table>\n",
       "</div>"
      ],
      "text/plain": [
       "     DATE_OCC  TIME_OCC  AREA_NAME  \\\n",
       "0  02/20/2010      1350     Newton   \n",
       "1  09/12/2010        45    Pacific   \n",
       "2  08/09/2010      1515     Newton   \n",
       "3  01/05/2010       150  Hollywood   \n",
       "4  01/02/2010      2100    Central   \n",
       "\n",
       "                                         Crm Cd Desc  Vict_Age Vict_Sex  \\\n",
       "0                           VIOLATION OF COURT ORDER        48        M   \n",
       "1  VANDALISM - FELONY ($400 & OVER, ALL CHURCH VA...         0        M   \n",
       "2                          OTHER MISCELLANEOUS CRIME         0        M   \n",
       "3                           VIOLATION OF COURT ORDER        47        F   \n",
       "4                                    RAPE, ATTEMPTED        47        F   \n",
       "\n",
       "  Vict_Descent      LAT       LON  \n",
       "0            H  33.9825 -118.2695  \n",
       "1            W  33.9599 -118.3962  \n",
       "2            H  34.0224 -118.2524  \n",
       "3            W  34.1016 -118.3295  \n",
       "4            H  34.0387 -118.2488  "
      ]
     },
     "execution_count": 8,
     "metadata": {},
     "output_type": "execute_result"
    }
   ],
   "source": [
    "df.head()"
   ]
  },
  {
   "cell_type": "markdown",
   "metadata": {},
   "source": [
    "### drop unusuable data"
   ]
  },
  {
   "cell_type": "code",
   "execution_count": 9,
   "metadata": {},
   "outputs": [],
   "source": [
    "#drop all unusable data\n",
    "df.dropna(inplace = True)\n",
    "df.reset_index(inplace = True)"
   ]
  },
  {
   "cell_type": "markdown",
   "metadata": {},
   "source": [
    "### Use unique crime code descriptions to identify violent and non-violent crimes"
   ]
  },
  {
   "cell_type": "code",
   "execution_count": 10,
   "metadata": {
    "scrolled": true
   },
   "outputs": [
    {
     "data": {
      "text/plain": [
       "array(['VIOLATION OF COURT ORDER',\n",
       "       'VANDALISM - FELONY ($400 & OVER, ALL CHURCH VANDALISMS)',\n",
       "       'OTHER MISCELLANEOUS CRIME', 'RAPE, ATTEMPTED',\n",
       "       'SHOPLIFTING - PETTY THEFT ($950 & UNDER)',\n",
       "       'BURGLARY FROM VEHICLE',\n",
       "       'ASSAULT WITH DEADLY WEAPON, AGGRAVATED ASSAULT',\n",
       "       'THEFT-GRAND ($950.01 & OVER)EXCPT,GUNS,FOWL,LIVESTK,PROD',\n",
       "       'BATTERY - SIMPLE ASSAULT', 'ROBBERY', 'BOMB SCARE',\n",
       "       'CHILD NEGLECT (SEE 300 W.I.C.)',\n",
       "       'INTIMATE PARTNER - AGGRAVATED ASSAULT',\n",
       "       'INTIMATE PARTNER - SIMPLE ASSAULT',\n",
       "       'THEFT PLAIN - PETTY ($950 & UNDER)',\n",
       "       'CRIMINAL THREATS - NO WEAPON DISPLAYED', 'ATTEMPTED ROBBERY',\n",
       "       'VANDALISM - MISDEAMEANOR ($399 OR UNDER)', 'BURGLARY', 'ARSON',\n",
       "       'RAPE, FORCIBLE', 'BRANDISH WEAPON',\n",
       "       'THROWING OBJECT AT MOVING VEHICLE',\n",
       "       'SHOPLIFTING-GRAND THEFT ($950.01 & OVER)',\n",
       "       'CHILD ABUSE (PHYSICAL) - SIMPLE ASSAULT',\n",
       "       'SHOTS FIRED AT INHABITED DWELLING',\n",
       "       'THEFT FROM MOTOR VEHICLE - GRAND ($400 AND OVER)',\n",
       "       'VEHICLE - STOLEN', 'KIDNAPPING - GRAND ATTEMPT',\n",
       "       'CRIMINAL HOMICIDE', 'THEFT PLAIN - ATTEMPT', 'THEFT, PERSON',\n",
       "       'TRESPASSING', 'KIDNAPPING', 'VEHICLE - ATTEMPT STOLEN',\n",
       "       'BATTERY WITH SEXUAL CONTACT', 'DOCUMENT FORGERY / STOLEN FELONY',\n",
       "       'BATTERY POLICE (SIMPLE)',\n",
       "       'CHILD ABUSE (PHYSICAL) - AGGRAVATED ASSAULT',\n",
       "       'DISTURBING THE PEACE', 'OTHER ASSAULT',\n",
       "       'VIOLATION OF RESTRAINING ORDER', 'LEWD CONDUCT',\n",
       "       'CRM AGNST CHLD (13 OR UNDER) (14-15 & SUSP 10 YRS OLDER)',\n",
       "       'THEFT OF IDENTITY',\n",
       "       'ASSAULT WITH DEADLY WEAPON ON POLICE OFFICER',\n",
       "       'CHILD ANNOYING (17YRS & UNDER)',\n",
       "       'SODOMY/SEXUAL CONTACT B/W PENIS OF ONE PERS TO ANUS OTH',\n",
       "       'ORAL COPULATION', 'CRUELTY TO ANIMALS',\n",
       "       'LETTERS, LEWD  -  TELEPHONE CALLS, LEWD', 'PEEPING TOM',\n",
       "       'THEFT FROM MOTOR VEHICLE - PETTY ($950 & UNDER)',\n",
       "       'INDECENT EXPOSURE', 'BIKE - STOLEN',\n",
       "       'BURGLARY FROM VEHICLE, ATTEMPTED', 'BURGLARY, ATTEMPTED',\n",
       "       'STALKING', 'THREATENING PHONE CALLS/LETTERS',\n",
       "       'SEX,UNLAWFUL(INC MUTUAL CONSENT, PENETRATION W/ FRGN OBJ',\n",
       "       'BUNCO, PETTY THEFT', 'VIOLATION OF TEMPORARY RESTRAINING ORDER',\n",
       "       'BUNCO, GRAND THEFT', 'EMBEZZLEMENT, GRAND THEFT ($950.01 & OVER)',\n",
       "       'SEXUAL PENETRATION W/FOREIGN OBJECT', 'EXTORTION', 'PICKPOCKET',\n",
       "       'EMBEZZLEMENT, PETTY THEFT ($950 & UNDER)', 'PURSE SNATCHING',\n",
       "       'WEAPONS POSSESSION/BOMBING', 'COUNTERFEIT',\n",
       "       'DEFRAUDING INNKEEPER/THEFT OF SERVICES, $400 & UNDER',\n",
       "       'FALSE IMPRISONMENT', 'CREDIT CARDS, FRAUD USE ($950.01 & OVER)',\n",
       "       'DISCHARGE FIREARMS/SHOTS FIRED',\n",
       "       'DEFRAUDING INNKEEPER/THEFT OF SERVICES, OVER $400',\n",
       "       'THEFT FROM PERSON - ATTEMPT', 'UNAUTHORIZED COMPUTER ACCESS',\n",
       "       'PANDERING', 'PIMPING', 'DRUNK ROLL - ATTEMPT',\n",
       "       'SHOPLIFTING - ATTEMPT', 'RESISTING ARREST',\n",
       "       'DISHONEST EMPLOYEE - GRAND THEFT', 'RECKLESS DRIVING', 'PROWLER',\n",
       "       'CREDIT CARDS, FRAUD USE ($950 & UNDER',\n",
       "       'DOCUMENT WORTHLESS ($200.01 & OVER)', 'CHILD STEALING',\n",
       "       'CONTEMPT OF COURT', 'CONSPIRACY',\n",
       "       'THEFT FROM MOTOR VEHICLE - ATTEMPT', 'DRUNK ROLL',\n",
       "       'BATTERY ON A FIREFIGHTER', 'ILLEGAL DUMPING', 'LYNCHING',\n",
       "       'THEFT, COIN MACHINE - PETTY ($950 & UNDER)',\n",
       "       'GRAND THEFT / INSURANCE FRAUD', 'BUNCO, ATTEMPT',\n",
       "       'DISRUPT SCHOOL', 'THEFT, COIN MACHINE - GRAND ($950.01 & OVER)',\n",
       "       'FALSE POLICE REPORT', 'PURSE SNATCHING - ATTEMPT',\n",
       "       'SHOTS FIRED AT MOVING VEHICLE, TRAIN OR AIRCRAFT',\n",
       "       'DRIVING WITHOUT OWNER CONSENT (DWOC)', 'CONTRIBUTING',\n",
       "       'FAILURE TO YIELD', 'TILL TAP - ATTEMPT', 'DRUGS, TO A MINOR',\n",
       "       'INCITING A RIOT',\n",
       "       'BEASTIALITY, CRIME AGAINST NATURE SEXUAL ASSLT WITH ANIM',\n",
       "       'BRIBERY', 'LYNCHING - ATTEMPTED', 'TELEPHONE PROPERTY - DAMAGE',\n",
       "       'CHILD ABANDONMENT', 'THEFT, COIN MACHINE - ATTEMPT',\n",
       "       'DISHONEST EMPLOYEE - PETTY THEFT', 'PETTY THEFT - AUTO REPAIR',\n",
       "       'BIGAMY', 'TILL TAP - PETTY ($950 & UNDER)',\n",
       "       'TILL TAP - GRAND THEFT ($950.01 & OVER)',\n",
       "       'DOCUMENT WORTHLESS ($200 & UNDER)', 'MANSLAUGHTER, NEGLIGENT',\n",
       "       'PICKPOCKET, ATTEMPT', 'GRAND THEFT / AUTO REPAIR',\n",
       "       'HUMAN TRAFFICKING - COMMERCIAL SEX ACTS',\n",
       "       'LEWD/LASCIVIOUS ACTS WITH CHILD', 'BIKE - ATTEMPTED STOLEN',\n",
       "       'FAILURE TO DISPERSE',\n",
       "       'REPLICA FIREARMS(SALE,DISPLAY,MANUFACTURE OR DISTRIBUTE)',\n",
       "       'BOAT - STOLEN', 'HUMAN TRAFFICKING - INVOLUNTARY SERVITUDE',\n",
       "       'CHILD PORNOGRAPHY', 'ABORTION/ILLEGAL',\n",
       "       'INCEST (SEXUAL ACTS BETWEEN BLOOD RELATIVES)',\n",
       "       'DISHONEST EMPLOYEE ATTEMPTED THEFT', 'TRAIN WRECKING',\n",
       "       'BLOCKING DOOR INDUCTION CENTER',\n",
       "       'FIREARMS RESTRAINING ORDER (FIREARMS RO)',\n",
       "       'VEHICLE - MOTORIZED SCOOTERS, BICYCLES, AND WHEELCHAIRS',\n",
       "       'FIREARMS TEMPORARY RESTRAINING ORDER (TEMP FIREARMS RO)'],\n",
       "      dtype=object)"
      ]
     },
     "execution_count": 10,
     "metadata": {},
     "output_type": "execute_result"
    }
   ],
   "source": [
    "df['Crm Cd Desc'].unique()"
   ]
  },
  {
   "cell_type": "code",
   "execution_count": 11,
   "metadata": {},
   "outputs": [],
   "source": [
    "#non-violent crimes list\n",
    "non_violent = ['ABORTION/ILLEGAL',\n",
    "    'BIGAMY',\n",
    "    'BIKE - ATTEMPTED STOLEN',\n",
    "    'BIKE - STOLEN',\n",
    "    'BLOCKING DOOR INDUCTION CENTER',\n",
    "    'BOAT - STOLEN',\n",
    "    'BRIBERY',\n",
    "    'BUNCO, ATTEMPT',\n",
    "    'BUNCO, GRAND THEFT',\n",
    "    'BUNCO, PETTY THEFT',\n",
    "    'BURGLARY',\n",
    "    'BURGLARY FROM VEHICLE',\n",
    "    'BURGLARY FROM VEHICLE, ATTEMPTED',\n",
    "    'BURGLARY, ATTEMPTED',\n",
    "    'CHILD ABANDONMENT',\n",
    "    'CHILD ANNOYING (17YRS & UNDER)',\n",
    "    'CHILD NEGLECT (SEE 300 W.I.C.)',\n",
    "    'CHILD PORNOGRAPHY',\n",
    "    'CONSPIRACY',\n",
    "    'CONTEMPT OF COURT',\n",
    "    'CONTRIBUTING',\n",
    "    'COUNTERFEIT',\n",
    "    'CREDIT CARDS, FRAUD USE ($950 & UNDER',\n",
    "    'CREDIT CARDS, FRAUD USE ($950.01 & OVER)',\n",
    "    'DEFRAUDING INNKEEPER/THEFT OF SERVICES, $400 & UNDER',\n",
    "    'DEFRAUDING INNKEEPER/THEFT OF SERVICES, OVER $400',\n",
    "    'DISHONEST EMPLOYEE - GRAND THEFT',\n",
    "    'DISHONEST EMPLOYEE - PETTY THEFT',\n",
    "    'DISHONEST EMPLOYEE ATTEMPTED THEFT',\n",
    "    'DISRUPT SCHOOL',\n",
    "    'DISTURBING THE PEACE',\n",
    "    'DOCUMENT FORGERY / STOLEN FELONY',\n",
    "    'DOCUMENT WORTHLESS ($200 & UNDER)',\n",
    "    'DOCUMENT WORTHLESS ($200.01 & OVER)',\n",
    "    'DRIVING WITHOUT OWNER CONSENT (DWOC)',\n",
    "    'DRUGS, TO A MINOR',\n",
    "    'DRUNK ROLL',\n",
    "    'DRUNK ROLL - ATTEMPT',\n",
    "    'EMBEZZLEMENT, GRAND THEFT ($950.01 & OVER)',\n",
    "    'EMBEZZLEMENT, PETTY THEFT ($950 & UNDER)',\n",
    "    'EXTORTION',\n",
    "    'FAILURE TO DISPERSE',\n",
    "    'FAILURE TO YIELD',\n",
    "    'FALSE IMPRISONMENT',\n",
    "    'FALSE POLICE REPORT',\n",
    "    'FIREARMS RESTRAINING ORDER (FIREARMS RO)',\n",
    "    'FIREARMS TEMPORARY RESTRAINING ORDER (TEMP FIREARMS RO)',\n",
    "    'GRAND THEFT / AUTO REPAIR',\n",
    "    'GRAND THEFT / INSURANCE FRAUD',\n",
    "    'ILLEGAL DUMPING',\n",
    "    'INCEST (SEXUAL ACTS BETWEEN BLOOD RELATIVES)',\n",
    "    'INDECENT EXPOSURE',\n",
    "    'LETTERS, LEWD - TELEPHONE CALLS, LEWD',\n",
    "    'OTHER MISCELLANEOUS CRIME',\n",
    "    'PANDERING',\n",
    "    'PEEPING TOM',\n",
    "    'PETTY THEFT - AUTO REPAIR',\n",
    "    'PICKPOCKET',\n",
    "    'PICKPOCKET, ATTEMPT',\n",
    "    'REPLICA FIREARMS(SALE,DISPLAY,MANUFACTURE OR DISTRIBUTE)',\n",
    "    'SHOPLIFTING - ATTEMPT',\n",
    "    'SHOPLIFTING - PETTY THEFT ($950 & UNDER)',\n",
    "    'SHOPLIFTING-GRAND THEFT ($950.01 & OVER)',\n",
    "    'THEFT FROM MOTOR VEHICLE - ATTEMPT',\n",
    "    'THEFT FROM MOTOR VEHICLE - GRAND ($400 AND OVER)',\n",
    "    'THEFT FROM MOTOR VEHICLE - PETTY ($950 & UNDER)',\n",
    "    'THEFT OF IDENTITY',\n",
    "    'THEFT PLAIN - ATTEMPT',\n",
    "    'THEFT PLAIN - PETTY ($950 & UNDER)',\n",
    "    'THEFT, COIN MACHINE - ATTEMPT',\n",
    "    'THEFT, COIN MACHINE - GRAND ($950.01 & OVER)',\n",
    "    'THEFT, COIN MACHINE - PETTY ($950 & UNDER)',\n",
    "    'THEFT-GRAND ($950.01 & OVER)EXCPT,GUNS,FOWL',\n",
    "    'TILL TAP - ATTEMPT',\n",
    "    'TILL TAP - GRAND THEFT ($950.01 & OVER)',\n",
    "    'TILL TAP - PETTY ($950 & UNDER)',\n",
    "    'TRESPASSING',\n",
    "    'UNAUTHORIZED COMPUTER ACCESS',\n",
    "    'VANDALISM - FELONY ($400 & OVER, ALL CHURCH VANDALISMS)',\n",
    "    'VANDALISM - MISDEAMEANOR ($399 OR UNDER)',\n",
    "    'VEHICLE - ATTEMPT STOLEN',\n",
    "    'VEHICLE - STOLEN',\n",
    "    'VIOLATION OF COURT ORDER',\n",
    "    'VIOLATION OF RESTRAINING ORDER',\n",
    "    'VIOLATION OF TEMPORARY RESTRAINING ORDER',\n",
    "]"
   ]
  },
  {
   "cell_type": "markdown",
   "metadata": {},
   "source": [
    "### Using non-violent crimes list - create new column identifying violent crimes as 1 and non-violent as 0"
   ]
  },
  {
   "cell_type": "code",
   "execution_count": 12,
   "metadata": {},
   "outputs": [],
   "source": [
    "#create new column of violent and non-violent crimes\n",
    "violent_crime = []\n",
    "\n",
    "for index in range(len(df['Crm Cd Desc'])):\n",
    "    if df['Crm Cd Desc'][index] in non_violent:\n",
    "        violent_crime.append(0)\n",
    "    else:\n",
    "        violent_crime.append(1)"
   ]
  },
  {
   "cell_type": "code",
   "execution_count": 13,
   "metadata": {},
   "outputs": [
    {
     "data": {
      "text/html": [
       "<div>\n",
       "<style scoped>\n",
       "    .dataframe tbody tr th:only-of-type {\n",
       "        vertical-align: middle;\n",
       "    }\n",
       "\n",
       "    .dataframe tbody tr th {\n",
       "        vertical-align: top;\n",
       "    }\n",
       "\n",
       "    .dataframe thead th {\n",
       "        text-align: right;\n",
       "    }\n",
       "</style>\n",
       "<table border=\"1\" class=\"dataframe\">\n",
       "  <thead>\n",
       "    <tr style=\"text-align: right;\">\n",
       "      <th></th>\n",
       "      <th>index</th>\n",
       "      <th>DATE_OCC</th>\n",
       "      <th>TIME_OCC</th>\n",
       "      <th>AREA_NAME</th>\n",
       "      <th>Crm Cd Desc</th>\n",
       "      <th>Vict_Age</th>\n",
       "      <th>Vict_Sex</th>\n",
       "      <th>Vict_Descent</th>\n",
       "      <th>LAT</th>\n",
       "      <th>LON</th>\n",
       "      <th>violent_crime</th>\n",
       "    </tr>\n",
       "  </thead>\n",
       "  <tbody>\n",
       "    <tr>\n",
       "      <th>0</th>\n",
       "      <td>0</td>\n",
       "      <td>02/20/2010</td>\n",
       "      <td>1350</td>\n",
       "      <td>Newton</td>\n",
       "      <td>VIOLATION OF COURT ORDER</td>\n",
       "      <td>48</td>\n",
       "      <td>M</td>\n",
       "      <td>H</td>\n",
       "      <td>33.9825</td>\n",
       "      <td>-118.2695</td>\n",
       "      <td>0</td>\n",
       "    </tr>\n",
       "    <tr>\n",
       "      <th>1</th>\n",
       "      <td>1</td>\n",
       "      <td>09/12/2010</td>\n",
       "      <td>45</td>\n",
       "      <td>Pacific</td>\n",
       "      <td>VANDALISM - FELONY ($400 &amp; OVER, ALL CHURCH VA...</td>\n",
       "      <td>0</td>\n",
       "      <td>M</td>\n",
       "      <td>W</td>\n",
       "      <td>33.9599</td>\n",
       "      <td>-118.3962</td>\n",
       "      <td>0</td>\n",
       "    </tr>\n",
       "    <tr>\n",
       "      <th>2</th>\n",
       "      <td>2</td>\n",
       "      <td>08/09/2010</td>\n",
       "      <td>1515</td>\n",
       "      <td>Newton</td>\n",
       "      <td>OTHER MISCELLANEOUS CRIME</td>\n",
       "      <td>0</td>\n",
       "      <td>M</td>\n",
       "      <td>H</td>\n",
       "      <td>34.0224</td>\n",
       "      <td>-118.2524</td>\n",
       "      <td>0</td>\n",
       "    </tr>\n",
       "    <tr>\n",
       "      <th>3</th>\n",
       "      <td>3</td>\n",
       "      <td>01/05/2010</td>\n",
       "      <td>150</td>\n",
       "      <td>Hollywood</td>\n",
       "      <td>VIOLATION OF COURT ORDER</td>\n",
       "      <td>47</td>\n",
       "      <td>F</td>\n",
       "      <td>W</td>\n",
       "      <td>34.1016</td>\n",
       "      <td>-118.3295</td>\n",
       "      <td>0</td>\n",
       "    </tr>\n",
       "    <tr>\n",
       "      <th>4</th>\n",
       "      <td>4</td>\n",
       "      <td>01/02/2010</td>\n",
       "      <td>2100</td>\n",
       "      <td>Central</td>\n",
       "      <td>RAPE, ATTEMPTED</td>\n",
       "      <td>47</td>\n",
       "      <td>F</td>\n",
       "      <td>H</td>\n",
       "      <td>34.0387</td>\n",
       "      <td>-118.2488</td>\n",
       "      <td>1</td>\n",
       "    </tr>\n",
       "  </tbody>\n",
       "</table>\n",
       "</div>"
      ],
      "text/plain": [
       "   index    DATE_OCC  TIME_OCC  AREA_NAME  \\\n",
       "0      0  02/20/2010      1350     Newton   \n",
       "1      1  09/12/2010        45    Pacific   \n",
       "2      2  08/09/2010      1515     Newton   \n",
       "3      3  01/05/2010       150  Hollywood   \n",
       "4      4  01/02/2010      2100    Central   \n",
       "\n",
       "                                         Crm Cd Desc  Vict_Age Vict_Sex  \\\n",
       "0                           VIOLATION OF COURT ORDER        48        M   \n",
       "1  VANDALISM - FELONY ($400 & OVER, ALL CHURCH VA...         0        M   \n",
       "2                          OTHER MISCELLANEOUS CRIME         0        M   \n",
       "3                           VIOLATION OF COURT ORDER        47        F   \n",
       "4                                    RAPE, ATTEMPTED        47        F   \n",
       "\n",
       "  Vict_Descent      LAT       LON  violent_crime  \n",
       "0            H  33.9825 -118.2695              0  \n",
       "1            W  33.9599 -118.3962              0  \n",
       "2            H  34.0224 -118.2524              0  \n",
       "3            W  34.1016 -118.3295              0  \n",
       "4            H  34.0387 -118.2488              1  "
      ]
     },
     "execution_count": 13,
     "metadata": {},
     "output_type": "execute_result"
    }
   ],
   "source": [
    "df['violent_crime'] = violent_crime\n",
    "df.head()"
   ]
  },
  {
   "cell_type": "markdown",
   "metadata": {},
   "source": [
    "### Check range of coordinate values and drop crimes that do not have a location attached to them"
   ]
  },
  {
   "cell_type": "code",
   "execution_count": 14,
   "metadata": {},
   "outputs": [
    {
     "name": "stdout",
     "output_type": "stream",
     "text": [
      "The max and min longitude values are 0.0 & -118.8279\n",
      "The max and min latitude values are 34.7907 & 0.0\n"
     ]
    }
   ],
   "source": [
    "#get max and min longitude\n",
    "print('The max and min longitude values are ' + str(np.max(df['LON'])) + ' & ' + str(np.min(df['LON'])))\n",
    "#get max and min latitude\n",
    "print('The max and min latitude values are ' + str(np.max(df['LAT'])) + ' & ' + str(np.min(df['LAT'])))\n",
    "#plot LAT v LON to visualize where crimes occur in LA\n"
   ]
  },
  {
   "cell_type": "code",
   "execution_count": 15,
   "metadata": {},
   "outputs": [],
   "source": [
    "#drop all rows where lat or longitude = 0\n",
    "df = df[df['LAT'] != 0]"
   ]
  },
  {
   "cell_type": "code",
   "execution_count": 16,
   "metadata": {},
   "outputs": [
    {
     "name": "stdout",
     "output_type": "stream",
     "text": [
      "The max and min longitude values are -117.6596 & -118.8279\n",
      "The max and min latitude values are 34.7907 & 33.3427\n"
     ]
    }
   ],
   "source": [
    "#get max and min longitude\n",
    "print('The max and min longitude values are ' + str(np.max(df['LON'])) + ' & ' + str(np.min(df['LON'])))\n",
    "#get max and min latitude\n",
    "print('The max and min latitude values are ' + str(np.max(df['LAT'])) + ' & ' + str(np.min(df['LAT'])))\n",
    "#plot LAT v LON to visualize where crimes occur in LA"
   ]
  },
  {
   "cell_type": "markdown",
   "metadata": {},
   "source": [
    "### check unique values for each predictor to identify ways we may need to manipulate them"
   ]
  },
  {
   "cell_type": "code",
   "execution_count": 17,
   "metadata": {
    "scrolled": true
   },
   "outputs": [
    {
     "data": {
      "text/plain": [
       "array(['Newton', 'Pacific', 'Hollywood', 'Central', 'Northeast',\n",
       "       'Hollenbeck', 'Southwest', 'Rampart', 'Olympic', 'Wilshire',\n",
       "       '77th Street', 'Harbor', 'Southeast', 'Van Nuys', 'West Valley',\n",
       "       'West LA', 'Topanga', 'Mission', 'N Hollywood', 'Devonshire',\n",
       "       'Foothill'], dtype=object)"
      ]
     },
     "execution_count": 17,
     "metadata": {},
     "output_type": "execute_result"
    }
   ],
   "source": [
    "df['AREA_NAME'].unique()"
   ]
  },
  {
   "cell_type": "code",
   "execution_count": 18,
   "metadata": {
    "scrolled": false
   },
   "outputs": [
    {
     "data": {
      "text/plain": [
       "array([48,  0, 47, 23, 46, 51, 30, 55, 38, 40, 24, 29, 41, 11, 50, 18, 37,\n",
       "       28, 25, 31, 36, 61, 27, 32, 45, 22, 35, 44, 20, 33, 26, 52, 62, 39,\n",
       "       54, 76, 16, 21, 57, 34, 65,  5, 49, 58, 56, 59, 42,  9, 60, 92, 43,\n",
       "       19, 15, 17, 63, 83,  6, 13, 12,  7, 53, 10, 99, 74, 84, 68, 82, 66,\n",
       "       64, 14, 69, 70, 71, 73, 78, 67, 80, 81, 72, 86, 79, 75, 77,  2,  4,\n",
       "        8, 93, 85,  3, 91, 89, 87, 90, 88, 96, 95, 97, 98, 94, -1, -2, -3,\n",
       "       -4, -6, -5, -7, -9, -8], dtype=int64)"
      ]
     },
     "execution_count": 18,
     "metadata": {},
     "output_type": "execute_result"
    }
   ],
   "source": [
    "df['Vict_Age'].unique()"
   ]
  },
  {
   "cell_type": "code",
   "execution_count": 19,
   "metadata": {},
   "outputs": [
    {
     "data": {
      "text/plain": [
       "array(['M', 'F', 'X', 'H', '-', 'N'], dtype=object)"
      ]
     },
     "execution_count": 19,
     "metadata": {},
     "output_type": "execute_result"
    }
   ],
   "source": [
    "df['Vict_Sex'].unique()"
   ]
  },
  {
   "cell_type": "markdown",
   "metadata": {},
   "source": [
    "### Create new dataframe which will be used for analysis \n",
    "### simplify data to binary M/F - 1/0"
   ]
  },
  {
   "cell_type": "code",
   "execution_count": 20,
   "metadata": {},
   "outputs": [
    {
     "data": {
      "text/plain": [
       "array(['M', 'F'], dtype=object)"
      ]
     },
     "execution_count": 20,
     "metadata": {},
     "output_type": "execute_result"
    }
   ],
   "source": [
    "df_analyze = df[df['Vict_Sex'] == 'M']\n",
    "df_analyze = df_analyze.append(df[df['Vict_Sex'] == 'F'])\n",
    "df_analyze['Vict_Sex'].unique()"
   ]
  },
  {
   "cell_type": "code",
   "execution_count": 21,
   "metadata": {},
   "outputs": [
    {
     "data": {
      "image/png": "[encoded data removed]",
      "text/plain": [
       "<Figure size 432x288 with 1 Axes>"
      ]
     },
     "metadata": {
      "needs_background": "light"
     },
     "output_type": "display_data"
    }
   ],
   "source": [
    "df['Vict_Descent'].value_counts().plot(kind = 'bar')\n",
    "\n",
    "f1 = plt.gcf()"
   ]
  },
  {
   "cell_type": "code",
   "execution_count": 22,
   "metadata": {},
   "outputs": [
    {
     "data": {
      "text/html": [
       "<div>\n",
       "<style scoped>\n",
       "    .dataframe tbody tr th:only-of-type {\n",
       "        vertical-align: middle;\n",
       "    }\n",
       "\n",
       "    .dataframe tbody tr th {\n",
       "        vertical-align: top;\n",
       "    }\n",
       "\n",
       "    .dataframe thead th {\n",
       "        text-align: right;\n",
       "    }\n",
       "</style>\n",
       "<table border=\"1\" class=\"dataframe\">\n",
       "  <thead>\n",
       "    <tr style=\"text-align: right;\">\n",
       "      <th></th>\n",
       "      <th>level_0</th>\n",
       "      <th>index</th>\n",
       "      <th>DATE_OCC</th>\n",
       "      <th>TIME_OCC</th>\n",
       "      <th>AREA_NAME</th>\n",
       "      <th>Crm Cd Desc</th>\n",
       "      <th>Vict_Age</th>\n",
       "      <th>Vict_Sex</th>\n",
       "      <th>Vict_Descent</th>\n",
       "      <th>LAT</th>\n",
       "      <th>LON</th>\n",
       "      <th>violent_crime</th>\n",
       "    </tr>\n",
       "  </thead>\n",
       "  <tbody>\n",
       "    <tr>\n",
       "      <th>0</th>\n",
       "      <td>0</td>\n",
       "      <td>0</td>\n",
       "      <td>02/20/2010</td>\n",
       "      <td>1350</td>\n",
       "      <td>Newton</td>\n",
       "      <td>VIOLATION OF COURT ORDER</td>\n",
       "      <td>48</td>\n",
       "      <td>M</td>\n",
       "      <td>H</td>\n",
       "      <td>33.9825</td>\n",
       "      <td>-118.2695</td>\n",
       "      <td>0</td>\n",
       "    </tr>\n",
       "    <tr>\n",
       "      <th>1</th>\n",
       "      <td>1</td>\n",
       "      <td>1</td>\n",
       "      <td>09/12/2010</td>\n",
       "      <td>45</td>\n",
       "      <td>Pacific</td>\n",
       "      <td>VANDALISM - FELONY ($400 &amp; OVER, ALL CHURCH VA...</td>\n",
       "      <td>0</td>\n",
       "      <td>M</td>\n",
       "      <td>W</td>\n",
       "      <td>33.9599</td>\n",
       "      <td>-118.3962</td>\n",
       "      <td>0</td>\n",
       "    </tr>\n",
       "    <tr>\n",
       "      <th>2</th>\n",
       "      <td>2</td>\n",
       "      <td>2</td>\n",
       "      <td>08/09/2010</td>\n",
       "      <td>1515</td>\n",
       "      <td>Newton</td>\n",
       "      <td>OTHER MISCELLANEOUS CRIME</td>\n",
       "      <td>0</td>\n",
       "      <td>M</td>\n",
       "      <td>H</td>\n",
       "      <td>34.0224</td>\n",
       "      <td>-118.2524</td>\n",
       "      <td>0</td>\n",
       "    </tr>\n",
       "    <tr>\n",
       "      <th>3</th>\n",
       "      <td>5</td>\n",
       "      <td>5</td>\n",
       "      <td>01/04/2010</td>\n",
       "      <td>1650</td>\n",
       "      <td>Central</td>\n",
       "      <td>SHOPLIFTING - PETTY THEFT ($950 &amp; UNDER)</td>\n",
       "      <td>23</td>\n",
       "      <td>M</td>\n",
       "      <td>B</td>\n",
       "      <td>34.0480</td>\n",
       "      <td>-118.2577</td>\n",
       "      <td>0</td>\n",
       "    </tr>\n",
       "    <tr>\n",
       "      <th>4</th>\n",
       "      <td>6</td>\n",
       "      <td>6</td>\n",
       "      <td>01/07/2010</td>\n",
       "      <td>2005</td>\n",
       "      <td>Central</td>\n",
       "      <td>BURGLARY FROM VEHICLE</td>\n",
       "      <td>46</td>\n",
       "      <td>M</td>\n",
       "      <td>H</td>\n",
       "      <td>34.0389</td>\n",
       "      <td>-118.2643</td>\n",
       "      <td>0</td>\n",
       "    </tr>\n",
       "  </tbody>\n",
       "</table>\n",
       "</div>"
      ],
      "text/plain": [
       "   level_0  index    DATE_OCC  TIME_OCC AREA_NAME  \\\n",
       "0        0      0  02/20/2010      1350    Newton   \n",
       "1        1      1  09/12/2010        45   Pacific   \n",
       "2        2      2  08/09/2010      1515    Newton   \n",
       "3        5      5  01/04/2010      1650   Central   \n",
       "4        6      6  01/07/2010      2005   Central   \n",
       "\n",
       "                                         Crm Cd Desc  Vict_Age Vict_Sex  \\\n",
       "0                           VIOLATION OF COURT ORDER        48        M   \n",
       "1  VANDALISM - FELONY ($400 & OVER, ALL CHURCH VA...         0        M   \n",
       "2                          OTHER MISCELLANEOUS CRIME         0        M   \n",
       "3           SHOPLIFTING - PETTY THEFT ($950 & UNDER)        23        M   \n",
       "4                              BURGLARY FROM VEHICLE        46        M   \n",
       "\n",
       "  Vict_Descent      LAT       LON  violent_crime  \n",
       "0            H  33.9825 -118.2695              0  \n",
       "1            W  33.9599 -118.3962              0  \n",
       "2            H  34.0224 -118.2524              0  \n",
       "3            B  34.0480 -118.2577              0  \n",
       "4            H  34.0389 -118.2643              0  "
      ]
     },
     "execution_count": 22,
     "metadata": {},
     "output_type": "execute_result"
    }
   ],
   "source": [
    "df_analyze.reset_index(inplace = True)\n",
    "df_analyze.head()"
   ]
  },
  {
   "cell_type": "markdown",
   "metadata": {},
   "source": [
    "### change all descents that are not white, black, or hispanic to 'other' and drop unknown descents"
   ]
  },
  {
   "cell_type": "code",
   "execution_count": 23,
   "metadata": {},
   "outputs": [],
   "source": [
    "#remove X = unknown and ' = not listed\n",
    "convert_other_lst = ['A','K','F','C','I','J','P','V','U','Z','G','S','D','L']\n",
    "descent_lst = []\n",
    "for index in range(len(df_analyze['Vict_Descent'])):\n",
    "    if df_analyze['Vict_Descent'][index] in convert_other_lst:\n",
    "        descent_lst.append('O')\n",
    "    else:\n",
    "        descent_lst.append(df_analyze['Vict_Descent'][index])\n"
   ]
  },
  {
   "cell_type": "code",
   "execution_count": 24,
   "metadata": {},
   "outputs": [],
   "source": [
    "df_analyze['Vict_Descent'] = descent_lst\n",
    "df_analyze = df_analyze[df_analyze['Vict_Descent'] != 'X']\n",
    "df_analyze = df_analyze[df_analyze['Vict_Descent'] != '-']"
   ]
  },
  {
   "cell_type": "markdown",
   "metadata": {},
   "source": [
    "### convert time occurred to day and night"
   ]
  },
  {
   "cell_type": "code",
   "execution_count": 25,
   "metadata": {},
   "outputs": [],
   "source": [
    "#day = 6am - 6pm\n",
    "#night = 6pm - 6am\n",
    "\n",
    "time_lst = []\n",
    "for time in  df_analyze['TIME_OCC']:\n",
    "    if time >= 600 and time < 1800:\n",
    "        time_lst.append('Day')\n",
    "    else:\n",
    "        time_lst.append('Night')\n"
   ]
  },
  {
   "cell_type": "code",
   "execution_count": 26,
   "metadata": {},
   "outputs": [],
   "source": [
    "df_analyze['TIME_OCC'] = time_lst"
   ]
  },
  {
   "cell_type": "markdown",
   "metadata": {},
   "source": [
    "### remove rows with ages <= 0"
   ]
  },
  {
   "cell_type": "code",
   "execution_count": 27,
   "metadata": {},
   "outputs": [
    {
     "data": {
      "text/plain": [
       "array([48, 23, 46, 51, 30, 55, 40, 47, 41, 11, 50, 37, 28, 31, 36, 27, 24,\n",
       "       35, 44, 20, 33, 26, 62, 54, 76, 22, 34, 65,  5, 49, 57, 58, 56, 45,\n",
       "       59, 61, 32, 18, 39,  9, 60, 21, 38, 43, 15, 42, 52, 63, 17,  6, 25,\n",
       "       19, 29,  7, 53, 99, 16, 82, 64, 69, 70, 71, 67, 80, 92, 81, 72, 14,\n",
       "       74, 12, 73, 66, 79, 68, 77,  2, 84, 75, 13, 78, 85,  4,  8, 10, 86,\n",
       "        3, 91, 87, 93, 83, 89, 90, 88, 95, 97, 94, 96, 98], dtype=int64)"
      ]
     },
     "execution_count": 27,
     "metadata": {},
     "output_type": "execute_result"
    }
   ],
   "source": [
    "#remove rows with Age <= 0\n",
    "df_analyze = df_analyze[df_analyze['Vict_Age'] > 0]\n",
    "df_analyze['Vict_Age'].unique()"
   ]
  },
  {
   "cell_type": "markdown",
   "metadata": {},
   "source": [
    "## Display length of new dataframe that will be analyzed"
   ]
  },
  {
   "cell_type": "code",
   "execution_count": 86,
   "metadata": {},
   "outputs": [
    {
     "data": {
      "text/plain": [
       "1704472"
      ]
     },
     "execution_count": 86,
     "metadata": {},
     "output_type": "execute_result"
    }
   ],
   "source": [
    "len(df_analyze)"
   ]
  },
  {
   "cell_type": "markdown",
   "metadata": {},
   "source": [
    "# Data Visualization\n",
    "## Plotting latitude vs longitude to 'map' where crimes occur"
   ]
  },
  {
   "cell_type": "code",
   "execution_count": 33,
   "metadata": {},
   "outputs": [
    {
     "name": "stdout",
     "output_type": "stream",
     "text": [
      "The max and min longitude values are -117.6596 & -118.8279\n",
      "The max and min latitude values are 34.7907 & 33.3427\n"
     ]
    }
   ],
   "source": [
    "#get max and min longitude\n",
    "print('The max and min longitude values are ' + str(np.max(df_analyze['LON'])) + ' & ' + str(np.min(df_analyze['LON'])))\n",
    "#get max and min latitude\n",
    "print('The max and min latitude values are ' + str(np.max(df_analyze['LAT'])) + ' & ' + str(np.min(df_analyze['LAT'])))\n",
    "#plot LAT v LON to visualize where crimes occur in LA"
   ]
  },
  {
   "cell_type": "code",
   "execution_count": 34,
   "metadata": {
    "scrolled": true
   },
   "outputs": [
    {
     "data": {
      "text/plain": [
       "Text(0.5, 0, 'Longitude')"
      ]
     },
     "execution_count": 34,
     "metadata": {},
     "output_type": "execute_result"
    },
    {
     "data": {
      "image/png": "[encoded data removed]",
      "text/plain": [
       "<Figure size 432x288 with 1 Axes>"
      ]
     },
     "metadata": {
      "needs_background": "light"
     },
     "output_type": "display_data"
    }
   ],
   "source": [
    "#plot of all crimes lat v lon\n",
    "plt.scatter(df['LON'],df['LAT'])\n",
    "plt.xlim([-117.6596,-118.8279])\n",
    "plt.ylim([33.3427, 34.7907])\n",
    "plt.ylabel('Latitude')\n",
    "plt.xlabel('Longitude')"
   ]
  },
  {
   "cell_type": "code",
   "execution_count": 35,
   "metadata": {},
   "outputs": [
    {
     "data": {
      "text/plain": [
       "Text(0.5, 0, 'Longitude')"
      ]
     },
     "execution_count": 35,
     "metadata": {},
     "output_type": "execute_result"
    },
    {
     "data": {
      "image/png": "[encoded data removed]",
      "text/plain": [
       "<Figure size 432x288 with 1 Axes>"
      ]
     },
     "metadata": {
      "needs_background": "light"
     },
     "output_type": "display_data"
    }
   ],
   "source": [
    "plt.scatter(df_analyze['LON'],df_analyze['LAT'])\n",
    "plt.xlim([-118.465381,-118.138795])\n",
    "plt.ylim([34.016907, 34.105999])\n",
    "plt.ylabel('Latitude')\n",
    "plt.xlabel('Longitude')"
   ]
  },
  {
   "cell_type": "code",
   "execution_count": 36,
   "metadata": {},
   "outputs": [],
   "source": [
    "#make separate data frames to hold only mature and immature gene expression sets\n",
    "data_v = df_analyze[df_analyze['violent_crime'] == 1]\n",
    "#data_mature.head()\n",
    "data_nv = df_analyze[df_analyze['violent_crime'] == 0]\n",
    "#data_immature.head()"
   ]
  },
  {
   "cell_type": "markdown",
   "metadata": {},
   "source": [
    "## plot violent vs non-violent crimes\n",
    "\n",
    "### almost all crimes have overlap with violent/non-violent"
   ]
  },
  {
   "cell_type": "code",
   "execution_count": 37,
   "metadata": {
    "scrolled": true
   },
   "outputs": [
    {
     "data": {
      "text/plain": [
       "<matplotlib.legend.Legend at 0x2149056fc88>"
      ]
     },
     "execution_count": 37,
     "metadata": {},
     "output_type": "execute_result"
    },
    {
     "data": {
      "image/png": "[encoded data removed]",
      "text/plain": [
       "<Figure size 432x288 with 1 Axes>"
      ]
     },
     "metadata": {
      "needs_background": "light"
     },
     "output_type": "display_data"
    }
   ],
   "source": [
    "#plot violent data as red\n",
    "plt.scatter(data_v['LON'], data_v['LAT'], c = 'red',s = 10, label = 'vio')\n",
    "# plot nonviolent data as blue\n",
    "plt.scatter(data_nv['LON'], data_nv['LAT'], c = 'blue',s = 10, label = 'nvio')\n",
    "#create labels\n",
    "plt.xlabel('Longitude')\n",
    "plt.ylabel('Latitude')\n",
    "plt.title('Violent vs Non-Violent')\n",
    "plt.legend(loc = 'best')"
   ]
  },
  {
   "cell_type": "markdown",
   "metadata": {},
   "source": [
    "## Bar graphs for how many crimes were committed for different predictors"
   ]
  },
  {
   "cell_type": "code",
   "execution_count": 40,
   "metadata": {
    "scrolled": true
   },
   "outputs": [
    {
     "data": {
      "image/png": "[encoded data removed]",
      "text/plain": [
       "<Figure size 432x288 with 1 Axes>"
      ]
     },
     "metadata": {
      "needs_background": "light"
     },
     "output_type": "display_data"
    }
   ],
   "source": [
    "df_analyze['TIME_OCC'].value_counts()[:10].plot(kind = 'bar')\n",
    "\n",
    "f0 = plt.gcf()"
   ]
  },
  {
   "cell_type": "code",
   "execution_count": 41,
   "metadata": {},
   "outputs": [
    {
     "data": {
      "image/png": "[encoded data removed]",
      "text/plain": [
       "<Figure size 432x288 with 1 Axes>"
      ]
     },
     "metadata": {
      "needs_background": "light"
     },
     "output_type": "display_data"
    }
   ],
   "source": [
    "df_analyze['DATE_OCC'].value_counts()[:10].plot(kind = 'bar')\n",
    "\n",
    "f1 = plt.gcf()"
   ]
  },
  {
   "cell_type": "code",
   "execution_count": 42,
   "metadata": {},
   "outputs": [
    {
     "data": {
      "image/png": "[encoded data removed]",
      "text/plain": [
       "<Figure size 432x288 with 1 Axes>"
      ]
     },
     "metadata": {
      "needs_background": "light"
     },
     "output_type": "display_data"
    }
   ],
   "source": [
    "df_analyze['AREA_NAME'].value_counts().plot(kind = 'bar')\n",
    "\n",
    "f2 = plt.gcf()"
   ]
  },
  {
   "cell_type": "code",
   "execution_count": 43,
   "metadata": {},
   "outputs": [
    {
     "data": {
      "image/png": "[encoded data removed]",
      "text/plain": [
       "<Figure size 432x288 with 1 Axes>"
      ]
     },
     "metadata": {
      "needs_background": "light"
     },
     "output_type": "display_data"
    }
   ],
   "source": [
    "df_analyze['Vict_Age'].value_counts()[:10].plot(kind = 'bar')\n",
    "\n",
    "f3 = plt.gcf()"
   ]
  },
  {
   "cell_type": "code",
   "execution_count": 44,
   "metadata": {
    "scrolled": true
   },
   "outputs": [
    {
     "data": {
      "image/png": "[encoded data removed]",
      "text/plain": [
       "<Figure size 432x288 with 1 Axes>"
      ]
     },
     "metadata": {
      "needs_background": "light"
     },
     "output_type": "display_data"
    }
   ],
   "source": [
    "df_analyze['Vict_Descent'].value_counts().plot(kind = 'bar')\n",
    "\n",
    "f4 = plt.gcf()"
   ]
  },
  {
   "cell_type": "code",
   "execution_count": 45,
   "metadata": {},
   "outputs": [
    {
     "data": {
      "image/png": "[encoded data removed]",
      "text/plain": [
       "<Figure size 432x288 with 1 Axes>"
      ]
     },
     "metadata": {
      "needs_background": "light"
     },
     "output_type": "display_data"
    }
   ],
   "source": [
    "df_analyze['violent_crime'].value_counts().plot(kind = 'bar')\n",
    "\n",
    "f5 = plt.gcf()"
   ]
  },
  {
   "cell_type": "code",
   "execution_count": 82,
   "metadata": {},
   "outputs": [
    {
     "data": {
      "image/png": "[encoded data removed]",
      "text/plain": [
       "<Figure size 432x288 with 1 Axes>"
      ]
     },
     "metadata": {
      "needs_background": "light"
     },
     "output_type": "display_data"
    }
   ],
   "source": [
    "df_analyze['Crm Cd Desc'].value_counts()[:20].plot(kind = 'bar')\n",
    "\n",
    "f4 = plt.gcf()"
   ]
  },
  {
   "cell_type": "markdown",
   "metadata": {},
   "source": [
    "## Box and whisker plots for continous variable predictors to show distribution and variability"
   ]
  },
  {
   "cell_type": "code",
   "execution_count": 49,
   "metadata": {},
   "outputs": [
    {
     "data": {
      "text/plain": [
       "Text(0.5, 1.0, 'Age prediction')"
      ]
     },
     "execution_count": 49,
     "metadata": {},
     "output_type": "execute_result"
    },
    {
     "data": {
      "image/png": "[encoded data removed]",
      "text/plain": [
       "<Figure size 216x360 with 1 Axes>"
      ]
     },
     "metadata": {
      "needs_background": "light"
     },
     "output_type": "display_data"
    },
    {
     "data": {
      "image/png": "[encoded data removed]",
      "text/plain": [
       "<Figure size 216x360 with 1 Axes>"
      ]
     },
     "metadata": {
      "needs_background": "light"
     },
     "output_type": "display_data"
    },
    {
     "data": {
      "image/png": "[encoded data removed]",
      "text/plain": [
       "<Figure size 216x360 with 1 Axes>"
      ]
     },
     "metadata": {
      "needs_background": "light"
     },
     "output_type": "display_data"
    }
   ],
   "source": [
    "fig, ax = plt.subplots(figsize = (3,5))\n",
    "lat_box = sns.boxplot(x = 'violent_crime', y = 'LAT', data = df_analyze, ax = ax)\n",
    "lat_box.set_title('Latitude prediction')\n",
    "\n",
    "fig, ax = plt.subplots(figsize = (3,5))\n",
    "long_box = sns.boxplot(x = 'violent_crime', y = 'LON', data = df_analyze, ax = ax)\n",
    "long_box.set_title('Longitude prediction')\n",
    "\n",
    "fig, ax = plt.subplots(figsize = (3,5))\n",
    "time_box = sns.boxplot(x = 'violent_crime', y = 'Vict_Age', data = df_analyze, ax = ax)\n",
    "time_box.set_title('Age prediction')"
   ]
  },
  {
   "cell_type": "markdown",
   "metadata": {},
   "source": [
    "## create dataframes that are subset for each individual categorical predictor"
   ]
  },
  {
   "cell_type": "code",
   "execution_count": 50,
   "metadata": {},
   "outputs": [],
   "source": [
    "#make visualizations for violent/non-violent crime vs TIME_OCC, Vict_Sex, Vict_Descent\n",
    "\n",
    "#create individual dataframes for groupby counting\n",
    "m_df_analyze = df_analyze[df_analyze['Vict_Sex'] == 'M']\n",
    "f_df_analyze = df_analyze[df_analyze['Vict_Sex'] == 'F']\n",
    "gender_vio_counts = []\n",
    "gender_nvio_counts = []\n",
    "\n",
    "day_df_analyze = df_analyze[df_analyze['TIME_OCC'] == 'Day']\n",
    "night_df_analyze = df_analyze[df_analyze['TIME_OCC'] == 'Night']\n",
    "time_vio_counts = []\n",
    "time_nvio_counts = []\n",
    "\n",
    "H_df_analyze = df_analyze[df_analyze['Vict_Descent'] == 'H']\n",
    "W_df_analyze = df_analyze[df_analyze['Vict_Descent'] == 'W']\n",
    "B_df_analyze = df_analyze[df_analyze['Vict_Descent'] == 'B']\n",
    "O_df_analyze = df_analyze[df_analyze['Vict_Descent'] == 'O']\n",
    "descent_vio_counts = []\n",
    "descent_nvio_counts = []\n",
    "\n"
   ]
  },
  {
   "cell_type": "markdown",
   "metadata": {},
   "source": [
    "## For each categorical predictor count # of violent and non-violent crimes"
   ]
  },
  {
   "cell_type": "code",
   "execution_count": 51,
   "metadata": {},
   "outputs": [
    {
     "data": {
      "text/html": [
       "<div>\n",
       "<style scoped>\n",
       "    .dataframe tbody tr th:only-of-type {\n",
       "        vertical-align: middle;\n",
       "    }\n",
       "\n",
       "    .dataframe tbody tr th {\n",
       "        vertical-align: top;\n",
       "    }\n",
       "\n",
       "    .dataframe thead th {\n",
       "        text-align: right;\n",
       "    }\n",
       "</style>\n",
       "<table border=\"1\" class=\"dataframe\">\n",
       "  <thead>\n",
       "    <tr style=\"text-align: right;\">\n",
       "      <th></th>\n",
       "      <th>level_0</th>\n",
       "      <th>index</th>\n",
       "      <th>DATE_OCC</th>\n",
       "      <th>TIME_OCC</th>\n",
       "      <th>AREA_NAME</th>\n",
       "      <th>Crm Cd Desc</th>\n",
       "      <th>Vict_Age</th>\n",
       "      <th>Vict_Sex</th>\n",
       "      <th>Vict_Descent</th>\n",
       "      <th>LAT</th>\n",
       "      <th>LON</th>\n",
       "    </tr>\n",
       "    <tr>\n",
       "      <th>violent_crime</th>\n",
       "      <th></th>\n",
       "      <th></th>\n",
       "      <th></th>\n",
       "      <th></th>\n",
       "      <th></th>\n",
       "      <th></th>\n",
       "      <th></th>\n",
       "      <th></th>\n",
       "      <th></th>\n",
       "      <th></th>\n",
       "      <th></th>\n",
       "    </tr>\n",
       "  </thead>\n",
       "  <tbody>\n",
       "    <tr>\n",
       "      <th>0</th>\n",
       "      <td>503341</td>\n",
       "      <td>503341</td>\n",
       "      <td>503341</td>\n",
       "      <td>503341</td>\n",
       "      <td>503341</td>\n",
       "      <td>503341</td>\n",
       "      <td>503341</td>\n",
       "      <td>503341</td>\n",
       "      <td>503341</td>\n",
       "      <td>503341</td>\n",
       "      <td>503341</td>\n",
       "    </tr>\n",
       "    <tr>\n",
       "      <th>1</th>\n",
       "      <td>339242</td>\n",
       "      <td>339242</td>\n",
       "      <td>339242</td>\n",
       "      <td>339242</td>\n",
       "      <td>339242</td>\n",
       "      <td>339242</td>\n",
       "      <td>339242</td>\n",
       "      <td>339242</td>\n",
       "      <td>339242</td>\n",
       "      <td>339242</td>\n",
       "      <td>339242</td>\n",
       "    </tr>\n",
       "  </tbody>\n",
       "</table>\n",
       "</div>"
      ],
      "text/plain": [
       "               level_0   index  DATE_OCC  TIME_OCC  AREA_NAME  Crm Cd Desc  \\\n",
       "violent_crime                                                                \n",
       "0               503341  503341    503341    503341     503341       503341   \n",
       "1               339242  339242    339242    339242     339242       339242   \n",
       "\n",
       "               Vict_Age  Vict_Sex  Vict_Descent     LAT     LON  \n",
       "violent_crime                                                    \n",
       "0                503341    503341        503341  503341  503341  \n",
       "1                339242    339242        339242  339242  339242  "
      ]
     },
     "execution_count": 51,
     "metadata": {},
     "output_type": "execute_result"
    }
   ],
   "source": [
    "dfm = m_df_analyze.groupby('violent_crime').count() \n",
    "dfm\n"
   ]
  },
  {
   "cell_type": "code",
   "execution_count": 52,
   "metadata": {},
   "outputs": [],
   "source": [
    "# append male values\n",
    "gender_vio_counts.append(339242)\n",
    "gender_nvio_counts.append(503341)"
   ]
  },
  {
   "cell_type": "code",
   "execution_count": 53,
   "metadata": {},
   "outputs": [
    {
     "data": {
      "text/html": [
       "<div>\n",
       "<style scoped>\n",
       "    .dataframe tbody tr th:only-of-type {\n",
       "        vertical-align: middle;\n",
       "    }\n",
       "\n",
       "    .dataframe tbody tr th {\n",
       "        vertical-align: top;\n",
       "    }\n",
       "\n",
       "    .dataframe thead th {\n",
       "        text-align: right;\n",
       "    }\n",
       "</style>\n",
       "<table border=\"1\" class=\"dataframe\">\n",
       "  <thead>\n",
       "    <tr style=\"text-align: right;\">\n",
       "      <th></th>\n",
       "      <th>level_0</th>\n",
       "      <th>index</th>\n",
       "      <th>DATE_OCC</th>\n",
       "      <th>TIME_OCC</th>\n",
       "      <th>AREA_NAME</th>\n",
       "      <th>Crm Cd Desc</th>\n",
       "      <th>Vict_Age</th>\n",
       "      <th>Vict_Sex</th>\n",
       "      <th>Vict_Descent</th>\n",
       "      <th>LAT</th>\n",
       "      <th>LON</th>\n",
       "    </tr>\n",
       "    <tr>\n",
       "      <th>violent_crime</th>\n",
       "      <th></th>\n",
       "      <th></th>\n",
       "      <th></th>\n",
       "      <th></th>\n",
       "      <th></th>\n",
       "      <th></th>\n",
       "      <th></th>\n",
       "      <th></th>\n",
       "      <th></th>\n",
       "      <th></th>\n",
       "      <th></th>\n",
       "    </tr>\n",
       "  </thead>\n",
       "  <tbody>\n",
       "    <tr>\n",
       "      <th>0</th>\n",
       "      <td>467205</td>\n",
       "      <td>467205</td>\n",
       "      <td>467205</td>\n",
       "      <td>467205</td>\n",
       "      <td>467205</td>\n",
       "      <td>467205</td>\n",
       "      <td>467205</td>\n",
       "      <td>467205</td>\n",
       "      <td>467205</td>\n",
       "      <td>467205</td>\n",
       "      <td>467205</td>\n",
       "    </tr>\n",
       "    <tr>\n",
       "      <th>1</th>\n",
       "      <td>394684</td>\n",
       "      <td>394684</td>\n",
       "      <td>394684</td>\n",
       "      <td>394684</td>\n",
       "      <td>394684</td>\n",
       "      <td>394684</td>\n",
       "      <td>394684</td>\n",
       "      <td>394684</td>\n",
       "      <td>394684</td>\n",
       "      <td>394684</td>\n",
       "      <td>394684</td>\n",
       "    </tr>\n",
       "  </tbody>\n",
       "</table>\n",
       "</div>"
      ],
      "text/plain": [
       "               level_0   index  DATE_OCC  TIME_OCC  AREA_NAME  Crm Cd Desc  \\\n",
       "violent_crime                                                                \n",
       "0               467205  467205    467205    467205     467205       467205   \n",
       "1               394684  394684    394684    394684     394684       394684   \n",
       "\n",
       "               Vict_Age  Vict_Sex  Vict_Descent     LAT     LON  \n",
       "violent_crime                                                    \n",
       "0                467205    467205        467205  467205  467205  \n",
       "1                394684    394684        394684  394684  394684  "
      ]
     },
     "execution_count": 53,
     "metadata": {},
     "output_type": "execute_result"
    }
   ],
   "source": [
    "#count how many violent and non violent crimes are in each column with groupby\n",
    "dff = f_df_analyze.groupby('violent_crime').count() \n",
    "dff \n"
   ]
  },
  {
   "cell_type": "code",
   "execution_count": 54,
   "metadata": {},
   "outputs": [],
   "source": [
    "# append female values\n",
    "gender_vio_counts.append(394684)\n",
    "gender_nvio_counts.append(467205)"
   ]
  },
  {
   "cell_type": "code",
   "execution_count": 55,
   "metadata": {},
   "outputs": [
    {
     "data": {
      "text/html": [
       "<div>\n",
       "<style scoped>\n",
       "    .dataframe tbody tr th:only-of-type {\n",
       "        vertical-align: middle;\n",
       "    }\n",
       "\n",
       "    .dataframe tbody tr th {\n",
       "        vertical-align: top;\n",
       "    }\n",
       "\n",
       "    .dataframe thead th {\n",
       "        text-align: right;\n",
       "    }\n",
       "</style>\n",
       "<table border=\"1\" class=\"dataframe\">\n",
       "  <thead>\n",
       "    <tr style=\"text-align: right;\">\n",
       "      <th></th>\n",
       "      <th>level_0</th>\n",
       "      <th>index</th>\n",
       "      <th>DATE_OCC</th>\n",
       "      <th>TIME_OCC</th>\n",
       "      <th>AREA_NAME</th>\n",
       "      <th>Crm Cd Desc</th>\n",
       "      <th>Vict_Age</th>\n",
       "      <th>Vict_Sex</th>\n",
       "      <th>Vict_Descent</th>\n",
       "      <th>LAT</th>\n",
       "      <th>LON</th>\n",
       "    </tr>\n",
       "    <tr>\n",
       "      <th>violent_crime</th>\n",
       "      <th></th>\n",
       "      <th></th>\n",
       "      <th></th>\n",
       "      <th></th>\n",
       "      <th></th>\n",
       "      <th></th>\n",
       "      <th></th>\n",
       "      <th></th>\n",
       "      <th></th>\n",
       "      <th></th>\n",
       "      <th></th>\n",
       "    </tr>\n",
       "  </thead>\n",
       "  <tbody>\n",
       "    <tr>\n",
       "      <th>0</th>\n",
       "      <td>555682</td>\n",
       "      <td>555682</td>\n",
       "      <td>555682</td>\n",
       "      <td>555682</td>\n",
       "      <td>555682</td>\n",
       "      <td>555682</td>\n",
       "      <td>555682</td>\n",
       "      <td>555682</td>\n",
       "      <td>555682</td>\n",
       "      <td>555682</td>\n",
       "      <td>555682</td>\n",
       "    </tr>\n",
       "    <tr>\n",
       "      <th>1</th>\n",
       "      <td>375029</td>\n",
       "      <td>375029</td>\n",
       "      <td>375029</td>\n",
       "      <td>375029</td>\n",
       "      <td>375029</td>\n",
       "      <td>375029</td>\n",
       "      <td>375029</td>\n",
       "      <td>375029</td>\n",
       "      <td>375029</td>\n",
       "      <td>375029</td>\n",
       "      <td>375029</td>\n",
       "    </tr>\n",
       "  </tbody>\n",
       "</table>\n",
       "</div>"
      ],
      "text/plain": [
       "               level_0   index  DATE_OCC  TIME_OCC  AREA_NAME  Crm Cd Desc  \\\n",
       "violent_crime                                                                \n",
       "0               555682  555682    555682    555682     555682       555682   \n",
       "1               375029  375029    375029    375029     375029       375029   \n",
       "\n",
       "               Vict_Age  Vict_Sex  Vict_Descent     LAT     LON  \n",
       "violent_crime                                                    \n",
       "0                555682    555682        555682  555682  555682  \n",
       "1                375029    375029        375029  375029  375029  "
      ]
     },
     "execution_count": 55,
     "metadata": {},
     "output_type": "execute_result"
    }
   ],
   "source": [
    "# day and night counting\n",
    "df_day = day_df_analyze.groupby('violent_crime').count() \n",
    "df_day"
   ]
  },
  {
   "cell_type": "code",
   "execution_count": 56,
   "metadata": {},
   "outputs": [],
   "source": [
    "#append day counts\n",
    "time_vio_counts.append(375029)\n",
    "time_nvio_counts.append(555682)"
   ]
  },
  {
   "cell_type": "code",
   "execution_count": 57,
   "metadata": {
    "scrolled": true
   },
   "outputs": [
    {
     "data": {
      "text/html": [
       "<div>\n",
       "<style scoped>\n",
       "    .dataframe tbody tr th:only-of-type {\n",
       "        vertical-align: middle;\n",
       "    }\n",
       "\n",
       "    .dataframe tbody tr th {\n",
       "        vertical-align: top;\n",
       "    }\n",
       "\n",
       "    .dataframe thead th {\n",
       "        text-align: right;\n",
       "    }\n",
       "</style>\n",
       "<table border=\"1\" class=\"dataframe\">\n",
       "  <thead>\n",
       "    <tr style=\"text-align: right;\">\n",
       "      <th></th>\n",
       "      <th>level_0</th>\n",
       "      <th>index</th>\n",
       "      <th>DATE_OCC</th>\n",
       "      <th>TIME_OCC</th>\n",
       "      <th>AREA_NAME</th>\n",
       "      <th>Crm Cd Desc</th>\n",
       "      <th>Vict_Age</th>\n",
       "      <th>Vict_Sex</th>\n",
       "      <th>Vict_Descent</th>\n",
       "      <th>LAT</th>\n",
       "      <th>LON</th>\n",
       "    </tr>\n",
       "    <tr>\n",
       "      <th>violent_crime</th>\n",
       "      <th></th>\n",
       "      <th></th>\n",
       "      <th></th>\n",
       "      <th></th>\n",
       "      <th></th>\n",
       "      <th></th>\n",
       "      <th></th>\n",
       "      <th></th>\n",
       "      <th></th>\n",
       "      <th></th>\n",
       "      <th></th>\n",
       "    </tr>\n",
       "  </thead>\n",
       "  <tbody>\n",
       "    <tr>\n",
       "      <th>0</th>\n",
       "      <td>414864</td>\n",
       "      <td>414864</td>\n",
       "      <td>414864</td>\n",
       "      <td>414864</td>\n",
       "      <td>414864</td>\n",
       "      <td>414864</td>\n",
       "      <td>414864</td>\n",
       "      <td>414864</td>\n",
       "      <td>414864</td>\n",
       "      <td>414864</td>\n",
       "      <td>414864</td>\n",
       "    </tr>\n",
       "    <tr>\n",
       "      <th>1</th>\n",
       "      <td>358897</td>\n",
       "      <td>358897</td>\n",
       "      <td>358897</td>\n",
       "      <td>358897</td>\n",
       "      <td>358897</td>\n",
       "      <td>358897</td>\n",
       "      <td>358897</td>\n",
       "      <td>358897</td>\n",
       "      <td>358897</td>\n",
       "      <td>358897</td>\n",
       "      <td>358897</td>\n",
       "    </tr>\n",
       "  </tbody>\n",
       "</table>\n",
       "</div>"
      ],
      "text/plain": [
       "               level_0   index  DATE_OCC  TIME_OCC  AREA_NAME  Crm Cd Desc  \\\n",
       "violent_crime                                                                \n",
       "0               414864  414864    414864    414864     414864       414864   \n",
       "1               358897  358897    358897    358897     358897       358897   \n",
       "\n",
       "               Vict_Age  Vict_Sex  Vict_Descent     LAT     LON  \n",
       "violent_crime                                                    \n",
       "0                414864    414864        414864  414864  414864  \n",
       "1                358897    358897        358897  358897  358897  "
      ]
     },
     "execution_count": 57,
     "metadata": {},
     "output_type": "execute_result"
    }
   ],
   "source": [
    "df_night = night_df_analyze.groupby('violent_crime').count() \n",
    "df_night"
   ]
  },
  {
   "cell_type": "code",
   "execution_count": 58,
   "metadata": {},
   "outputs": [],
   "source": [
    "# append night counts\n",
    "time_vio_counts.append(358897)\n",
    "time_nvio_counts.append(414864)"
   ]
  },
  {
   "cell_type": "code",
   "execution_count": 59,
   "metadata": {},
   "outputs": [
    {
     "data": {
      "text/html": [
       "<div>\n",
       "<style scoped>\n",
       "    .dataframe tbody tr th:only-of-type {\n",
       "        vertical-align: middle;\n",
       "    }\n",
       "\n",
       "    .dataframe tbody tr th {\n",
       "        vertical-align: top;\n",
       "    }\n",
       "\n",
       "    .dataframe thead th {\n",
       "        text-align: right;\n",
       "    }\n",
       "</style>\n",
       "<table border=\"1\" class=\"dataframe\">\n",
       "  <thead>\n",
       "    <tr style=\"text-align: right;\">\n",
       "      <th></th>\n",
       "      <th>level_0</th>\n",
       "      <th>index</th>\n",
       "      <th>DATE_OCC</th>\n",
       "      <th>TIME_OCC</th>\n",
       "      <th>AREA_NAME</th>\n",
       "      <th>Crm Cd Desc</th>\n",
       "      <th>Vict_Age</th>\n",
       "      <th>Vict_Sex</th>\n",
       "      <th>Vict_Descent</th>\n",
       "      <th>LAT</th>\n",
       "      <th>LON</th>\n",
       "    </tr>\n",
       "    <tr>\n",
       "      <th>violent_crime</th>\n",
       "      <th></th>\n",
       "      <th></th>\n",
       "      <th></th>\n",
       "      <th></th>\n",
       "      <th></th>\n",
       "      <th></th>\n",
       "      <th></th>\n",
       "      <th></th>\n",
       "      <th></th>\n",
       "      <th></th>\n",
       "      <th></th>\n",
       "    </tr>\n",
       "  </thead>\n",
       "  <tbody>\n",
       "    <tr>\n",
       "      <th>0</th>\n",
       "      <td>349879</td>\n",
       "      <td>349879</td>\n",
       "      <td>349879</td>\n",
       "      <td>349879</td>\n",
       "      <td>349879</td>\n",
       "      <td>349879</td>\n",
       "      <td>349879</td>\n",
       "      <td>349879</td>\n",
       "      <td>349879</td>\n",
       "      <td>349879</td>\n",
       "      <td>349879</td>\n",
       "    </tr>\n",
       "    <tr>\n",
       "      <th>1</th>\n",
       "      <td>344011</td>\n",
       "      <td>344011</td>\n",
       "      <td>344011</td>\n",
       "      <td>344011</td>\n",
       "      <td>344011</td>\n",
       "      <td>344011</td>\n",
       "      <td>344011</td>\n",
       "      <td>344011</td>\n",
       "      <td>344011</td>\n",
       "      <td>344011</td>\n",
       "      <td>344011</td>\n",
       "    </tr>\n",
       "  </tbody>\n",
       "</table>\n",
       "</div>"
      ],
      "text/plain": [
       "               level_0   index  DATE_OCC  TIME_OCC  AREA_NAME  Crm Cd Desc  \\\n",
       "violent_crime                                                                \n",
       "0               349879  349879    349879    349879     349879       349879   \n",
       "1               344011  344011    344011    344011     344011       344011   \n",
       "\n",
       "               Vict_Age  Vict_Sex  Vict_Descent     LAT     LON  \n",
       "violent_crime                                                    \n",
       "0                349879    349879        349879  349879  349879  \n",
       "1                344011    344011        344011  344011  344011  "
      ]
     },
     "execution_count": 59,
     "metadata": {},
     "output_type": "execute_result"
    }
   ],
   "source": [
    "#groupby for descent\n",
    "df_H = H_df_analyze.groupby('violent_crime').count() \n",
    "df_H"
   ]
  },
  {
   "cell_type": "code",
   "execution_count": 60,
   "metadata": {},
   "outputs": [],
   "source": [
    "descent_vio_counts.append(344011)\n",
    "descent_nvio_counts.append(349879)"
   ]
  },
  {
   "cell_type": "code",
   "execution_count": 61,
   "metadata": {},
   "outputs": [
    {
     "data": {
      "text/html": [
       "<div>\n",
       "<style scoped>\n",
       "    .dataframe tbody tr th:only-of-type {\n",
       "        vertical-align: middle;\n",
       "    }\n",
       "\n",
       "    .dataframe tbody tr th {\n",
       "        vertical-align: top;\n",
       "    }\n",
       "\n",
       "    .dataframe thead th {\n",
       "        text-align: right;\n",
       "    }\n",
       "</style>\n",
       "<table border=\"1\" class=\"dataframe\">\n",
       "  <thead>\n",
       "    <tr style=\"text-align: right;\">\n",
       "      <th></th>\n",
       "      <th>level_0</th>\n",
       "      <th>index</th>\n",
       "      <th>DATE_OCC</th>\n",
       "      <th>TIME_OCC</th>\n",
       "      <th>AREA_NAME</th>\n",
       "      <th>Crm Cd Desc</th>\n",
       "      <th>Vict_Age</th>\n",
       "      <th>Vict_Sex</th>\n",
       "      <th>Vict_Descent</th>\n",
       "      <th>LAT</th>\n",
       "      <th>LON</th>\n",
       "    </tr>\n",
       "    <tr>\n",
       "      <th>violent_crime</th>\n",
       "      <th></th>\n",
       "      <th></th>\n",
       "      <th></th>\n",
       "      <th></th>\n",
       "      <th></th>\n",
       "      <th></th>\n",
       "      <th></th>\n",
       "      <th></th>\n",
       "      <th></th>\n",
       "      <th></th>\n",
       "      <th></th>\n",
       "    </tr>\n",
       "  </thead>\n",
       "  <tbody>\n",
       "    <tr>\n",
       "      <th>0</th>\n",
       "      <td>314424</td>\n",
       "      <td>314424</td>\n",
       "      <td>314424</td>\n",
       "      <td>314424</td>\n",
       "      <td>314424</td>\n",
       "      <td>314424</td>\n",
       "      <td>314424</td>\n",
       "      <td>314424</td>\n",
       "      <td>314424</td>\n",
       "      <td>314424</td>\n",
       "      <td>314424</td>\n",
       "    </tr>\n",
       "    <tr>\n",
       "      <th>1</th>\n",
       "      <td>145821</td>\n",
       "      <td>145821</td>\n",
       "      <td>145821</td>\n",
       "      <td>145821</td>\n",
       "      <td>145821</td>\n",
       "      <td>145821</td>\n",
       "      <td>145821</td>\n",
       "      <td>145821</td>\n",
       "      <td>145821</td>\n",
       "      <td>145821</td>\n",
       "      <td>145821</td>\n",
       "    </tr>\n",
       "  </tbody>\n",
       "</table>\n",
       "</div>"
      ],
      "text/plain": [
       "               level_0   index  DATE_OCC  TIME_OCC  AREA_NAME  Crm Cd Desc  \\\n",
       "violent_crime                                                                \n",
       "0               314424  314424    314424    314424     314424       314424   \n",
       "1               145821  145821    145821    145821     145821       145821   \n",
       "\n",
       "               Vict_Age  Vict_Sex  Vict_Descent     LAT     LON  \n",
       "violent_crime                                                    \n",
       "0                314424    314424        314424  314424  314424  \n",
       "1                145821    145821        145821  145821  145821  "
      ]
     },
     "execution_count": 61,
     "metadata": {},
     "output_type": "execute_result"
    }
   ],
   "source": [
    "df_W = W_df_analyze.groupby('violent_crime').count() \n",
    "df_W"
   ]
  },
  {
   "cell_type": "code",
   "execution_count": 62,
   "metadata": {},
   "outputs": [],
   "source": [
    "descent_vio_counts.append(145821)\n",
    "descent_nvio_counts.append(314424)"
   ]
  },
  {
   "cell_type": "code",
   "execution_count": 63,
   "metadata": {},
   "outputs": [
    {
     "data": {
      "text/html": [
       "<div>\n",
       "<style scoped>\n",
       "    .dataframe tbody tr th:only-of-type {\n",
       "        vertical-align: middle;\n",
       "    }\n",
       "\n",
       "    .dataframe tbody tr th {\n",
       "        vertical-align: top;\n",
       "    }\n",
       "\n",
       "    .dataframe thead th {\n",
       "        text-align: right;\n",
       "    }\n",
       "</style>\n",
       "<table border=\"1\" class=\"dataframe\">\n",
       "  <thead>\n",
       "    <tr style=\"text-align: right;\">\n",
       "      <th></th>\n",
       "      <th>level_0</th>\n",
       "      <th>index</th>\n",
       "      <th>DATE_OCC</th>\n",
       "      <th>TIME_OCC</th>\n",
       "      <th>AREA_NAME</th>\n",
       "      <th>Crm Cd Desc</th>\n",
       "      <th>Vict_Age</th>\n",
       "      <th>Vict_Sex</th>\n",
       "      <th>Vict_Descent</th>\n",
       "      <th>LAT</th>\n",
       "      <th>LON</th>\n",
       "    </tr>\n",
       "    <tr>\n",
       "      <th>violent_crime</th>\n",
       "      <th></th>\n",
       "      <th></th>\n",
       "      <th></th>\n",
       "      <th></th>\n",
       "      <th></th>\n",
       "      <th></th>\n",
       "      <th></th>\n",
       "      <th></th>\n",
       "      <th></th>\n",
       "      <th></th>\n",
       "      <th></th>\n",
       "    </tr>\n",
       "  </thead>\n",
       "  <tbody>\n",
       "    <tr>\n",
       "      <th>0</th>\n",
       "      <td>151558</td>\n",
       "      <td>151558</td>\n",
       "      <td>151558</td>\n",
       "      <td>151558</td>\n",
       "      <td>151558</td>\n",
       "      <td>151558</td>\n",
       "      <td>151558</td>\n",
       "      <td>151558</td>\n",
       "      <td>151558</td>\n",
       "      <td>151558</td>\n",
       "      <td>151558</td>\n",
       "    </tr>\n",
       "    <tr>\n",
       "      <th>1</th>\n",
       "      <td>173324</td>\n",
       "      <td>173324</td>\n",
       "      <td>173324</td>\n",
       "      <td>173324</td>\n",
       "      <td>173324</td>\n",
       "      <td>173324</td>\n",
       "      <td>173324</td>\n",
       "      <td>173324</td>\n",
       "      <td>173324</td>\n",
       "      <td>173324</td>\n",
       "      <td>173324</td>\n",
       "    </tr>\n",
       "  </tbody>\n",
       "</table>\n",
       "</div>"
      ],
      "text/plain": [
       "               level_0   index  DATE_OCC  TIME_OCC  AREA_NAME  Crm Cd Desc  \\\n",
       "violent_crime                                                                \n",
       "0               151558  151558    151558    151558     151558       151558   \n",
       "1               173324  173324    173324    173324     173324       173324   \n",
       "\n",
       "               Vict_Age  Vict_Sex  Vict_Descent     LAT     LON  \n",
       "violent_crime                                                    \n",
       "0                151558    151558        151558  151558  151558  \n",
       "1                173324    173324        173324  173324  173324  "
      ]
     },
     "execution_count": 63,
     "metadata": {},
     "output_type": "execute_result"
    }
   ],
   "source": [
    "df_B = B_df_analyze.groupby('violent_crime').count()\n",
    "df_B"
   ]
  },
  {
   "cell_type": "code",
   "execution_count": 64,
   "metadata": {},
   "outputs": [],
   "source": [
    "descent_vio_counts.append(173324)\n",
    "descent_nvio_counts.append(151558)"
   ]
  },
  {
   "cell_type": "code",
   "execution_count": 65,
   "metadata": {},
   "outputs": [
    {
     "data": {
      "text/html": [
       "<div>\n",
       "<style scoped>\n",
       "    .dataframe tbody tr th:only-of-type {\n",
       "        vertical-align: middle;\n",
       "    }\n",
       "\n",
       "    .dataframe tbody tr th {\n",
       "        vertical-align: top;\n",
       "    }\n",
       "\n",
       "    .dataframe thead th {\n",
       "        text-align: right;\n",
       "    }\n",
       "</style>\n",
       "<table border=\"1\" class=\"dataframe\">\n",
       "  <thead>\n",
       "    <tr style=\"text-align: right;\">\n",
       "      <th></th>\n",
       "      <th>level_0</th>\n",
       "      <th>index</th>\n",
       "      <th>DATE_OCC</th>\n",
       "      <th>TIME_OCC</th>\n",
       "      <th>AREA_NAME</th>\n",
       "      <th>Crm Cd Desc</th>\n",
       "      <th>Vict_Age</th>\n",
       "      <th>Vict_Sex</th>\n",
       "      <th>Vict_Descent</th>\n",
       "      <th>LAT</th>\n",
       "      <th>LON</th>\n",
       "    </tr>\n",
       "    <tr>\n",
       "      <th>violent_crime</th>\n",
       "      <th></th>\n",
       "      <th></th>\n",
       "      <th></th>\n",
       "      <th></th>\n",
       "      <th></th>\n",
       "      <th></th>\n",
       "      <th></th>\n",
       "      <th></th>\n",
       "      <th></th>\n",
       "      <th></th>\n",
       "      <th></th>\n",
       "    </tr>\n",
       "  </thead>\n",
       "  <tbody>\n",
       "    <tr>\n",
       "      <th>0</th>\n",
       "      <td>154685</td>\n",
       "      <td>154685</td>\n",
       "      <td>154685</td>\n",
       "      <td>154685</td>\n",
       "      <td>154685</td>\n",
       "      <td>154685</td>\n",
       "      <td>154685</td>\n",
       "      <td>154685</td>\n",
       "      <td>154685</td>\n",
       "      <td>154685</td>\n",
       "      <td>154685</td>\n",
       "    </tr>\n",
       "    <tr>\n",
       "      <th>1</th>\n",
       "      <td>70770</td>\n",
       "      <td>70770</td>\n",
       "      <td>70770</td>\n",
       "      <td>70770</td>\n",
       "      <td>70770</td>\n",
       "      <td>70770</td>\n",
       "      <td>70770</td>\n",
       "      <td>70770</td>\n",
       "      <td>70770</td>\n",
       "      <td>70770</td>\n",
       "      <td>70770</td>\n",
       "    </tr>\n",
       "  </tbody>\n",
       "</table>\n",
       "</div>"
      ],
      "text/plain": [
       "               level_0   index  DATE_OCC  TIME_OCC  AREA_NAME  Crm Cd Desc  \\\n",
       "violent_crime                                                                \n",
       "0               154685  154685    154685    154685     154685       154685   \n",
       "1                70770   70770     70770     70770      70770        70770   \n",
       "\n",
       "               Vict_Age  Vict_Sex  Vict_Descent     LAT     LON  \n",
       "violent_crime                                                    \n",
       "0                154685    154685        154685  154685  154685  \n",
       "1                 70770     70770         70770   70770   70770  "
      ]
     },
     "execution_count": 65,
     "metadata": {},
     "output_type": "execute_result"
    }
   ],
   "source": [
    "df_O = O_df_analyze.groupby('violent_crime').count() \n",
    "df_O"
   ]
  },
  {
   "cell_type": "code",
   "execution_count": 66,
   "metadata": {},
   "outputs": [],
   "source": [
    "descent_vio_counts.append(70770)\n",
    "descent_nvio_counts.append(154685)"
   ]
  },
  {
   "cell_type": "markdown",
   "metadata": {},
   "source": [
    "## Make bar graphs with violent and non-violent crimes for each predictor"
   ]
  },
  {
   "cell_type": "code",
   "execution_count": 67,
   "metadata": {},
   "outputs": [
    {
     "data": {
      "image/png": "[encoded data removed]",
      "text/plain": [
       "<Figure size 432x288 with 1 Axes>"
      ]
     },
     "metadata": {
      "needs_background": "light"
     },
     "output_type": "display_data"
    }
   ],
   "source": [
    "#plots for violent crime enacted toward Vict_Sex, Vict_descent and during TIME_OCC\n",
    "# gender \n",
    "n_groups = 2 # M/F\n",
    "\n",
    "#gender_vio_counts\n",
    "#gender_nvio_counts\n",
    "\n",
    "# create plot\n",
    "fig, ax = plt.subplots()\n",
    "index = np.arange(n_groups)\n",
    "bar_width = 0.4\n",
    "opacity = 0.8\n",
    "\n",
    "rects1 = plt.bar(index, gender_vio_counts, bar_width,\n",
    "alpha=opacity,\n",
    "color='b',\n",
    "label='Violent')\n",
    "\n",
    "rects2 = plt.bar(index + bar_width, gender_nvio_counts, bar_width,\n",
    "alpha=opacity,\n",
    "color='g',\n",
    "label='Non-Violent')\n",
    "\n",
    "plt.xlabel('Gender')\n",
    "plt.ylabel('Counts')\n",
    "plt.title('Violent Crimes committed against Men and Women')\n",
    "plt.xticks(index + 0.5*bar_width, ('M', 'F'))\n",
    "plt.legend(loc = 'lower right')\n",
    "\n",
    "plt.tight_layout()\n",
    "plt.show()"
   ]
  },
  {
   "cell_type": "code",
   "execution_count": 68,
   "metadata": {},
   "outputs": [
    {
     "data": {
      "image/png": "[encoded data removed]",
      "text/plain": [
       "<Figure size 432x288 with 1 Axes>"
      ]
     },
     "metadata": {
      "needs_background": "light"
     },
     "output_type": "display_data"
    }
   ],
   "source": [
    "n_groups = 2 # Day/Night\n",
    "\n",
    "#time_vio_counts\n",
    "#time_nvio_counts\n",
    "\n",
    "# create plot\n",
    "fig, ax = plt.subplots()\n",
    "index = np.arange(n_groups)\n",
    "bar_width = 0.4\n",
    "opacity = 0.8\n",
    "\n",
    "rects1 = plt.bar(index, time_vio_counts, bar_width,\n",
    "alpha=opacity,\n",
    "color='b',\n",
    "label='Violent')\n",
    "\n",
    "rects2 = plt.bar(index + bar_width, time_nvio_counts, bar_width,\n",
    "alpha=opacity,\n",
    "color='g',\n",
    "label='Non-Violent')\n",
    "\n",
    "plt.xlabel('Time Crime Occurred')\n",
    "plt.ylabel('Counts')\n",
    "plt.title('Violent Crimes committed during the day and night')\n",
    "plt.xticks(index + 0.5*bar_width, ('Day', 'Night'))\n",
    "plt.legend(loc = 'lower right')\n",
    "\n",
    "plt.tight_layout()\n",
    "plt.show()"
   ]
  },
  {
   "cell_type": "code",
   "execution_count": 69,
   "metadata": {},
   "outputs": [
    {
     "data": {
      "image/png": "[encoded data removed]",
      "text/plain": [
       "<Figure size 432x288 with 1 Axes>"
      ]
     },
     "metadata": {
      "needs_background": "light"
     },
     "output_type": "display_data"
    }
   ],
   "source": [
    "n_groups = 4 # H/W/B/O\n",
    "\n",
    "#descent_vio_counts\n",
    "#descent_nvio_counts\n",
    "\n",
    "# create plot\n",
    "fig, ax = plt.subplots()\n",
    "index = np.arange(n_groups)\n",
    "bar_width = 0.4\n",
    "opacity = 0.8\n",
    "\n",
    "rects1 = plt.bar(index, descent_vio_counts, bar_width,\n",
    "alpha=opacity,\n",
    "color='b',\n",
    "label='Violent')\n",
    "\n",
    "rects2 = plt.bar(index + bar_width, descent_nvio_counts, bar_width,\n",
    "alpha=opacity,\n",
    "color='g',\n",
    "label='Non-Violent')\n",
    "\n",
    "plt.xlabel('Ethnicity')\n",
    "plt.ylabel('Counts')\n",
    "plt.title('Violent Crimes committed against different ethnicities')\n",
    "plt.xticks(index + 0.5*bar_width, ('Hispanic', 'White', 'Black', 'Other'))\n",
    "plt.legend(loc = 'best')\n",
    "\n",
    "plt.tight_layout()\n",
    "plt.show()"
   ]
  },
  {
   "cell_type": "markdown",
   "metadata": {},
   "source": [
    "## Perform logistic regression to determine a relationship between time/location and the type of crime committed \n",
    "- predictors = latitude, longitude, time occurred, victim age, victim descent, victim sex, area (police department that handled crime)\n",
    "- response = violent crime (1)/non violent crime (0)"
   ]
  },
  {
   "cell_type": "code",
   "execution_count": 70,
   "metadata": {
    "scrolled": true
   },
   "outputs": [
    {
     "name": "stdout",
     "output_type": "stream",
     "text": [
      "Optimization terminated successfully.\n",
      "         Current function value: 0.645483\n",
      "         Iterations 7\n"
     ]
    },
    {
     "data": {
      "text/html": [
       "<table class=\"simpletable\">\n",
       "<caption>Logit Regression Results</caption>\n",
       "<tr>\n",
       "  <th>Dep. Variable:</th>   <td>violent_crime</td>  <th>  No. Observations:  </th>   <td>1704472</td>  \n",
       "</tr>\n",
       "<tr>\n",
       "  <th>Model:</th>               <td>Logit</td>      <th>  Df Residuals:      </th>   <td>1704443</td>  \n",
       "</tr>\n",
       "<tr>\n",
       "  <th>Method:</th>               <td>MLE</td>       <th>  Df Model:          </th>   <td>    28</td>   \n",
       "</tr>\n",
       "<tr>\n",
       "  <th>Date:</th>          <td>Mon, 09 Dec 2019</td> <th>  Pseudo R-squ.:     </th>   <td>0.05559</td>  \n",
       "</tr>\n",
       "<tr>\n",
       "  <th>Time:</th>              <td>19:49:24</td>     <th>  Log-Likelihood:    </th> <td>-1.1002e+06</td>\n",
       "</tr>\n",
       "<tr>\n",
       "  <th>converged:</th>           <td>True</td>       <th>  LL-Null:           </th> <td>-1.1650e+06</td>\n",
       "</tr>\n",
       "<tr>\n",
       "  <th> </th>                      <td> </td>        <th>  LLR p-value:       </th>   <td> 0.000</td>   \n",
       "</tr>\n",
       "</table>\n",
       "<table class=\"simpletable\">\n",
       "<tr>\n",
       "              <td></td>                <th>coef</th>     <th>std err</th>      <th>z</th>      <th>P>|z|</th>  <th>[0.025</th>    <th>0.975]</th>  \n",
       "</tr>\n",
       "<tr>\n",
       "  <th>Intercept</th>                <td>   40.7571</td> <td>    8.397</td> <td>    4.854</td> <td> 0.000</td> <td>   24.300</td> <td>   57.214</td>\n",
       "</tr>\n",
       "<tr>\n",
       "  <th>TIME_OCC[T.Night]</th>        <td>    0.1972</td> <td>    0.003</td> <td>   60.932</td> <td> 0.000</td> <td>    0.191</td> <td>    0.204</td>\n",
       "</tr>\n",
       "<tr>\n",
       "  <th>AREA_NAME[T.Central]</th>     <td>    0.1795</td> <td>    0.011</td> <td>   15.845</td> <td> 0.000</td> <td>    0.157</td> <td>    0.202</td>\n",
       "</tr>\n",
       "<tr>\n",
       "  <th>AREA_NAME[T.Devonshire]</th>  <td>   -0.3471</td> <td>    0.029</td> <td>  -12.018</td> <td> 0.000</td> <td>   -0.404</td> <td>   -0.290</td>\n",
       "</tr>\n",
       "<tr>\n",
       "  <th>AREA_NAME[T.Foothill]</th>    <td>   -0.1454</td> <td>    0.025</td> <td>   -5.877</td> <td> 0.000</td> <td>   -0.194</td> <td>   -0.097</td>\n",
       "</tr>\n",
       "<tr>\n",
       "  <th>AREA_NAME[T.Harbor]</th>      <td>   -0.4250</td> <td>    0.020</td> <td>  -21.539</td> <td> 0.000</td> <td>   -0.464</td> <td>   -0.386</td>\n",
       "</tr>\n",
       "<tr>\n",
       "  <th>AREA_NAME[T.Hollenbeck]</th>  <td>   -0.0338</td> <td>    0.014</td> <td>   -2.417</td> <td> 0.016</td> <td>   -0.061</td> <td>   -0.006</td>\n",
       "</tr>\n",
       "<tr>\n",
       "  <th>AREA_NAME[T.Hollywood]</th>   <td>    0.0059</td> <td>    0.014</td> <td>    0.425</td> <td> 0.671</td> <td>   -0.021</td> <td>    0.033</td>\n",
       "</tr>\n",
       "<tr>\n",
       "  <th>AREA_NAME[T.Mission]</th>     <td>   -0.1368</td> <td>    0.026</td> <td>   -5.203</td> <td> 0.000</td> <td>   -0.188</td> <td>   -0.085</td>\n",
       "</tr>\n",
       "<tr>\n",
       "  <th>AREA_NAME[T.N Hollywood]</th> <td>   -0.3262</td> <td>    0.019</td> <td>  -17.017</td> <td> 0.000</td> <td>   -0.364</td> <td>   -0.289</td>\n",
       "</tr>\n",
       "<tr>\n",
       "  <th>AREA_NAME[T.Newton]</th>      <td>    0.1522</td> <td>    0.010</td> <td>   14.919</td> <td> 0.000</td> <td>    0.132</td> <td>    0.172</td>\n",
       "</tr>\n",
       "<tr>\n",
       "  <th>AREA_NAME[T.Northeast]</th>   <td>   -0.3188</td> <td>    0.015</td> <td>  -21.368</td> <td> 0.000</td> <td>   -0.348</td> <td>   -0.290</td>\n",
       "</tr>\n",
       "<tr>\n",
       "  <th>AREA_NAME[T.Olympic]</th>     <td>    0.1023</td> <td>    0.012</td> <td>    8.684</td> <td> 0.000</td> <td>    0.079</td> <td>    0.125</td>\n",
       "</tr>\n",
       "<tr>\n",
       "  <th>AREA_NAME[T.Pacific]</th>     <td>   -0.3743</td> <td>    0.013</td> <td>  -28.871</td> <td> 0.000</td> <td>   -0.400</td> <td>   -0.349</td>\n",
       "</tr>\n",
       "<tr>\n",
       "  <th>AREA_NAME[T.Rampart]</th>     <td>    0.1371</td> <td>    0.012</td> <td>   11.384</td> <td> 0.000</td> <td>    0.113</td> <td>    0.161</td>\n",
       "</tr>\n",
       "<tr>\n",
       "  <th>AREA_NAME[T.Southeast]</th>   <td>    0.0134</td> <td>    0.010</td> <td>    1.384</td> <td> 0.166</td> <td>   -0.006</td> <td>    0.032</td>\n",
       "</tr>\n",
       "<tr>\n",
       "  <th>AREA_NAME[T.Southwest]</th>   <td>   -0.1972</td> <td>    0.009</td> <td>  -21.553</td> <td> 0.000</td> <td>   -0.215</td> <td>   -0.179</td>\n",
       "</tr>\n",
       "<tr>\n",
       "  <th>AREA_NAME[T.Topanga]</th>     <td>   -0.2804</td> <td>    0.028</td> <td>   -9.897</td> <td> 0.000</td> <td>   -0.336</td> <td>   -0.225</td>\n",
       "</tr>\n",
       "<tr>\n",
       "  <th>AREA_NAME[T.Van Nuys]</th>    <td>   -0.2653</td> <td>    0.021</td> <td>  -12.501</td> <td> 0.000</td> <td>   -0.307</td> <td>   -0.224</td>\n",
       "</tr>\n",
       "<tr>\n",
       "  <th>AREA_NAME[T.West LA]</th>     <td>   -0.4207</td> <td>    0.015</td> <td>  -27.549</td> <td> 0.000</td> <td>   -0.451</td> <td>   -0.391</td>\n",
       "</tr>\n",
       "<tr>\n",
       "  <th>AREA_NAME[T.West Valley]</th> <td>   -0.2080</td> <td>    0.025</td> <td>   -8.452</td> <td> 0.000</td> <td>   -0.256</td> <td>   -0.160</td>\n",
       "</tr>\n",
       "<tr>\n",
       "  <th>AREA_NAME[T.Wilshire]</th>    <td>   -0.3757</td> <td>    0.012</td> <td>  -30.116</td> <td> 0.000</td> <td>   -0.400</td> <td>   -0.351</td>\n",
       "</tr>\n",
       "<tr>\n",
       "  <th>Vict_Sex[T.M]</th>            <td>   -0.1506</td> <td>    0.003</td> <td>  -46.504</td> <td> 0.000</td> <td>   -0.157</td> <td>   -0.144</td>\n",
       "</tr>\n",
       "<tr>\n",
       "  <th>Vict_Descent[T.H]</th>        <td>   -0.1658</td> <td>    0.005</td> <td>  -35.313</td> <td> 0.000</td> <td>   -0.175</td> <td>   -0.157</td>\n",
       "</tr>\n",
       "<tr>\n",
       "  <th>Vict_Descent[T.O]</th>        <td>   -0.7301</td> <td>    0.006</td> <td> -116.605</td> <td> 0.000</td> <td>   -0.742</td> <td>   -0.718</td>\n",
       "</tr>\n",
       "<tr>\n",
       "  <th>Vict_Descent[T.W]</th>        <td>   -0.6195</td> <td>    0.005</td> <td> -114.708</td> <td> 0.000</td> <td>   -0.630</td> <td>   -0.609</td>\n",
       "</tr>\n",
       "<tr>\n",
       "  <th>Vict_Age</th>                 <td>   -0.0201</td> <td>    0.000</td> <td> -187.227</td> <td> 0.000</td> <td>   -0.020</td> <td>   -0.020</td>\n",
       "</tr>\n",
       "<tr>\n",
       "  <th>LAT</th>                      <td>   -0.6967</td> <td>    0.081</td> <td>   -8.623</td> <td> 0.000</td> <td>   -0.855</td> <td>   -0.538</td>\n",
       "</tr>\n",
       "<tr>\n",
       "  <th>LON</th>                      <td>    0.1358</td> <td>    0.068</td> <td>    2.010</td> <td> 0.044</td> <td>    0.003</td> <td>    0.268</td>\n",
       "</tr>\n",
       "</table>"
      ],
      "text/plain": [
       "<class 'statsmodels.iolib.summary.Summary'>\n",
       "\"\"\"\n",
       "                           Logit Regression Results                           \n",
       "==============================================================================\n",
       "Dep. Variable:          violent_crime   No. Observations:              1704472\n",
       "Model:                          Logit   Df Residuals:                  1704443\n",
       "Method:                           MLE   Df Model:                           28\n",
       "Date:                Mon, 09 Dec 2019   Pseudo R-squ.:                 0.05559\n",
       "Time:                        19:49:24   Log-Likelihood:            -1.1002e+06\n",
       "converged:                       True   LL-Null:                   -1.1650e+06\n",
       "                                        LLR p-value:                     0.000\n",
       "============================================================================================\n",
       "                               coef    std err          z      P>|z|      [0.025      0.975]\n",
       "--------------------------------------------------------------------------------------------\n",
       "Intercept                   40.7571      8.397      4.854      0.000      24.300      57.214\n",
       "TIME_OCC[T.Night]            0.1972      0.003     60.932      0.000       0.191       0.204\n",
       "AREA_NAME[T.Central]         0.1795      0.011     15.845      0.000       0.157       0.202\n",
       "AREA_NAME[T.Devonshire]     -0.3471      0.029    -12.018      0.000      -0.404      -0.290\n",
       "AREA_NAME[T.Foothill]       -0.1454      0.025     -5.877      0.000      -0.194      -0.097\n",
       "AREA_NAME[T.Harbor]         -0.4250      0.020    -21.539      0.000      -0.464      -0.386\n",
       "AREA_NAME[T.Hollenbeck]     -0.0338      0.014     -2.417      0.016      -0.061      -0.006\n",
       "AREA_NAME[T.Hollywood]       0.0059      0.014      0.425      0.671      -0.021       0.033\n",
       "AREA_NAME[T.Mission]        -0.1368      0.026     -5.203      0.000      -0.188      -0.085\n",
       "AREA_NAME[T.N Hollywood]    -0.3262      0.019    -17.017      0.000      -0.364      -0.289\n",
       "AREA_NAME[T.Newton]          0.1522      0.010     14.919      0.000       0.132       0.172\n",
       "AREA_NAME[T.Northeast]      -0.3188      0.015    -21.368      0.000      -0.348      -0.290\n",
       "AREA_NAME[T.Olympic]         0.1023      0.012      8.684      0.000       0.079       0.125\n",
       "AREA_NAME[T.Pacific]        -0.3743      0.013    -28.871      0.000      -0.400      -0.349\n",
       "AREA_NAME[T.Rampart]         0.1371      0.012     11.384      0.000       0.113       0.161\n",
       "AREA_NAME[T.Southeast]       0.0134      0.010      1.384      0.166      -0.006       0.032\n",
       "AREA_NAME[T.Southwest]      -0.1972      0.009    -21.553      0.000      -0.215      -0.179\n",
       "AREA_NAME[T.Topanga]        -0.2804      0.028     -9.897      0.000      -0.336      -0.225\n",
       "AREA_NAME[T.Van Nuys]       -0.2653      0.021    -12.501      0.000      -0.307      -0.224\n",
       "AREA_NAME[T.West LA]        -0.4207      0.015    -27.549      0.000      -0.451      -0.391\n",
       "AREA_NAME[T.West Valley]    -0.2080      0.025     -8.452      0.000      -0.256      -0.160\n",
       "AREA_NAME[T.Wilshire]       -0.3757      0.012    -30.116      0.000      -0.400      -0.351\n",
       "Vict_Sex[T.M]               -0.1506      0.003    -46.504      0.000      -0.157      -0.144\n",
       "Vict_Descent[T.H]           -0.1658      0.005    -35.313      0.000      -0.175      -0.157\n",
       "Vict_Descent[T.O]           -0.7301      0.006   -116.605      0.000      -0.742      -0.718\n",
       "Vict_Descent[T.W]           -0.6195      0.005   -114.708      0.000      -0.630      -0.609\n",
       "Vict_Age                    -0.0201      0.000   -187.227      0.000      -0.020      -0.020\n",
       "LAT                         -0.6967      0.081     -8.623      0.000      -0.855      -0.538\n",
       "LON                          0.1358      0.068      2.010      0.044       0.003       0.268\n",
       "============================================================================================\n",
       "\"\"\""
      ]
     },
     "execution_count": 70,
     "metadata": {},
     "output_type": "execute_result"
    }
   ],
   "source": [
    "pred_formula = 'violent_crime ~ 1  + TIME_OCC + AREA_NAME + Vict_Age + Vict_Sex + Vict_Descent + LAT + LON'\n",
    "mult_mdl = smf.logit(formula = pred_formula, data = df_analyze)\n",
    "results = mult_mdl.fit()\n",
    "results.summary()"
   ]
  },
  {
   "cell_type": "markdown",
   "metadata": {},
   "source": [
    "## Model Estimation - Confusion Matrix"
   ]
  },
  {
   "cell_type": "code",
   "execution_count": 72,
   "metadata": {},
   "outputs": [],
   "source": [
    "#append predicted violent crimes to model with threshold = 0.3\n",
    "#In this dataset, there is a larger amount of non-violent crimes committed than violent\n",
    "# we want to focus on correctly classifying violent crimes committed, \n",
    "# at the expense of misclassifying non-violent crimes\n",
    "# better safe than sorry \n",
    "thresh = 0.3\n",
    "df_analyze['pred_violent'] = (results.predict() > thresh).astype(int)\n"
   ]
  },
  {
   "cell_type": "code",
   "execution_count": 73,
   "metadata": {},
   "outputs": [
    {
     "data": {
      "text/html": [
       "<div>\n",
       "<style scoped>\n",
       "    .dataframe tbody tr th:only-of-type {\n",
       "        vertical-align: middle;\n",
       "    }\n",
       "\n",
       "    .dataframe tbody tr th {\n",
       "        vertical-align: top;\n",
       "    }\n",
       "\n",
       "    .dataframe thead th {\n",
       "        text-align: right;\n",
       "    }\n",
       "</style>\n",
       "<table border=\"1\" class=\"dataframe\">\n",
       "  <thead>\n",
       "    <tr style=\"text-align: right;\">\n",
       "      <th></th>\n",
       "      <th>predicted_nonviolent</th>\n",
       "      <th>predicted_violent</th>\n",
       "    </tr>\n",
       "  </thead>\n",
       "  <tbody>\n",
       "    <tr>\n",
       "      <th>true_nonviolent</th>\n",
       "      <td>246798</td>\n",
       "      <td>723748</td>\n",
       "    </tr>\n",
       "    <tr>\n",
       "      <th>true_violent</th>\n",
       "      <td>86524</td>\n",
       "      <td>647402</td>\n",
       "    </tr>\n",
       "  </tbody>\n",
       "</table>\n",
       "</div>"
      ],
      "text/plain": [
       "                 predicted_nonviolent  predicted_violent\n",
       "true_nonviolent                246798             723748\n",
       "true_violent                    86524             647402"
      ]
     },
     "execution_count": 73,
     "metadata": {},
     "output_type": "execute_result"
    }
   ],
   "source": [
    "#create confusion matrix with predicted violent crimes and actual violent crimes\n",
    "violent_conf_mat = metrics.confusion_matrix(df_analyze['violent_crime'],df_analyze['pred_violent'])\n",
    "df_cm = pd.DataFrame(violent_conf_mat, index = ['true_nonviolent','true_violent'], columns = ['predicted_nonviolent','predicted_violent'])\n",
    "\n",
    "df_cm"
   ]
  },
  {
   "cell_type": "code",
   "execution_count": 74,
   "metadata": {},
   "outputs": [
    {
     "data": {
      "image/png": "[encoded data removed]",
      "text/plain": [
       "<Figure size 288x288 with 2 Axes>"
      ]
     },
     "metadata": {
      "needs_background": "light"
     },
     "output_type": "display_data"
    }
   ],
   "source": [
    "plt.matshow(violent_conf_mat)\n",
    "plt.title('Confusion matrix')\n",
    "plt.colorbar()\n",
    "plt.show()\n"
   ]
  },
  {
   "cell_type": "markdown",
   "metadata": {},
   "source": [
    "## Calculate sensitivity and specificity of model with 0.3 threshold"
   ]
  },
  {
   "cell_type": "code",
   "execution_count": 75,
   "metadata": {},
   "outputs": [],
   "source": [
    "def sensitivity(conf_mat):\n",
    "    return conf_mat[1,1]/np.sum(conf_mat[1,:])\n",
    "def specificity(conf_mat):\n",
    "    return conf_mat[0,0]/np.sum(conf_mat[0,:])"
   ]
  },
  {
   "cell_type": "code",
   "execution_count": 76,
   "metadata": {},
   "outputs": [
    {
     "data": {
      "text/plain": [
       "0.8821080054392405"
      ]
     },
     "execution_count": 76,
     "metadata": {},
     "output_type": "execute_result"
    }
   ],
   "source": [
    "sensitivity(violent_conf_mat)"
   ]
  },
  {
   "cell_type": "code",
   "execution_count": 77,
   "metadata": {},
   "outputs": [
    {
     "data": {
      "text/plain": [
       "0.25428779264455265"
      ]
     },
     "execution_count": 77,
     "metadata": {},
     "output_type": "execute_result"
    }
   ],
   "source": [
    "specificity(violent_conf_mat)"
   ]
  },
  {
   "cell_type": "markdown",
   "metadata": {},
   "source": [
    "## Create Model Estimation Graphs and ROC Curve"
   ]
  },
  {
   "cell_type": "code",
   "execution_count": 78,
   "metadata": {},
   "outputs": [
    {
     "data": {
      "text/plain": [
       "Text(0, 0.5, 'False Positive Rate')"
      ]
     },
     "execution_count": 78,
     "metadata": {},
     "output_type": "execute_result"
    },
    {
     "data": {
      "image/png": "[encoded data removed]",
      "text/plain": [
       "<Figure size 432x288 with 1 Axes>"
      ]
     },
     "metadata": {
      "needs_background": "light"
     },
     "output_type": "display_data"
    }
   ],
   "source": [
    "#threshold v FP rate\n",
    "\n",
    "# initialize empty matrix to fill with false positive values\n",
    "false_pos = [] \n",
    "\n",
    "threshold = np.arange(0,1,.025)\n",
    "# for each threshold from 0-1\n",
    "for i in threshold:\n",
    "    df_analyze['pred_violent_temp'] = (results.predict() > i).astype(int) # use current threshold to create predictions\n",
    "    \n",
    "    #make confusion matrix between mature and prediction\n",
    "    temp_confusion = metrics.confusion_matrix(df_analyze['violent_crime'], df_analyze['pred_violent_temp'])\n",
    "    \n",
    "    #calc false positive rate\n",
    "    temp_FP = temp_confusion[0,1]/np.sum(temp_confusion[:1])\n",
    "    false_pos.append(temp_FP)\n",
    "\n",
    "\n",
    "    \n",
    "\n",
    "plt.plot(threshold,false_pos)\n",
    "plt.title('Threshold vs False Positive rate')\n",
    "plt.xlabel('Threshold')\n",
    "plt.ylabel('False Positive Rate')"
   ]
  },
  {
   "cell_type": "code",
   "execution_count": 79,
   "metadata": {},
   "outputs": [
    {
     "name": "stderr",
     "output_type": "stream",
     "text": [
      "C:\\Users\\Jacob\\Anaconda3\\lib\\site-packages\\ipykernel_launcher.py:14: RuntimeWarning: invalid value encountered in longlong_scalars\n",
      "  \n"
     ]
    }
   ],
   "source": [
    "#precision TP / P* = True pos/ (true pos + false pos)\n",
    "#recall  TP / P = true pos/ all pos\n",
    "#F1 Score = 2* Precision*Recall/(Precision + Recall)\n",
    "precision = []\n",
    "recall = []\n",
    "f_score = []\n",
    "acc = []\n",
    "\n",
    "for i in threshold:\n",
    "    df_analyze['pred_violent_temp'] = (results.predict() > i).astype(int)\n",
    "    temp_confusion = metrics.confusion_matrix(df_analyze['violent_crime'], df_analyze['pred_violent_temp'])\n",
    "    \n",
    "    temp_acc = metrics.accuracy_score(df_analyze['violent_crime'],df_analyze['pred_violent_temp'])\n",
    "    temp_precision = temp_confusion[1,1] / (temp_confusion[1,1] + temp_confusion[0,1])\n",
    "    temp_recall = temp_confusion[1,1] / (np.sum(temp_confusion[1:]))\n",
    "    temp_fscore = (2 * temp_precision * temp_recall) / (temp_precision + temp_recall)\n",
    "    \n",
    "    #append\n",
    "    precision.append(temp_precision)\n",
    "    recall.append(temp_recall)\n",
    "    f_score.append(temp_fscore)\n",
    "    acc.append(temp_acc)\n"
   ]
  },
  {
   "cell_type": "code",
   "execution_count": 80,
   "metadata": {},
   "outputs": [
    {
     "data": {
      "text/plain": [
       "Text(0, 0.5, 'Magnitude')"
      ]
     },
     "execution_count": 80,
     "metadata": {},
     "output_type": "execute_result"
    },
    {
     "data": {
      "image/png": "[encoded data removed]",
      "text/plain": [
       "<Figure size 432x288 with 1 Axes>"
      ]
     },
     "metadata": {
      "needs_background": "light"
     },
     "output_type": "display_data"
    }
   ],
   "source": [
    "plt.plot(threshold, precision, label = 'precision')\n",
    "plt.plot(threshold, recall, label = 'recall')\n",
    "plt.plot(threshold, f_score, label = 'F score')\n",
    "plt.plot(threshold, acc, label = 'accuracy')\n",
    "plt.legend()\n",
    "plt.xlabel('Threshold')\n",
    "plt.title('Threshold vs important measures of classification')\n",
    "plt.ylabel('Magnitude')\n"
   ]
  },
  {
   "cell_type": "code",
   "execution_count": 87,
   "metadata": {},
   "outputs": [
    {
     "data": {
      "text/plain": [
       "<matplotlib.legend.Legend at 0x21470ae0f98>"
      ]
     },
     "execution_count": 87,
     "metadata": {},
     "output_type": "execute_result"
    },
    {
     "data": {
      "image/png": "[encoded data removed]",
      "text/plain": [
       "<Figure size 432x288 with 1 Axes>"
      ]
     },
     "metadata": {
      "needs_background": "light"
     },
     "output_type": "display_data"
    }
   ],
   "source": [
    "# ROC TP rate v FP rate for all threshold x = FP y = TP\n",
    "\n",
    "#recall = TP rate, false_pos = FP rate\n",
    "plt.plot(false_pos,recall)\n",
    "plt.xlabel('False positive rate')\n",
    "plt.ylabel('True Positive rate')\n",
    "plt.title('ROC plot')\n",
    "\n",
    "#symbol to show point on ROC that corresponds to threshold = 0.5\n",
    "ROC_df = pd.DataFrame()\n",
    "ROC_df['Threshold'] = threshold\n",
    "ROC_df['TP Rate'] = recall\n",
    "ROC_df['FP Rate'] = false_pos\n",
    "\n",
    "plt.scatter(.751843,.884223, color = 'r', label = 'threshold = .3') \n",
    "plt.scatter(.237601,.456368, c = 'g',label = 'threshold = .5')\n",
    "plt.legend()\n",
    "#second symbol to show point at threshold = .2"
   ]
  },
  {
   "cell_type": "code",
   "execution_count": 88,
   "metadata": {},
   "outputs": [
    {
     "data": {
      "text/html": [
       "<div>\n",
       "<style scoped>\n",
       "    .dataframe tbody tr th:only-of-type {\n",
       "        vertical-align: middle;\n",
       "    }\n",
       "\n",
       "    .dataframe tbody tr th {\n",
       "        vertical-align: top;\n",
       "    }\n",
       "\n",
       "    .dataframe thead th {\n",
       "        text-align: right;\n",
       "    }\n",
       "</style>\n",
       "<table border=\"1\" class=\"dataframe\">\n",
       "  <thead>\n",
       "    <tr style=\"text-align: right;\">\n",
       "      <th></th>\n",
       "      <th>Threshold</th>\n",
       "      <th>TP Rate</th>\n",
       "      <th>FP Rate</th>\n",
       "    </tr>\n",
       "  </thead>\n",
       "  <tbody>\n",
       "    <tr>\n",
       "      <th>0</th>\n",
       "      <td>0.000</td>\n",
       "      <td>1.000000</td>\n",
       "      <td>1.000000</td>\n",
       "    </tr>\n",
       "    <tr>\n",
       "      <th>1</th>\n",
       "      <td>0.025</td>\n",
       "      <td>1.000000</td>\n",
       "      <td>1.000000</td>\n",
       "    </tr>\n",
       "    <tr>\n",
       "      <th>2</th>\n",
       "      <td>0.050</td>\n",
       "      <td>1.000000</td>\n",
       "      <td>1.000000</td>\n",
       "    </tr>\n",
       "    <tr>\n",
       "      <th>3</th>\n",
       "      <td>0.075</td>\n",
       "      <td>1.000000</td>\n",
       "      <td>1.000000</td>\n",
       "    </tr>\n",
       "    <tr>\n",
       "      <th>4</th>\n",
       "      <td>0.100</td>\n",
       "      <td>0.999967</td>\n",
       "      <td>0.999929</td>\n",
       "    </tr>\n",
       "    <tr>\n",
       "      <th>5</th>\n",
       "      <td>0.125</td>\n",
       "      <td>0.999290</td>\n",
       "      <td>0.998124</td>\n",
       "    </tr>\n",
       "    <tr>\n",
       "      <th>6</th>\n",
       "      <td>0.150</td>\n",
       "      <td>0.996677</td>\n",
       "      <td>0.990578</td>\n",
       "    </tr>\n",
       "    <tr>\n",
       "      <th>7</th>\n",
       "      <td>0.175</td>\n",
       "      <td>0.990853</td>\n",
       "      <td>0.974401</td>\n",
       "    </tr>\n",
       "    <tr>\n",
       "      <th>8</th>\n",
       "      <td>0.200</td>\n",
       "      <td>0.979952</td>\n",
       "      <td>0.946363</td>\n",
       "    </tr>\n",
       "    <tr>\n",
       "      <th>9</th>\n",
       "      <td>0.225</td>\n",
       "      <td>0.962827</td>\n",
       "      <td>0.907290</td>\n",
       "    </tr>\n",
       "    <tr>\n",
       "      <th>10</th>\n",
       "      <td>0.250</td>\n",
       "      <td>0.940640</td>\n",
       "      <td>0.858978</td>\n",
       "    </tr>\n",
       "    <tr>\n",
       "      <th>11</th>\n",
       "      <td>0.275</td>\n",
       "      <td>0.913866</td>\n",
       "      <td>0.805127</td>\n",
       "    </tr>\n",
       "    <tr>\n",
       "      <th>12</th>\n",
       "      <td>0.300</td>\n",
       "      <td>0.882108</td>\n",
       "      <td>0.745712</td>\n",
       "    </tr>\n",
       "    <tr>\n",
       "      <th>13</th>\n",
       "      <td>0.325</td>\n",
       "      <td>0.845475</td>\n",
       "      <td>0.682405</td>\n",
       "    </tr>\n",
       "    <tr>\n",
       "      <th>14</th>\n",
       "      <td>0.350</td>\n",
       "      <td>0.804114</td>\n",
       "      <td>0.615911</td>\n",
       "    </tr>\n",
       "    <tr>\n",
       "      <th>15</th>\n",
       "      <td>0.375</td>\n",
       "      <td>0.757803</td>\n",
       "      <td>0.549063</td>\n",
       "    </tr>\n",
       "    <tr>\n",
       "      <th>16</th>\n",
       "      <td>0.400</td>\n",
       "      <td>0.707491</td>\n",
       "      <td>0.485249</td>\n",
       "    </tr>\n",
       "    <tr>\n",
       "      <th>17</th>\n",
       "      <td>0.425</td>\n",
       "      <td>0.654398</td>\n",
       "      <td>0.422396</td>\n",
       "    </tr>\n",
       "    <tr>\n",
       "      <th>18</th>\n",
       "      <td>0.450</td>\n",
       "      <td>0.596947</td>\n",
       "      <td>0.360337</td>\n",
       "    </tr>\n",
       "    <tr>\n",
       "      <th>19</th>\n",
       "      <td>0.475</td>\n",
       "      <td>0.533434</td>\n",
       "      <td>0.299041</td>\n",
       "    </tr>\n",
       "    <tr>\n",
       "      <th>20</th>\n",
       "      <td>0.500</td>\n",
       "      <td>0.463383</td>\n",
       "      <td>0.239344</td>\n",
       "    </tr>\n",
       "    <tr>\n",
       "      <th>21</th>\n",
       "      <td>0.525</td>\n",
       "      <td>0.390001</td>\n",
       "      <td>0.185225</td>\n",
       "    </tr>\n",
       "    <tr>\n",
       "      <th>22</th>\n",
       "      <td>0.550</td>\n",
       "      <td>0.316759</td>\n",
       "      <td>0.139101</td>\n",
       "    </tr>\n",
       "    <tr>\n",
       "      <th>23</th>\n",
       "      <td>0.575</td>\n",
       "      <td>0.248729</td>\n",
       "      <td>0.100192</td>\n",
       "    </tr>\n",
       "    <tr>\n",
       "      <th>24</th>\n",
       "      <td>0.600</td>\n",
       "      <td>0.184942</td>\n",
       "      <td>0.067692</td>\n",
       "    </tr>\n",
       "    <tr>\n",
       "      <th>25</th>\n",
       "      <td>0.625</td>\n",
       "      <td>0.125082</td>\n",
       "      <td>0.040967</td>\n",
       "    </tr>\n",
       "    <tr>\n",
       "      <th>26</th>\n",
       "      <td>0.650</td>\n",
       "      <td>0.071541</td>\n",
       "      <td>0.020532</td>\n",
       "    </tr>\n",
       "    <tr>\n",
       "      <th>27</th>\n",
       "      <td>0.675</td>\n",
       "      <td>0.033123</td>\n",
       "      <td>0.008326</td>\n",
       "    </tr>\n",
       "    <tr>\n",
       "      <th>28</th>\n",
       "      <td>0.700</td>\n",
       "      <td>0.011184</td>\n",
       "      <td>0.002357</td>\n",
       "    </tr>\n",
       "    <tr>\n",
       "      <th>29</th>\n",
       "      <td>0.725</td>\n",
       "      <td>0.002468</td>\n",
       "      <td>0.000567</td>\n",
       "    </tr>\n",
       "    <tr>\n",
       "      <th>30</th>\n",
       "      <td>0.750</td>\n",
       "      <td>0.000452</td>\n",
       "      <td>0.000105</td>\n",
       "    </tr>\n",
       "    <tr>\n",
       "      <th>31</th>\n",
       "      <td>0.775</td>\n",
       "      <td>0.000025</td>\n",
       "      <td>0.000009</td>\n",
       "    </tr>\n",
       "    <tr>\n",
       "      <th>32</th>\n",
       "      <td>0.800</td>\n",
       "      <td>0.000000</td>\n",
       "      <td>0.000000</td>\n",
       "    </tr>\n",
       "    <tr>\n",
       "      <th>33</th>\n",
       "      <td>0.825</td>\n",
       "      <td>0.000000</td>\n",
       "      <td>0.000000</td>\n",
       "    </tr>\n",
       "    <tr>\n",
       "      <th>34</th>\n",
       "      <td>0.850</td>\n",
       "      <td>0.000000</td>\n",
       "      <td>0.000000</td>\n",
       "    </tr>\n",
       "    <tr>\n",
       "      <th>35</th>\n",
       "      <td>0.875</td>\n",
       "      <td>0.000000</td>\n",
       "      <td>0.000000</td>\n",
       "    </tr>\n",
       "    <tr>\n",
       "      <th>36</th>\n",
       "      <td>0.900</td>\n",
       "      <td>0.000000</td>\n",
       "      <td>0.000000</td>\n",
       "    </tr>\n",
       "    <tr>\n",
       "      <th>37</th>\n",
       "      <td>0.925</td>\n",
       "      <td>0.000000</td>\n",
       "      <td>0.000000</td>\n",
       "    </tr>\n",
       "    <tr>\n",
       "      <th>38</th>\n",
       "      <td>0.950</td>\n",
       "      <td>0.000000</td>\n",
       "      <td>0.000000</td>\n",
       "    </tr>\n",
       "    <tr>\n",
       "      <th>39</th>\n",
       "      <td>0.975</td>\n",
       "      <td>0.000000</td>\n",
       "      <td>0.000000</td>\n",
       "    </tr>\n",
       "  </tbody>\n",
       "</table>\n",
       "</div>"
      ],
      "text/plain": [
       "    Threshold   TP Rate   FP Rate\n",
       "0       0.000  1.000000  1.000000\n",
       "1       0.025  1.000000  1.000000\n",
       "2       0.050  1.000000  1.000000\n",
       "3       0.075  1.000000  1.000000\n",
       "4       0.100  0.999967  0.999929\n",
       "5       0.125  0.999290  0.998124\n",
       "6       0.150  0.996677  0.990578\n",
       "7       0.175  0.990853  0.974401\n",
       "8       0.200  0.979952  0.946363\n",
       "9       0.225  0.962827  0.907290\n",
       "10      0.250  0.940640  0.858978\n",
       "11      0.275  0.913866  0.805127\n",
       "12      0.300  0.882108  0.745712\n",
       "13      0.325  0.845475  0.682405\n",
       "14      0.350  0.804114  0.615911\n",
       "15      0.375  0.757803  0.549063\n",
       "16      0.400  0.707491  0.485249\n",
       "17      0.425  0.654398  0.422396\n",
       "18      0.450  0.596947  0.360337\n",
       "19      0.475  0.533434  0.299041\n",
       "20      0.500  0.463383  0.239344\n",
       "21      0.525  0.390001  0.185225\n",
       "22      0.550  0.316759  0.139101\n",
       "23      0.575  0.248729  0.100192\n",
       "24      0.600  0.184942  0.067692\n",
       "25      0.625  0.125082  0.040967\n",
       "26      0.650  0.071541  0.020532\n",
       "27      0.675  0.033123  0.008326\n",
       "28      0.700  0.011184  0.002357\n",
       "29      0.725  0.002468  0.000567\n",
       "30      0.750  0.000452  0.000105\n",
       "31      0.775  0.000025  0.000009\n",
       "32      0.800  0.000000  0.000000\n",
       "33      0.825  0.000000  0.000000\n",
       "34      0.850  0.000000  0.000000\n",
       "35      0.875  0.000000  0.000000\n",
       "36      0.900  0.000000  0.000000\n",
       "37      0.925  0.000000  0.000000\n",
       "38      0.950  0.000000  0.000000\n",
       "39      0.975  0.000000  0.000000"
      ]
     },
     "execution_count": 88,
     "metadata": {},
     "output_type": "execute_result"
    }
   ],
   "source": [
    "ROC_df"
   ]
  },
  {
   "cell_type": "code",
   "execution_count": 89,
   "metadata": {},
   "outputs": [],
   "source": [
    "def accuracy(conf_mat):\n",
    "    return (conf_mat[0, 0] + conf_mat[1, 1])/np.sum(np.ravel(conf_mat))\n",
    "def error_rate(conf_mat):\n",
    "    return 1 - accuracy(conf_mat) "
   ]
  },
  {
   "cell_type": "markdown",
   "metadata": {},
   "source": [
    "## Model Selection\n",
    "### K-Folds Cross Validation\n",
    "#### compute and compare mean test set error for three different models (K = 2,4,5)"
   ]
  },
  {
   "cell_type": "code",
   "execution_count": 90,
   "metadata": {},
   "outputs": [],
   "source": [
    "# estimate test error, div all observations into k = 2 folds (randomize)\n",
    "#for loop selects one fold at a time to be held out\n",
    "k = 2\n",
    "threshold = 0.3\n",
    "kf = KFold(n_splits=k, shuffle=True)\n",
    "train_errs = []\n",
    "test_errs = []\n",
    "\n",
    "for train_index, test_index in kf.split(df_analyze):\n",
    "    df_train = df_analyze.iloc[train_index, :]\n",
    "    df_test = df_analyze.iloc[test_index, :]\n",
    "    \n",
    "    # logistic regression\n",
    "    res = smf.logit(pred_formula, data=df_train).fit(disp=0)\n",
    "    # total error rate \n",
    "    train_pred_temp = (res.predict(df_train) > threshold).astype(int)\n",
    "    train_conf_mat = metrics.confusion_matrix(df_train['violent_crime'], train_pred_temp)\n",
    "    train_err = error_rate(train_conf_mat)\n",
    "    train_errs.append(train_err)\n",
    "    \n",
    "    test_pred_temp = (res.predict(df_test) > threshold).astype(int)\n",
    "    test_conf_mat = metrics.confusion_matrix(df_test['violent_crime'], test_pred_temp)\n",
    "    test_err = error_rate(test_conf_mat)\n",
    "    test_errs.append(test_err)\n",
    "    \n"
   ]
  },
  {
   "cell_type": "code",
   "execution_count": 91,
   "metadata": {},
   "outputs": [
    {
     "data": {
      "text/html": [
       "<div>\n",
       "<style scoped>\n",
       "    .dataframe tbody tr th:only-of-type {\n",
       "        vertical-align: middle;\n",
       "    }\n",
       "\n",
       "    .dataframe tbody tr th {\n",
       "        vertical-align: top;\n",
       "    }\n",
       "\n",
       "    .dataframe thead th {\n",
       "        text-align: right;\n",
       "    }\n",
       "</style>\n",
       "<table border=\"1\" class=\"dataframe\">\n",
       "  <thead>\n",
       "    <tr style=\"text-align: right;\">\n",
       "      <th></th>\n",
       "      <th>training error rate</th>\n",
       "      <th>test error rate</th>\n",
       "    </tr>\n",
       "  </thead>\n",
       "  <tbody>\n",
       "    <tr>\n",
       "      <th>0</th>\n",
       "      <td>0.475635</td>\n",
       "      <td>0.475797</td>\n",
       "    </tr>\n",
       "    <tr>\n",
       "      <th>1</th>\n",
       "      <td>0.475044</td>\n",
       "      <td>0.475069</td>\n",
       "    </tr>\n",
       "  </tbody>\n",
       "</table>\n",
       "</div>"
      ],
      "text/plain": [
       "   training error rate  test error rate\n",
       "0             0.475635         0.475797\n",
       "1             0.475044         0.475069"
      ]
     },
     "execution_count": 91,
     "metadata": {},
     "output_type": "execute_result"
    }
   ],
   "source": [
    "res_table = pd.DataFrame()\n",
    "res_table['training error rate'] = train_errs\n",
    "res_table['test error rate'] = test_errs\n",
    "res_table"
   ]
  },
  {
   "cell_type": "code",
   "execution_count": 92,
   "metadata": {},
   "outputs": [
    {
     "name": "stdout",
     "output_type": "stream",
     "text": [
      "training error rate    0.475340\n",
      "test error rate        0.475433\n",
      "dtype: float64\n",
      "training error rate    0.000295\n",
      "test error rate        0.000364\n",
      "dtype: float64\n"
     ]
    }
   ],
   "source": [
    "#mean training error \n",
    "print(res_table.mean())\n",
    "#standard error of the mean\n",
    "print(res_table.sem())"
   ]
  },
  {
   "cell_type": "code",
   "execution_count": 93,
   "metadata": {},
   "outputs": [],
   "source": [
    "# estimate test error, div all observations into k = 2 folds (randomize)\n",
    "#for loop selects one fold at a time to be held out\n",
    "k = 4\n",
    "threshold = 0.3\n",
    "kf = KFold(n_splits=k, shuffle=True)\n",
    "train_errs_4 = []\n",
    "test_errs_4 = []\n",
    "\n",
    "for train_index, test_index in kf.split(df_analyze):\n",
    "    df_train = df_analyze.iloc[train_index, :]\n",
    "    df_test = df_analyze.iloc[test_index, :]\n",
    "    \n",
    "    # logistic regression\n",
    "    res = smf.logit(pred_formula, data=df_train).fit(disp=0)\n",
    "    # total error rate \n",
    "    train_pred_temp = (res.predict(df_train) > threshold).astype(int)\n",
    "    train_conf_mat = metrics.confusion_matrix(df_train['violent_crime'], train_pred_temp)\n",
    "    train_err = error_rate(train_conf_mat)\n",
    "    train_errs_4.append(train_err)\n",
    "    \n",
    "    test_pred_temp = (res.predict(df_test) > threshold).astype(int)\n",
    "    test_conf_mat = metrics.confusion_matrix(df_test['violent_crime'], test_pred_temp)\n",
    "    test_err = error_rate(test_conf_mat)\n",
    "    test_errs_4.append(test_err)\n",
    "    \n"
   ]
  },
  {
   "cell_type": "code",
   "execution_count": 94,
   "metadata": {},
   "outputs": [
    {
     "data": {
      "text/html": [
       "<div>\n",
       "<style scoped>\n",
       "    .dataframe tbody tr th:only-of-type {\n",
       "        vertical-align: middle;\n",
       "    }\n",
       "\n",
       "    .dataframe tbody tr th {\n",
       "        vertical-align: top;\n",
       "    }\n",
       "\n",
       "    .dataframe thead th {\n",
       "        text-align: right;\n",
       "    }\n",
       "</style>\n",
       "<table border=\"1\" class=\"dataframe\">\n",
       "  <thead>\n",
       "    <tr style=\"text-align: right;\">\n",
       "      <th></th>\n",
       "      <th>training error rate</th>\n",
       "      <th>test error rate</th>\n",
       "    </tr>\n",
       "  </thead>\n",
       "  <tbody>\n",
       "    <tr>\n",
       "      <th>0</th>\n",
       "      <td>0.475461</td>\n",
       "      <td>0.475791</td>\n",
       "    </tr>\n",
       "    <tr>\n",
       "      <th>1</th>\n",
       "      <td>0.475650</td>\n",
       "      <td>0.476798</td>\n",
       "    </tr>\n",
       "    <tr>\n",
       "      <th>2</th>\n",
       "      <td>0.474893</td>\n",
       "      <td>0.474641</td>\n",
       "    </tr>\n",
       "    <tr>\n",
       "      <th>3</th>\n",
       "      <td>0.475429</td>\n",
       "      <td>0.474364</td>\n",
       "    </tr>\n",
       "  </tbody>\n",
       "</table>\n",
       "</div>"
      ],
      "text/plain": [
       "   training error rate  test error rate\n",
       "0             0.475461         0.475791\n",
       "1             0.475650         0.476798\n",
       "2             0.474893         0.474641\n",
       "3             0.475429         0.474364"
      ]
     },
     "execution_count": 94,
     "metadata": {},
     "output_type": "execute_result"
    }
   ],
   "source": [
    "res_table4 = pd.DataFrame()\n",
    "res_table4['training error rate'] = train_errs_4\n",
    "res_table4['test error rate'] = test_errs_4\n",
    "res_table4"
   ]
  },
  {
   "cell_type": "code",
   "execution_count": 95,
   "metadata": {},
   "outputs": [
    {
     "name": "stdout",
     "output_type": "stream",
     "text": [
      "training error rate    0.475358\n",
      "test error rate        0.475398\n",
      "dtype: float64\n",
      "training error rate    0.000163\n",
      "test error rate        0.000559\n",
      "dtype: float64\n"
     ]
    }
   ],
   "source": [
    "#mean training error \n",
    "print(res_table4.mean())\n",
    "#standard error of the mean\n",
    "print(res_table4.sem())"
   ]
  },
  {
   "cell_type": "code",
   "execution_count": 96,
   "metadata": {},
   "outputs": [],
   "source": [
    "# estimate test error, div all observations into k = 2 folds (randomize)\n",
    "#for loop selects one fold at a time to be held out\n",
    "k = 5\n",
    "threshold = 0.3\n",
    "kf = KFold(n_splits=k, shuffle=True)\n",
    "train_errs_5 = []\n",
    "test_errs_5 = []\n",
    "\n",
    "for train_index, test_index in kf.split(df_analyze):\n",
    "    df_train = df_analyze.iloc[train_index, :]\n",
    "    df_test = df_analyze.iloc[test_index, :]\n",
    "    \n",
    "    # logistic regression\n",
    "    res = smf.logit(pred_formula, data=df_train).fit(disp=0)\n",
    "    # total error rate \n",
    "    train_pred_temp = (res.predict(df_train) > threshold).astype(int)\n",
    "    train_conf_mat = metrics.confusion_matrix(df_train['violent_crime'], train_pred_temp)\n",
    "    train_err = error_rate(train_conf_mat)\n",
    "    train_errs_5.append(train_err)\n",
    "    \n",
    "    test_pred_temp = (res.predict(df_test) > threshold).astype(int)\n",
    "    test_conf_mat = metrics.confusion_matrix(df_test['violent_crime'], test_pred_temp)\n",
    "    test_err = error_rate(test_conf_mat)\n",
    "    test_errs_5.append(test_err)\n",
    "    \n"
   ]
  },
  {
   "cell_type": "code",
   "execution_count": 97,
   "metadata": {},
   "outputs": [
    {
     "data": {
      "text/html": [
       "<div>\n",
       "<style scoped>\n",
       "    .dataframe tbody tr th:only-of-type {\n",
       "        vertical-align: middle;\n",
       "    }\n",
       "\n",
       "    .dataframe tbody tr th {\n",
       "        vertical-align: top;\n",
       "    }\n",
       "\n",
       "    .dataframe thead th {\n",
       "        text-align: right;\n",
       "    }\n",
       "</style>\n",
       "<table border=\"1\" class=\"dataframe\">\n",
       "  <thead>\n",
       "    <tr style=\"text-align: right;\">\n",
       "      <th></th>\n",
       "      <th>training error rate</th>\n",
       "      <th>test error rate</th>\n",
       "    </tr>\n",
       "  </thead>\n",
       "  <tbody>\n",
       "    <tr>\n",
       "      <th>0</th>\n",
       "      <td>0.475543</td>\n",
       "      <td>0.475252</td>\n",
       "    </tr>\n",
       "    <tr>\n",
       "      <th>1</th>\n",
       "      <td>0.475460</td>\n",
       "      <td>0.476147</td>\n",
       "    </tr>\n",
       "    <tr>\n",
       "      <th>2</th>\n",
       "      <td>0.475121</td>\n",
       "      <td>0.476823</td>\n",
       "    </tr>\n",
       "    <tr>\n",
       "      <th>3</th>\n",
       "      <td>0.475041</td>\n",
       "      <td>0.474039</td>\n",
       "    </tr>\n",
       "    <tr>\n",
       "      <th>4</th>\n",
       "      <td>0.475756</td>\n",
       "      <td>0.474793</td>\n",
       "    </tr>\n",
       "  </tbody>\n",
       "</table>\n",
       "</div>"
      ],
      "text/plain": [
       "   training error rate  test error rate\n",
       "0             0.475543         0.475252\n",
       "1             0.475460         0.476147\n",
       "2             0.475121         0.476823\n",
       "3             0.475041         0.474039\n",
       "4             0.475756         0.474793"
      ]
     },
     "execution_count": 97,
     "metadata": {},
     "output_type": "execute_result"
    }
   ],
   "source": [
    "res_table5 = pd.DataFrame()\n",
    "res_table5['training error rate'] = train_errs_5\n",
    "res_table5['test error rate'] = test_errs_5\n",
    "res_table5"
   ]
  },
  {
   "cell_type": "code",
   "execution_count": 98,
   "metadata": {},
   "outputs": [
    {
     "name": "stdout",
     "output_type": "stream",
     "text": [
      "training error rate    0.475384\n",
      "test error rate        0.475411\n",
      "dtype: float64\n",
      "training error rate    0.000134\n",
      "test error rate        0.000491\n",
      "dtype: float64\n"
     ]
    }
   ],
   "source": [
    "#mean training error \n",
    "print(res_table5.mean())\n",
    "#standard error of the mean\n",
    "print(res_table5.sem())"
   ]
  }
 ],
 "metadata": {
  "kernelspec": {
   "display_name": "Python 3",
   "language": "python",
   "name": "python3"
  },
  "language_info": {
   "codemirror_mode": {
    "name": "ipython",
    "version": 3
   },
   "file_extension": ".py",
   "mimetype": "text/x-python",
   "name": "python",
   "nbconvert_exporter": "python",
   "pygments_lexer": "ipython3",
   "version": "3.7.1"
  }
 },
 "nbformat": 4,
 "nbformat_minor": 2
}
