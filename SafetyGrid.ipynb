{
 "cells": [
  {
   "cell_type": "code",
   "execution_count": 1,
   "metadata": {},
   "outputs": [],
   "source": [
    "import pandas as pd\n",
    "import scipy\n",
    "from sklearn.neighbors import KNeighborsClassifier as KNN\n",
    "import matplotlib.pyplot as plt\n",
    "import seaborn as sns\n",
    "import statsmodels.formula.api as smf\n",
    "from sklearn import metrics\n",
    "from sklearn.model_selection import KFold\n",
    "import numpy as np\n"
   ]
  },
  {
   "cell_type": "code",
   "execution_count": 2,
   "metadata": {},
   "outputs": [],
   "source": [
    "df = pd.read_csv('Crime_Data_from_2010_to_Present.csv')"
   ]
  },
  {
   "cell_type": "code",
   "execution_count": 4,
   "metadata": {},
   "outputs": [
    {
     "data": {
      "text/html": [
       "<div>\n",
       "<style scoped>\n",
       "    .dataframe tbody tr th:only-of-type {\n",
       "        vertical-align: middle;\n",
       "    }\n",
       "\n",
       "    .dataframe tbody tr th {\n",
       "        vertical-align: top;\n",
       "    }\n",
       "\n",
       "    .dataframe thead th {\n",
       "        text-align: right;\n",
       "    }\n",
       "</style>\n",
       "<table border=\"1\" class=\"dataframe\">\n",
       "  <thead>\n",
       "    <tr style=\"text-align: right;\">\n",
       "      <th></th>\n",
       "      <th>DR_NO</th>\n",
       "      <th>Date Rptd</th>\n",
       "      <th>DATE OCC</th>\n",
       "      <th>TIME OCC</th>\n",
       "      <th>AREA</th>\n",
       "      <th>AREA NAME</th>\n",
       "      <th>Rpt Dist No</th>\n",
       "      <th>Part 1-2</th>\n",
       "      <th>Crm Cd</th>\n",
       "      <th>Crm Cd Desc</th>\n",
       "      <th>...</th>\n",
       "      <th>Status</th>\n",
       "      <th>Status Desc</th>\n",
       "      <th>Crm Cd 1</th>\n",
       "      <th>Crm Cd 2</th>\n",
       "      <th>Crm Cd 3</th>\n",
       "      <th>Crm Cd 4</th>\n",
       "      <th>LOCATION</th>\n",
       "      <th>Cross Street</th>\n",
       "      <th>LAT</th>\n",
       "      <th>LON</th>\n",
       "    </tr>\n",
       "  </thead>\n",
       "  <tbody>\n",
       "    <tr>\n",
       "      <th>0</th>\n",
       "      <td>1307355</td>\n",
       "      <td>02/20/2010 12:00:00 AM</td>\n",
       "      <td>02/20/2010 12:00:00 AM</td>\n",
       "      <td>1350</td>\n",
       "      <td>13</td>\n",
       "      <td>Newton</td>\n",
       "      <td>1385</td>\n",
       "      <td>2</td>\n",
       "      <td>900</td>\n",
       "      <td>VIOLATION OF COURT ORDER</td>\n",
       "      <td>...</td>\n",
       "      <td>AA</td>\n",
       "      <td>Adult Arrest</td>\n",
       "      <td>900.0</td>\n",
       "      <td>NaN</td>\n",
       "      <td>NaN</td>\n",
       "      <td>NaN</td>\n",
       "      <td>300 E  GAGE                         AV</td>\n",
       "      <td>NaN</td>\n",
       "      <td>33.9825</td>\n",
       "      <td>-118.2695</td>\n",
       "    </tr>\n",
       "    <tr>\n",
       "      <th>1</th>\n",
       "      <td>11401303</td>\n",
       "      <td>09/13/2010 12:00:00 AM</td>\n",
       "      <td>09/12/2010 12:00:00 AM</td>\n",
       "      <td>45</td>\n",
       "      <td>14</td>\n",
       "      <td>Pacific</td>\n",
       "      <td>1485</td>\n",
       "      <td>2</td>\n",
       "      <td>740</td>\n",
       "      <td>VANDALISM - FELONY ($400 &amp; OVER, ALL CHURCH VA...</td>\n",
       "      <td>...</td>\n",
       "      <td>IC</td>\n",
       "      <td>Invest Cont</td>\n",
       "      <td>740.0</td>\n",
       "      <td>NaN</td>\n",
       "      <td>NaN</td>\n",
       "      <td>NaN</td>\n",
       "      <td>SEPULVEDA                    BL</td>\n",
       "      <td>MANCHESTER                   AV</td>\n",
       "      <td>33.9599</td>\n",
       "      <td>-118.3962</td>\n",
       "    </tr>\n",
       "    <tr>\n",
       "      <th>2</th>\n",
       "      <td>70309629</td>\n",
       "      <td>08/09/2010 12:00:00 AM</td>\n",
       "      <td>08/09/2010 12:00:00 AM</td>\n",
       "      <td>1515</td>\n",
       "      <td>13</td>\n",
       "      <td>Newton</td>\n",
       "      <td>1324</td>\n",
       "      <td>2</td>\n",
       "      <td>946</td>\n",
       "      <td>OTHER MISCELLANEOUS CRIME</td>\n",
       "      <td>...</td>\n",
       "      <td>IC</td>\n",
       "      <td>Invest Cont</td>\n",
       "      <td>946.0</td>\n",
       "      <td>NaN</td>\n",
       "      <td>NaN</td>\n",
       "      <td>NaN</td>\n",
       "      <td>1300 E  21ST                         ST</td>\n",
       "      <td>NaN</td>\n",
       "      <td>34.0224</td>\n",
       "      <td>-118.2524</td>\n",
       "    </tr>\n",
       "    <tr>\n",
       "      <th>3</th>\n",
       "      <td>90631215</td>\n",
       "      <td>01/05/2010 12:00:00 AM</td>\n",
       "      <td>01/05/2010 12:00:00 AM</td>\n",
       "      <td>150</td>\n",
       "      <td>6</td>\n",
       "      <td>Hollywood</td>\n",
       "      <td>646</td>\n",
       "      <td>2</td>\n",
       "      <td>900</td>\n",
       "      <td>VIOLATION OF COURT ORDER</td>\n",
       "      <td>...</td>\n",
       "      <td>IC</td>\n",
       "      <td>Invest Cont</td>\n",
       "      <td>900.0</td>\n",
       "      <td>998.0</td>\n",
       "      <td>NaN</td>\n",
       "      <td>NaN</td>\n",
       "      <td>CAHUENGA                     BL</td>\n",
       "      <td>HOLLYWOOD                    BL</td>\n",
       "      <td>34.1016</td>\n",
       "      <td>-118.3295</td>\n",
       "    </tr>\n",
       "    <tr>\n",
       "      <th>4</th>\n",
       "      <td>100100501</td>\n",
       "      <td>01/03/2010 12:00:00 AM</td>\n",
       "      <td>01/02/2010 12:00:00 AM</td>\n",
       "      <td>2100</td>\n",
       "      <td>1</td>\n",
       "      <td>Central</td>\n",
       "      <td>176</td>\n",
       "      <td>1</td>\n",
       "      <td>122</td>\n",
       "      <td>RAPE, ATTEMPTED</td>\n",
       "      <td>...</td>\n",
       "      <td>IC</td>\n",
       "      <td>Invest Cont</td>\n",
       "      <td>122.0</td>\n",
       "      <td>NaN</td>\n",
       "      <td>NaN</td>\n",
       "      <td>NaN</td>\n",
       "      <td>8TH                          ST</td>\n",
       "      <td>SAN PEDRO                    ST</td>\n",
       "      <td>34.0387</td>\n",
       "      <td>-118.2488</td>\n",
       "    </tr>\n",
       "  </tbody>\n",
       "</table>\n",
       "<p>5 rows × 28 columns</p>\n",
       "</div>"
      ],
      "text/plain": [
       "       DR_NO               Date Rptd                DATE OCC  TIME OCC  AREA   \\\n",
       "0    1307355  02/20/2010 12:00:00 AM  02/20/2010 12:00:00 AM      1350     13   \n",
       "1   11401303  09/13/2010 12:00:00 AM  09/12/2010 12:00:00 AM        45     14   \n",
       "2   70309629  08/09/2010 12:00:00 AM  08/09/2010 12:00:00 AM      1515     13   \n",
       "3   90631215  01/05/2010 12:00:00 AM  01/05/2010 12:00:00 AM       150      6   \n",
       "4  100100501  01/03/2010 12:00:00 AM  01/02/2010 12:00:00 AM      2100      1   \n",
       "\n",
       "   AREA NAME  Rpt Dist No  Part 1-2  Crm Cd  \\\n",
       "0     Newton         1385         2     900   \n",
       "1    Pacific         1485         2     740   \n",
       "2     Newton         1324         2     946   \n",
       "3  Hollywood          646         2     900   \n",
       "4    Central          176         1     122   \n",
       "\n",
       "                                         Crm Cd Desc    ...    Status  \\\n",
       "0                           VIOLATION OF COURT ORDER    ...        AA   \n",
       "1  VANDALISM - FELONY ($400 & OVER, ALL CHURCH VA...    ...        IC   \n",
       "2                          OTHER MISCELLANEOUS CRIME    ...        IC   \n",
       "3                           VIOLATION OF COURT ORDER    ...        IC   \n",
       "4                                    RAPE, ATTEMPTED    ...        IC   \n",
       "\n",
       "    Status Desc Crm Cd 1 Crm Cd 2  Crm Cd 3 Crm Cd 4  \\\n",
       "0  Adult Arrest    900.0      NaN       NaN      NaN   \n",
       "1   Invest Cont    740.0      NaN       NaN      NaN   \n",
       "2   Invest Cont    946.0      NaN       NaN      NaN   \n",
       "3   Invest Cont    900.0    998.0       NaN      NaN   \n",
       "4   Invest Cont    122.0      NaN       NaN      NaN   \n",
       "\n",
       "                                  LOCATION                     Cross Street  \\\n",
       "0   300 E  GAGE                         AV                              NaN   \n",
       "1          SEPULVEDA                    BL  MANCHESTER                   AV   \n",
       "2  1300 E  21ST                         ST                              NaN   \n",
       "3          CAHUENGA                     BL  HOLLYWOOD                    BL   \n",
       "4          8TH                          ST  SAN PEDRO                    ST   \n",
       "\n",
       "       LAT       LON  \n",
       "0  33.9825 -118.2695  \n",
       "1  33.9599 -118.3962  \n",
       "2  34.0224 -118.2524  \n",
       "3  34.1016 -118.3295  \n",
       "4  34.0387 -118.2488  \n",
       "\n",
       "[5 rows x 28 columns]"
      ]
     },
     "execution_count": 4,
     "metadata": {},
     "output_type": "execute_result"
    }
   ],
   "source": [
    "df.head()"
   ]
  },
  {
   "cell_type": "code",
   "execution_count": 5,
   "metadata": {},
   "outputs": [
    {
     "data": {
      "text/plain": [
       "Index(['DR_NO', 'Date Rptd', 'DATE OCC', 'TIME OCC', 'AREA ', 'AREA NAME',\n",
       "       'Rpt Dist No', 'Part 1-2', 'Crm Cd', 'Crm Cd Desc', 'Mocodes',\n",
       "       'Vict Age', 'Vict Sex', 'Vict Descent', 'Premis Cd', 'Premis Desc',\n",
       "       'Weapon Used Cd', 'Weapon Desc', 'Status', 'Status Desc', 'Crm Cd 1',\n",
       "       'Crm Cd 2', 'Crm Cd 3', 'Crm Cd 4', 'LOCATION', 'Cross Street', 'LAT',\n",
       "       'LON'],\n",
       "      dtype='object')"
      ]
     },
     "execution_count": 5,
     "metadata": {},
     "output_type": "execute_result"
    }
   ],
   "source": [
    "df.columns"
   ]
  },
  {
   "cell_type": "code",
   "execution_count": 6,
   "metadata": {},
   "outputs": [
    {
     "data": {
      "text/plain": [
       "Index(['DATE OCC', 'TIME OCC', 'AREA NAME', 'Crm Cd Desc', 'Vict Age',\n",
       "       'Vict Sex', 'Vict Descent', 'LAT', 'LON'],\n",
       "      dtype='object')"
      ]
     },
     "execution_count": 6,
     "metadata": {},
     "output_type": "execute_result"
    }
   ],
   "source": [
    "#drop columns irrelevant to our data analysis\n",
    "drop_cols = [\n",
    "    'DR_NO',\n",
    "    'Date Rptd',\n",
    "    'AREA ',\n",
    "    'Rpt Dist No',\n",
    "    'Part 1-2',\n",
    "    'Crm Cd',\n",
    "    'Premis Cd',\n",
    "    'Premis Desc',\n",
    "    'Weapon Used Cd',\n",
    "    'Weapon Desc',\n",
    "    'Mocodes',\n",
    "    'Status',\n",
    "    'Status Desc',\n",
    "    'Crm Cd 1',\n",
    "    'Crm Cd 2',\n",
    "    'Crm Cd 3',\n",
    "    'Crm Cd 4',\n",
    "    'Cross Street',\n",
    "    'LOCATION',\n",
    "]\n",
    "\n",
    "df = df.drop(drop_cols, axis=1)\n",
    "df.columns"
   ]
  },
  {
   "cell_type": "code",
   "execution_count": 7,
   "metadata": {},
   "outputs": [
    {
     "data": {
      "text/plain": [
       "Index(['DATE_OCC', 'TIME_OCC', 'AREA_NAME', 'Crm Cd Desc', 'Vict_Age',\n",
       "       'Vict_Sex', 'Vict_Descent', 'LAT', 'LON'],\n",
       "      dtype='object')"
      ]
     },
     "execution_count": 7,
     "metadata": {},
     "output_type": "execute_result"
    }
   ],
   "source": [
    "df.rename(columns={\"DATE OCC\": \"DATE_OCC\", \"TIME OCC\": \"TIME_OCC\",'AREA NAME':'AREA_NAME','Vict Age':'Vict_Age',\n",
    "        'Vict Sex':'Vict_Sex', 'Vict Descent': 'Vict_Descent'}, inplace = True)\n",
    "          \n",
    "df.columns"
   ]
  },
  {
   "cell_type": "code",
   "execution_count": 8,
   "metadata": {},
   "outputs": [],
   "source": [
    "# clean up date occurred to only contain month/day/year\n",
    "temp = df['DATE_OCC'].str.split(' ',n = 1, expand = True)\n",
    "temp2 = temp[0]\n",
    "df['DATE_OCC'] = temp2"
   ]
  },
  {
   "cell_type": "code",
   "execution_count": 9,
   "metadata": {
    "scrolled": true
   },
   "outputs": [
    {
     "data": {
      "text/html": [
       "<div>\n",
       "<style scoped>\n",
       "    .dataframe tbody tr th:only-of-type {\n",
       "        vertical-align: middle;\n",
       "    }\n",
       "\n",
       "    .dataframe tbody tr th {\n",
       "        vertical-align: top;\n",
       "    }\n",
       "\n",
       "    .dataframe thead th {\n",
       "        text-align: right;\n",
       "    }\n",
       "</style>\n",
       "<table border=\"1\" class=\"dataframe\">\n",
       "  <thead>\n",
       "    <tr style=\"text-align: right;\">\n",
       "      <th></th>\n",
       "      <th>DATE_OCC</th>\n",
       "      <th>TIME_OCC</th>\n",
       "      <th>AREA_NAME</th>\n",
       "      <th>Crm Cd Desc</th>\n",
       "      <th>Vict_Age</th>\n",
       "      <th>Vict_Sex</th>\n",
       "      <th>Vict_Descent</th>\n",
       "      <th>LAT</th>\n",
       "      <th>LON</th>\n",
       "    </tr>\n",
       "  </thead>\n",
       "  <tbody>\n",
       "    <tr>\n",
       "      <th>0</th>\n",
       "      <td>02/20/2010</td>\n",
       "      <td>1350</td>\n",
       "      <td>Newton</td>\n",
       "      <td>VIOLATION OF COURT ORDER</td>\n",
       "      <td>48</td>\n",
       "      <td>M</td>\n",
       "      <td>H</td>\n",
       "      <td>33.9825</td>\n",
       "      <td>-118.2695</td>\n",
       "    </tr>\n",
       "    <tr>\n",
       "      <th>1</th>\n",
       "      <td>09/12/2010</td>\n",
       "      <td>45</td>\n",
       "      <td>Pacific</td>\n",
       "      <td>VANDALISM - FELONY ($400 &amp; OVER, ALL CHURCH VA...</td>\n",
       "      <td>0</td>\n",
       "      <td>M</td>\n",
       "      <td>W</td>\n",
       "      <td>33.9599</td>\n",
       "      <td>-118.3962</td>\n",
       "    </tr>\n",
       "    <tr>\n",
       "      <th>2</th>\n",
       "      <td>08/09/2010</td>\n",
       "      <td>1515</td>\n",
       "      <td>Newton</td>\n",
       "      <td>OTHER MISCELLANEOUS CRIME</td>\n",
       "      <td>0</td>\n",
       "      <td>M</td>\n",
       "      <td>H</td>\n",
       "      <td>34.0224</td>\n",
       "      <td>-118.2524</td>\n",
       "    </tr>\n",
       "    <tr>\n",
       "      <th>3</th>\n",
       "      <td>01/05/2010</td>\n",
       "      <td>150</td>\n",
       "      <td>Hollywood</td>\n",
       "      <td>VIOLATION OF COURT ORDER</td>\n",
       "      <td>47</td>\n",
       "      <td>F</td>\n",
       "      <td>W</td>\n",
       "      <td>34.1016</td>\n",
       "      <td>-118.3295</td>\n",
       "    </tr>\n",
       "    <tr>\n",
       "      <th>4</th>\n",
       "      <td>01/02/2010</td>\n",
       "      <td>2100</td>\n",
       "      <td>Central</td>\n",
       "      <td>RAPE, ATTEMPTED</td>\n",
       "      <td>47</td>\n",
       "      <td>F</td>\n",
       "      <td>H</td>\n",
       "      <td>34.0387</td>\n",
       "      <td>-118.2488</td>\n",
       "    </tr>\n",
       "  </tbody>\n",
       "</table>\n",
       "</div>"
      ],
      "text/plain": [
       "     DATE_OCC  TIME_OCC  AREA_NAME  \\\n",
       "0  02/20/2010      1350     Newton   \n",
       "1  09/12/2010        45    Pacific   \n",
       "2  08/09/2010      1515     Newton   \n",
       "3  01/05/2010       150  Hollywood   \n",
       "4  01/02/2010      2100    Central   \n",
       "\n",
       "                                         Crm Cd Desc  Vict_Age Vict_Sex  \\\n",
       "0                           VIOLATION OF COURT ORDER        48        M   \n",
       "1  VANDALISM - FELONY ($400 & OVER, ALL CHURCH VA...         0        M   \n",
       "2                          OTHER MISCELLANEOUS CRIME         0        M   \n",
       "3                           VIOLATION OF COURT ORDER        47        F   \n",
       "4                                    RAPE, ATTEMPTED        47        F   \n",
       "\n",
       "  Vict_Descent      LAT       LON  \n",
       "0            H  33.9825 -118.2695  \n",
       "1            W  33.9599 -118.3962  \n",
       "2            H  34.0224 -118.2524  \n",
       "3            W  34.1016 -118.3295  \n",
       "4            H  34.0387 -118.2488  "
      ]
     },
     "execution_count": 9,
     "metadata": {},
     "output_type": "execute_result"
    }
   ],
   "source": [
    "df.head()"
   ]
  },
  {
   "cell_type": "code",
   "execution_count": 10,
   "metadata": {
    "scrolled": true
   },
   "outputs": [
    {
     "data": {
      "text/plain": [
       "array(['VIOLATION OF COURT ORDER',\n",
       "       'VANDALISM - FELONY ($400 & OVER, ALL CHURCH VANDALISMS)',\n",
       "       'OTHER MISCELLANEOUS CRIME', 'RAPE, ATTEMPTED',\n",
       "       'SHOPLIFTING - PETTY THEFT ($950 & UNDER)',\n",
       "       'BURGLARY FROM VEHICLE',\n",
       "       'ASSAULT WITH DEADLY WEAPON, AGGRAVATED ASSAULT',\n",
       "       'THEFT-GRAND ($950.01 & OVER)EXCPT,GUNS,FOWL,LIVESTK,PROD',\n",
       "       'BATTERY - SIMPLE ASSAULT', 'ROBBERY', 'BOMB SCARE',\n",
       "       'CHILD NEGLECT (SEE 300 W.I.C.)',\n",
       "       'INTIMATE PARTNER - AGGRAVATED ASSAULT',\n",
       "       'INTIMATE PARTNER - SIMPLE ASSAULT',\n",
       "       'THEFT PLAIN - PETTY ($950 & UNDER)',\n",
       "       'CRIMINAL THREATS - NO WEAPON DISPLAYED', 'ATTEMPTED ROBBERY',\n",
       "       'VANDALISM - MISDEAMEANOR ($399 OR UNDER)', 'BURGLARY', 'ARSON',\n",
       "       'RAPE, FORCIBLE', 'BRANDISH WEAPON',\n",
       "       'THROWING OBJECT AT MOVING VEHICLE',\n",
       "       'SHOPLIFTING-GRAND THEFT ($950.01 & OVER)',\n",
       "       'CHILD ABUSE (PHYSICAL) - SIMPLE ASSAULT',\n",
       "       'SHOTS FIRED AT INHABITED DWELLING',\n",
       "       'THEFT FROM MOTOR VEHICLE - GRAND ($400 AND OVER)',\n",
       "       'VEHICLE - STOLEN', 'KIDNAPPING - GRAND ATTEMPT',\n",
       "       'CRIMINAL HOMICIDE', 'THEFT PLAIN - ATTEMPT', 'THEFT, PERSON',\n",
       "       'TRESPASSING', 'KIDNAPPING', 'VEHICLE - ATTEMPT STOLEN',\n",
       "       'BATTERY WITH SEXUAL CONTACT', 'DOCUMENT FORGERY / STOLEN FELONY',\n",
       "       'BATTERY POLICE (SIMPLE)',\n",
       "       'CHILD ABUSE (PHYSICAL) - AGGRAVATED ASSAULT',\n",
       "       'DISTURBING THE PEACE', 'OTHER ASSAULT',\n",
       "       'VIOLATION OF RESTRAINING ORDER', 'LEWD CONDUCT',\n",
       "       'CRM AGNST CHLD (13 OR UNDER) (14-15 & SUSP 10 YRS OLDER)',\n",
       "       'THEFT OF IDENTITY',\n",
       "       'ASSAULT WITH DEADLY WEAPON ON POLICE OFFICER',\n",
       "       'CHILD ANNOYING (17YRS & UNDER)',\n",
       "       'SODOMY/SEXUAL CONTACT B/W PENIS OF ONE PERS TO ANUS OTH',\n",
       "       'ORAL COPULATION', 'CRUELTY TO ANIMALS',\n",
       "       'THEFT FROM MOTOR VEHICLE - PETTY ($950 & UNDER)',\n",
       "       'LETTERS, LEWD  -  TELEPHONE CALLS, LEWD', 'PEEPING TOM',\n",
       "       'INDECENT EXPOSURE', 'BIKE - STOLEN',\n",
       "       'BURGLARY FROM VEHICLE, ATTEMPTED', 'BURGLARY, ATTEMPTED',\n",
       "       'STALKING', 'THREATENING PHONE CALLS/LETTERS',\n",
       "       'SEX,UNLAWFUL(INC MUTUAL CONSENT, PENETRATION W/ FRGN OBJ',\n",
       "       'BUNCO, PETTY THEFT', 'VIOLATION OF TEMPORARY RESTRAINING ORDER',\n",
       "       'BUNCO, GRAND THEFT', 'EMBEZZLEMENT, GRAND THEFT ($950.01 & OVER)',\n",
       "       'SEXUAL PENETRATION W/FOREIGN OBJECT', 'EXTORTION', 'PICKPOCKET',\n",
       "       'EMBEZZLEMENT, PETTY THEFT ($950 & UNDER)', 'PURSE SNATCHING',\n",
       "       'WEAPONS POSSESSION/BOMBING', 'COUNTERFEIT',\n",
       "       'DEFRAUDING INNKEEPER/THEFT OF SERVICES, $400 & UNDER',\n",
       "       'FALSE IMPRISONMENT', 'CREDIT CARDS, FRAUD USE ($950.01 & OVER)',\n",
       "       'DISCHARGE FIREARMS/SHOTS FIRED',\n",
       "       'DEFRAUDING INNKEEPER/THEFT OF SERVICES, OVER $400',\n",
       "       'THEFT FROM PERSON - ATTEMPT', 'UNAUTHORIZED COMPUTER ACCESS',\n",
       "       'PANDERING', 'PIMPING', 'DRUNK ROLL - ATTEMPT',\n",
       "       'SHOPLIFTING - ATTEMPT', 'RESISTING ARREST',\n",
       "       'DISHONEST EMPLOYEE - GRAND THEFT', 'RECKLESS DRIVING', 'PROWLER',\n",
       "       'CREDIT CARDS, FRAUD USE ($950 & UNDER',\n",
       "       'DOCUMENT WORTHLESS ($200.01 & OVER)', 'CHILD STEALING',\n",
       "       'CONTEMPT OF COURT', 'CONSPIRACY',\n",
       "       'THEFT FROM MOTOR VEHICLE - ATTEMPT', 'DRUNK ROLL',\n",
       "       'BATTERY ON A FIREFIGHTER', 'ILLEGAL DUMPING', 'LYNCHING',\n",
       "       'THEFT, COIN MACHINE - PETTY ($950 & UNDER)',\n",
       "       'GRAND THEFT / INSURANCE FRAUD', 'BUNCO, ATTEMPT',\n",
       "       'DISRUPT SCHOOL', 'THEFT, COIN MACHINE - GRAND ($950.01 & OVER)',\n",
       "       'FALSE POLICE REPORT', 'PURSE SNATCHING - ATTEMPT',\n",
       "       'BOAT - STOLEN',\n",
       "       'SHOTS FIRED AT MOVING VEHICLE, TRAIN OR AIRCRAFT',\n",
       "       'DRIVING WITHOUT OWNER CONSENT (DWOC)', 'CONTRIBUTING',\n",
       "       'FAILURE TO YIELD', 'TILL TAP - ATTEMPT', 'DRUGS, TO A MINOR',\n",
       "       'INCITING A RIOT',\n",
       "       'BEASTIALITY, CRIME AGAINST NATURE SEXUAL ASSLT WITH ANIM',\n",
       "       'BRIBERY', 'LYNCHING - ATTEMPTED', 'TELEPHONE PROPERTY - DAMAGE',\n",
       "       'CHILD ABANDONMENT', 'THEFT, COIN MACHINE - ATTEMPT',\n",
       "       'DISHONEST EMPLOYEE - PETTY THEFT', 'PETTY THEFT - AUTO REPAIR',\n",
       "       'BIGAMY', 'TILL TAP - PETTY ($950 & UNDER)',\n",
       "       'TILL TAP - GRAND THEFT ($950.01 & OVER)',\n",
       "       'DOCUMENT WORTHLESS ($200 & UNDER)', 'MANSLAUGHTER, NEGLIGENT',\n",
       "       'PICKPOCKET, ATTEMPT', 'GRAND THEFT / AUTO REPAIR',\n",
       "       'HUMAN TRAFFICKING - COMMERCIAL SEX ACTS',\n",
       "       'LEWD/LASCIVIOUS ACTS WITH CHILD', 'BIKE - ATTEMPTED STOLEN',\n",
       "       'FAILURE TO DISPERSE',\n",
       "       'REPLICA FIREARMS(SALE,DISPLAY,MANUFACTURE OR DISTRIBUTE)',\n",
       "       'HUMAN TRAFFICKING - INVOLUNTARY SERVITUDE', 'CHILD PORNOGRAPHY',\n",
       "       'ABORTION/ILLEGAL', 'INCEST (SEXUAL ACTS BETWEEN BLOOD RELATIVES)',\n",
       "       'DISHONEST EMPLOYEE ATTEMPTED THEFT', 'TRAIN WRECKING',\n",
       "       'BLOCKING DOOR INDUCTION CENTER',\n",
       "       'FIREARMS RESTRAINING ORDER (FIREARMS RO)',\n",
       "       'VEHICLE - MOTORIZED SCOOTERS, BICYCLES, AND WHEELCHAIRS',\n",
       "       'FIREARMS TEMPORARY RESTRAINING ORDER (TEMP FIREARMS RO)'],\n",
       "      dtype=object)"
      ]
     },
     "execution_count": 10,
     "metadata": {},
     "output_type": "execute_result"
    }
   ],
   "source": [
    "df['Crm Cd Desc'].unique()"
   ]
  },
  {
   "cell_type": "code",
   "execution_count": 11,
   "metadata": {
    "scrolled": true
   },
   "outputs": [
    {
     "data": {
      "text/html": [
       "<div>\n",
       "<style scoped>\n",
       "    .dataframe tbody tr th:only-of-type {\n",
       "        vertical-align: middle;\n",
       "    }\n",
       "\n",
       "    .dataframe tbody tr th {\n",
       "        vertical-align: top;\n",
       "    }\n",
       "\n",
       "    .dataframe thead th {\n",
       "        text-align: right;\n",
       "    }\n",
       "</style>\n",
       "<table border=\"1\" class=\"dataframe\">\n",
       "  <thead>\n",
       "    <tr style=\"text-align: right;\">\n",
       "      <th></th>\n",
       "      <th>DATE_OCC</th>\n",
       "      <th>TIME_OCC</th>\n",
       "      <th>AREA_NAME</th>\n",
       "      <th>Crm Cd Desc</th>\n",
       "      <th>Vict_Age</th>\n",
       "      <th>Vict_Sex</th>\n",
       "      <th>Vict_Descent</th>\n",
       "      <th>LAT</th>\n",
       "      <th>LON</th>\n",
       "    </tr>\n",
       "  </thead>\n",
       "  <tbody>\n",
       "    <tr>\n",
       "      <th>0</th>\n",
       "      <td>02/20/2010</td>\n",
       "      <td>1350</td>\n",
       "      <td>Newton</td>\n",
       "      <td>VIOLATION OF COURT ORDER</td>\n",
       "      <td>48</td>\n",
       "      <td>M</td>\n",
       "      <td>H</td>\n",
       "      <td>33.9825</td>\n",
       "      <td>-118.2695</td>\n",
       "    </tr>\n",
       "    <tr>\n",
       "      <th>1</th>\n",
       "      <td>09/12/2010</td>\n",
       "      <td>45</td>\n",
       "      <td>Pacific</td>\n",
       "      <td>VANDALISM - FELONY ($400 &amp; OVER, ALL CHURCH VA...</td>\n",
       "      <td>0</td>\n",
       "      <td>M</td>\n",
       "      <td>W</td>\n",
       "      <td>33.9599</td>\n",
       "      <td>-118.3962</td>\n",
       "    </tr>\n",
       "    <tr>\n",
       "      <th>2</th>\n",
       "      <td>08/09/2010</td>\n",
       "      <td>1515</td>\n",
       "      <td>Newton</td>\n",
       "      <td>OTHER MISCELLANEOUS CRIME</td>\n",
       "      <td>0</td>\n",
       "      <td>M</td>\n",
       "      <td>H</td>\n",
       "      <td>34.0224</td>\n",
       "      <td>-118.2524</td>\n",
       "    </tr>\n",
       "    <tr>\n",
       "      <th>3</th>\n",
       "      <td>01/05/2010</td>\n",
       "      <td>150</td>\n",
       "      <td>Hollywood</td>\n",
       "      <td>VIOLATION OF COURT ORDER</td>\n",
       "      <td>47</td>\n",
       "      <td>F</td>\n",
       "      <td>W</td>\n",
       "      <td>34.1016</td>\n",
       "      <td>-118.3295</td>\n",
       "    </tr>\n",
       "    <tr>\n",
       "      <th>4</th>\n",
       "      <td>01/02/2010</td>\n",
       "      <td>2100</td>\n",
       "      <td>Central</td>\n",
       "      <td>RAPE, ATTEMPTED</td>\n",
       "      <td>47</td>\n",
       "      <td>F</td>\n",
       "      <td>H</td>\n",
       "      <td>34.0387</td>\n",
       "      <td>-118.2488</td>\n",
       "    </tr>\n",
       "  </tbody>\n",
       "</table>\n",
       "</div>"
      ],
      "text/plain": [
       "     DATE_OCC  TIME_OCC  AREA_NAME  \\\n",
       "0  02/20/2010      1350     Newton   \n",
       "1  09/12/2010        45    Pacific   \n",
       "2  08/09/2010      1515     Newton   \n",
       "3  01/05/2010       150  Hollywood   \n",
       "4  01/02/2010      2100    Central   \n",
       "\n",
       "                                         Crm Cd Desc  Vict_Age Vict_Sex  \\\n",
       "0                           VIOLATION OF COURT ORDER        48        M   \n",
       "1  VANDALISM - FELONY ($400 & OVER, ALL CHURCH VA...         0        M   \n",
       "2                          OTHER MISCELLANEOUS CRIME         0        M   \n",
       "3                           VIOLATION OF COURT ORDER        47        F   \n",
       "4                                    RAPE, ATTEMPTED        47        F   \n",
       "\n",
       "  Vict_Descent      LAT       LON  \n",
       "0            H  33.9825 -118.2695  \n",
       "1            W  33.9599 -118.3962  \n",
       "2            H  34.0224 -118.2524  \n",
       "3            W  34.1016 -118.3295  \n",
       "4            H  34.0387 -118.2488  "
      ]
     },
     "execution_count": 11,
     "metadata": {},
     "output_type": "execute_result"
    }
   ],
   "source": [
    "df.head()"
   ]
  },
  {
   "cell_type": "code",
   "execution_count": 12,
   "metadata": {},
   "outputs": [
    {
     "data": {
      "text/plain": [
       "array(['Newton', 'Pacific', 'Hollywood', 'Central', 'Northeast',\n",
       "       'Hollenbeck', 'Southwest', 'Southeast', 'Rampart', 'Olympic',\n",
       "       'Wilshire', '77th Street', 'Harbor', 'West LA', 'Van Nuys',\n",
       "       'West Valley', 'Topanga', 'N Hollywood', 'Mission', 'Foothill',\n",
       "       'Devonshire'], dtype=object)"
      ]
     },
     "execution_count": 12,
     "metadata": {},
     "output_type": "execute_result"
    }
   ],
   "source": [
    "df['AREA_NAME'].unique()"
   ]
  },
  {
   "cell_type": "code",
   "execution_count": 13,
   "metadata": {},
   "outputs": [],
   "source": [
    "#drop all victimless crime\n",
    "df.dropna(inplace = True)\n",
    "df.reset_index(inplace = True)"
   ]
  },
  {
   "cell_type": "code",
   "execution_count": 14,
   "metadata": {},
   "outputs": [],
   "source": [
    "#non-violent crimes list\n",
    "non_violent = ['ABORTION/ILLEGAL',\n",
    "    'BIGAMY',\n",
    "    'BIKE - ATTEMPTED STOLEN',\n",
    "    'BIKE - STOLEN',\n",
    "    'BLOCKING DOOR INDUCTION CENTER',\n",
    "    'BOAT - STOLEN',\n",
    "    'BRIBERY',\n",
    "    'BUNCO, ATTEMPT',\n",
    "    'BUNCO, GRAND THEFT',\n",
    "    'BUNCO, PETTY THEFT',\n",
    "    'BURGLARY',\n",
    "    'BURGLARY FROM VEHICLE',\n",
    "    'BURGLARY FROM VEHICLE, ATTEMPTED',\n",
    "    'BURGLARY, ATTEMPTED',\n",
    "    'CHILD ABANDONMENT',\n",
    "    'CHILD ANNOYING (17YRS & UNDER)',\n",
    "    'CHILD NEGLECT (SEE 300 W.I.C.)',\n",
    "    'CHILD PORNOGRAPHY',\n",
    "    'CONSPIRACY',\n",
    "    'CONTEMPT OF COURT',\n",
    "    'CONTRIBUTING',\n",
    "    'COUNTERFEIT',\n",
    "    'CREDIT CARDS, FRAUD USE ($950 & UNDER',\n",
    "    'CREDIT CARDS, FRAUD USE ($950.01 & OVER)',\n",
    "    'DEFRAUDING INNKEEPER/THEFT OF SERVICES, $400 & UNDER',\n",
    "    'DEFRAUDING INNKEEPER/THEFT OF SERVICES, OVER $400',\n",
    "    'DISHONEST EMPLOYEE - GRAND THEFT',\n",
    "    'DISHONEST EMPLOYEE - PETTY THEFT',\n",
    "    'DISHONEST EMPLOYEE ATTEMPTED THEFT',\n",
    "    'DISRUPT SCHOOL',\n",
    "    'DISTURBING THE PEACE',\n",
    "    'DOCUMENT FORGERY / STOLEN FELONY',\n",
    "    'DOCUMENT WORTHLESS ($200 & UNDER)',\n",
    "    'DOCUMENT WORTHLESS ($200.01 & OVER)',\n",
    "    'DRIVING WITHOUT OWNER CONSENT (DWOC)',\n",
    "    'DRUGS, TO A MINOR',\n",
    "    'DRUNK ROLL',\n",
    "    'DRUNK ROLL - ATTEMPT',\n",
    "    'EMBEZZLEMENT, GRAND THEFT ($950.01 & OVER)',\n",
    "    'EMBEZZLEMENT, PETTY THEFT ($950 & UNDER)',\n",
    "    'EXTORTION',\n",
    "    'FAILURE TO DISPERSE',\n",
    "    'FAILURE TO YIELD',\n",
    "    'FALSE IMPRISONMENT',\n",
    "    'FALSE POLICE REPORT',\n",
    "    'FIREARMS RESTRAINING ORDER (FIREARMS RO)',\n",
    "    'FIREARMS TEMPORARY RESTRAINING ORDER (TEMP FIREARMS RO)',\n",
    "    'GRAND THEFT / AUTO REPAIR',\n",
    "    'GRAND THEFT / INSURANCE FRAUD',\n",
    "    'ILLEGAL DUMPING',\n",
    "    'INCEST (SEXUAL ACTS BETWEEN BLOOD RELATIVES)',\n",
    "    'INDECENT EXPOSURE',\n",
    "    'LETTERS, LEWD - TELEPHONE CALLS, LEWD',\n",
    "    'OTHER MISCELLANEOUS CRIME',\n",
    "    'PANDERING',\n",
    "    'PEEPING TOM',\n",
    "    'PETTY THEFT - AUTO REPAIR',\n",
    "    'PICKPOCKET',\n",
    "    'PICKPOCKET, ATTEMPT',\n",
    "    'REPLICA FIREARMS(SALE,DISPLAY,MANUFACTURE OR DISTRIBUTE)',\n",
    "    'SHOPLIFTING - ATTEMPT',\n",
    "    'SHOPLIFTING - PETTY THEFT ($950 & UNDER)',\n",
    "    'SHOPLIFTING-GRAND THEFT ($950.01 & OVER)',\n",
    "    'THEFT FROM MOTOR VEHICLE - ATTEMPT',\n",
    "    'THEFT FROM MOTOR VEHICLE - GRAND ($400 AND OVER)',\n",
    "    'THEFT FROM MOTOR VEHICLE - PETTY ($950 & UNDER)',\n",
    "    'THEFT OF IDENTITY',\n",
    "    'THEFT PLAIN - ATTEMPT',\n",
    "    'THEFT PLAIN - PETTY ($950 & UNDER)',\n",
    "    'THEFT, COIN MACHINE - ATTEMPT',\n",
    "    'THEFT, COIN MACHINE - GRAND ($950.01 & OVER)',\n",
    "    'THEFT, COIN MACHINE - PETTY ($950 & UNDER)',\n",
    "    'THEFT-GRAND ($950.01 & OVER)EXCPT,GUNS,FOWL',\n",
    "    'TILL TAP - ATTEMPT',\n",
    "    'TILL TAP - GRAND THEFT ($950.01 & OVER)',\n",
    "    'TILL TAP - PETTY ($950 & UNDER)',\n",
    "    'TRESPASSING',\n",
    "    'UNAUTHORIZED COMPUTER ACCESS',\n",
    "    'VANDALISM - FELONY ($400 & OVER, ALL CHURCH VANDALISMS)',\n",
    "    'VANDALISM - MISDEAMEANOR ($399 OR UNDER)',\n",
    "    'VEHICLE - ATTEMPT STOLEN',\n",
    "    'VEHICLE - STOLEN',\n",
    "    'VIOLATION OF COURT ORDER',\n",
    "    'VIOLATION OF RESTRAINING ORDER',\n",
    "    'VIOLATION OF TEMPORARY RESTRAINING ORDER',\n",
    "]"
   ]
  },
  {
   "cell_type": "code",
   "execution_count": 15,
   "metadata": {},
   "outputs": [],
   "source": [
    "#create new column of violent and non-violent crimes\n",
    "violent_crime = []\n",
    "\n",
    "for index in range(len(df['Crm Cd Desc'])):\n",
    "    if df['Crm Cd Desc'][index] in non_violent:\n",
    "        violent_crime.append(0)\n",
    "    else:\n",
    "        violent_crime.append(1)"
   ]
  },
  {
   "cell_type": "code",
   "execution_count": 16,
   "metadata": {},
   "outputs": [
    {
     "data": {
      "text/html": [
       "<div>\n",
       "<style scoped>\n",
       "    .dataframe tbody tr th:only-of-type {\n",
       "        vertical-align: middle;\n",
       "    }\n",
       "\n",
       "    .dataframe tbody tr th {\n",
       "        vertical-align: top;\n",
       "    }\n",
       "\n",
       "    .dataframe thead th {\n",
       "        text-align: right;\n",
       "    }\n",
       "</style>\n",
       "<table border=\"1\" class=\"dataframe\">\n",
       "  <thead>\n",
       "    <tr style=\"text-align: right;\">\n",
       "      <th></th>\n",
       "      <th>index</th>\n",
       "      <th>DATE_OCC</th>\n",
       "      <th>TIME_OCC</th>\n",
       "      <th>AREA_NAME</th>\n",
       "      <th>Crm Cd Desc</th>\n",
       "      <th>Vict_Age</th>\n",
       "      <th>Vict_Sex</th>\n",
       "      <th>Vict_Descent</th>\n",
       "      <th>LAT</th>\n",
       "      <th>LON</th>\n",
       "      <th>violent_crime</th>\n",
       "    </tr>\n",
       "  </thead>\n",
       "  <tbody>\n",
       "    <tr>\n",
       "      <th>0</th>\n",
       "      <td>0</td>\n",
       "      <td>02/20/2010</td>\n",
       "      <td>1350</td>\n",
       "      <td>Newton</td>\n",
       "      <td>VIOLATION OF COURT ORDER</td>\n",
       "      <td>48</td>\n",
       "      <td>M</td>\n",
       "      <td>H</td>\n",
       "      <td>33.9825</td>\n",
       "      <td>-118.2695</td>\n",
       "      <td>0</td>\n",
       "    </tr>\n",
       "    <tr>\n",
       "      <th>1</th>\n",
       "      <td>1</td>\n",
       "      <td>09/12/2010</td>\n",
       "      <td>45</td>\n",
       "      <td>Pacific</td>\n",
       "      <td>VANDALISM - FELONY ($400 &amp; OVER, ALL CHURCH VA...</td>\n",
       "      <td>0</td>\n",
       "      <td>M</td>\n",
       "      <td>W</td>\n",
       "      <td>33.9599</td>\n",
       "      <td>-118.3962</td>\n",
       "      <td>0</td>\n",
       "    </tr>\n",
       "    <tr>\n",
       "      <th>2</th>\n",
       "      <td>2</td>\n",
       "      <td>08/09/2010</td>\n",
       "      <td>1515</td>\n",
       "      <td>Newton</td>\n",
       "      <td>OTHER MISCELLANEOUS CRIME</td>\n",
       "      <td>0</td>\n",
       "      <td>M</td>\n",
       "      <td>H</td>\n",
       "      <td>34.0224</td>\n",
       "      <td>-118.2524</td>\n",
       "      <td>0</td>\n",
       "    </tr>\n",
       "    <tr>\n",
       "      <th>3</th>\n",
       "      <td>3</td>\n",
       "      <td>01/05/2010</td>\n",
       "      <td>150</td>\n",
       "      <td>Hollywood</td>\n",
       "      <td>VIOLATION OF COURT ORDER</td>\n",
       "      <td>47</td>\n",
       "      <td>F</td>\n",
       "      <td>W</td>\n",
       "      <td>34.1016</td>\n",
       "      <td>-118.3295</td>\n",
       "      <td>0</td>\n",
       "    </tr>\n",
       "    <tr>\n",
       "      <th>4</th>\n",
       "      <td>4</td>\n",
       "      <td>01/02/2010</td>\n",
       "      <td>2100</td>\n",
       "      <td>Central</td>\n",
       "      <td>RAPE, ATTEMPTED</td>\n",
       "      <td>47</td>\n",
       "      <td>F</td>\n",
       "      <td>H</td>\n",
       "      <td>34.0387</td>\n",
       "      <td>-118.2488</td>\n",
       "      <td>1</td>\n",
       "    </tr>\n",
       "  </tbody>\n",
       "</table>\n",
       "</div>"
      ],
      "text/plain": [
       "   index    DATE_OCC  TIME_OCC  AREA_NAME  \\\n",
       "0      0  02/20/2010      1350     Newton   \n",
       "1      1  09/12/2010        45    Pacific   \n",
       "2      2  08/09/2010      1515     Newton   \n",
       "3      3  01/05/2010       150  Hollywood   \n",
       "4      4  01/02/2010      2100    Central   \n",
       "\n",
       "                                         Crm Cd Desc  Vict_Age Vict_Sex  \\\n",
       "0                           VIOLATION OF COURT ORDER        48        M   \n",
       "1  VANDALISM - FELONY ($400 & OVER, ALL CHURCH VA...         0        M   \n",
       "2                          OTHER MISCELLANEOUS CRIME         0        M   \n",
       "3                           VIOLATION OF COURT ORDER        47        F   \n",
       "4                                    RAPE, ATTEMPTED        47        F   \n",
       "\n",
       "  Vict_Descent      LAT       LON  violent_crime  \n",
       "0            H  33.9825 -118.2695              0  \n",
       "1            W  33.9599 -118.3962              0  \n",
       "2            H  34.0224 -118.2524              0  \n",
       "3            W  34.1016 -118.3295              0  \n",
       "4            H  34.0387 -118.2488              1  "
      ]
     },
     "execution_count": 16,
     "metadata": {},
     "output_type": "execute_result"
    }
   ],
   "source": [
    "df['violent_crime'] = violent_crime\n",
    "df.head()"
   ]
  },
  {
   "cell_type": "code",
   "execution_count": 17,
   "metadata": {},
   "outputs": [
    {
     "name": "stdout",
     "output_type": "stream",
     "text": [
      "The max and min longitude values are 0.0 & -118.8279\n",
      "The max and min latitude values are 34.7907 & 0.0\n"
     ]
    }
   ],
   "source": [
    "#get max and min longitude\n",
    "print('The max and min longitude values are ' + str(np.max(df['LON'])) + ' & ' + str(np.min(df['LON'])))\n",
    "#get max and min latitude\n",
    "print('The max and min latitude values are ' + str(np.max(df['LAT'])) + ' & ' + str(np.min(df['LAT'])))\n",
    "#plot LAT v LON to visualize where crimes occur in LA\n"
   ]
  },
  {
   "cell_type": "code",
   "execution_count": 18,
   "metadata": {},
   "outputs": [],
   "source": [
    "#drop all rows where lat or longitude = 0\n",
    "df = df[df['LAT'] != 0]"
   ]
  },
  {
   "cell_type": "code",
   "execution_count": 19,
   "metadata": {},
   "outputs": [
    {
     "name": "stdout",
     "output_type": "stream",
     "text": [
      "The max and min longitude values are -117.6596 & -118.8279\n",
      "The max and min latitude values are 34.7907 & 33.3427\n"
     ]
    }
   ],
   "source": [
    "#get max and min longitude\n",
    "print('The max and min longitude values are ' + str(np.max(df['LON'])) + ' & ' + str(np.min(df['LON'])))\n",
    "#get max and min latitude\n",
    "print('The max and min latitude values are ' + str(np.max(df['LAT'])) + ' & ' + str(np.min(df['LAT'])))\n",
    "#plot LAT v LON to visualize where crimes occur in LA"
   ]
  },
  {
   "cell_type": "code",
   "execution_count": 21,
   "metadata": {
    "scrolled": true
   },
   "outputs": [
    {
     "data": {
      "text/plain": [
       "array([48,  0, 47, 23, 46, 51, 30, 55, 38, 40, 24, 29, 41, 11, 50, 18, 37,\n",
       "       28, 25, 31, 36, 61, 27, 32, 45, 22, 35, 44, 20, 33, 26, 52, 62, 39,\n",
       "       54, 76, 16, 21, 57, 34, 65,  5, 49, 58, 56, 59, 42,  9, 60, 92, 43,\n",
       "       19, 15, 17, 63, 83,  6, 13, 12,  7, 53, 10, 99, 74, 84, 68, 82, 66,\n",
       "       64, 14, 69, 70, 71, 73, 78, 67, 80, 81, 72, 86, 79, 75, 77,  2,  4,\n",
       "        8, 93, 85,  3, 91, 89, 87, 90, 88, 96, 95, 97, 98, 94, -1, -2, -3,\n",
       "       -4, -6, -5, -7, -9, -8], dtype=int64)"
      ]
     },
     "execution_count": 21,
     "metadata": {},
     "output_type": "execute_result"
    }
   ],
   "source": [
    "df['Vict_Age'].unique()"
   ]
  },
  {
   "cell_type": "code",
   "execution_count": 22,
   "metadata": {},
   "outputs": [
    {
     "data": {
      "text/plain": [
       "array(['M', 'F', 'X', 'H', '-', 'N'], dtype=object)"
      ]
     },
     "execution_count": 22,
     "metadata": {},
     "output_type": "execute_result"
    }
   ],
   "source": [
    "df['Vict_Sex'].unique()"
   ]
  },
  {
   "cell_type": "code",
   "execution_count": 23,
   "metadata": {},
   "outputs": [
    {
     "data": {
      "text/plain": [
       "array(['M', 'F'], dtype=object)"
      ]
     },
     "execution_count": 23,
     "metadata": {},
     "output_type": "execute_result"
    }
   ],
   "source": [
    "# simplify data to binary M/F - 1/0\n",
    "df_analyze = df[df['Vict_Sex'] == 'M']\n",
    "df_analyze = df_analyze.append(df[df['Vict_Sex'] == 'F'])\n",
    "df_analyze['Vict_Sex'].unique()"
   ]
  },
  {
   "cell_type": "code",
   "execution_count": 24,
   "metadata": {},
   "outputs": [
    {
     "data": {
      "image/png": "[encoded data removed]",
      "text/plain": [
       "<Figure size 432x288 with 1 Axes>"
      ]
     },
     "metadata": {
      "needs_background": "light"
     },
     "output_type": "display_data"
    }
   ],
   "source": [
    "df['Vict_Descent'].value_counts().plot(kind = 'bar')\n",
    "\n",
    "f1 = plt.gcf()"
   ]
  },
  {
   "cell_type": "code",
   "execution_count": 93,
   "metadata": {},
   "outputs": [
    {
     "ename": "ValueError",
     "evalue": "cannot insert level_0, already exists",
     "output_type": "error",
     "traceback": [
      "\u001b[1;31m---------------------------------------------------------------------------\u001b[0m",
      "\u001b[1;31mValueError\u001b[0m                                Traceback (most recent call last)",
      "\u001b[1;32m<ipython-input-93-88991ef8b199>\u001b[0m in \u001b[0;36m<module>\u001b[1;34m\u001b[0m\n\u001b[1;32m----> 1\u001b[1;33m \u001b[0mdf_analyze\u001b[0m\u001b[1;33m.\u001b[0m\u001b[0mreset_index\u001b[0m\u001b[1;33m(\u001b[0m\u001b[0minplace\u001b[0m \u001b[1;33m=\u001b[0m \u001b[1;32mTrue\u001b[0m\u001b[1;33m)\u001b[0m\u001b[1;33m\u001b[0m\u001b[1;33m\u001b[0m\u001b[0m\n\u001b[0m\u001b[0;32m      2\u001b[0m \u001b[0mdf_analyze\u001b[0m\u001b[1;33m.\u001b[0m\u001b[0mhead\u001b[0m\u001b[1;33m(\u001b[0m\u001b[1;33m)\u001b[0m\u001b[1;33m\u001b[0m\u001b[1;33m\u001b[0m\u001b[0m\n",
      "\u001b[1;32m~\\Anaconda3\\lib\\site-packages\\pandas\\core\\frame.py\u001b[0m in \u001b[0;36mreset_index\u001b[1;34m(self, level, drop, inplace, col_level, col_fill)\u001b[0m\n\u001b[0;32m   4137\u001b[0m                 \u001b[1;31m# to ndarray and maybe infer different dtype\u001b[0m\u001b[1;33m\u001b[0m\u001b[1;33m\u001b[0m\u001b[1;33m\u001b[0m\u001b[0m\n\u001b[0;32m   4138\u001b[0m                 \u001b[0mlevel_values\u001b[0m \u001b[1;33m=\u001b[0m \u001b[0m_maybe_casted_values\u001b[0m\u001b[1;33m(\u001b[0m\u001b[0mlev\u001b[0m\u001b[1;33m,\u001b[0m \u001b[0mlab\u001b[0m\u001b[1;33m)\u001b[0m\u001b[1;33m\u001b[0m\u001b[1;33m\u001b[0m\u001b[0m\n\u001b[1;32m-> 4139\u001b[1;33m                 \u001b[0mnew_obj\u001b[0m\u001b[1;33m.\u001b[0m\u001b[0minsert\u001b[0m\u001b[1;33m(\u001b[0m\u001b[1;36m0\u001b[0m\u001b[1;33m,\u001b[0m \u001b[0mname\u001b[0m\u001b[1;33m,\u001b[0m \u001b[0mlevel_values\u001b[0m\u001b[1;33m)\u001b[0m\u001b[1;33m\u001b[0m\u001b[1;33m\u001b[0m\u001b[0m\n\u001b[0m\u001b[0;32m   4140\u001b[0m \u001b[1;33m\u001b[0m\u001b[0m\n\u001b[0;32m   4141\u001b[0m         \u001b[0mnew_obj\u001b[0m\u001b[1;33m.\u001b[0m\u001b[0mindex\u001b[0m \u001b[1;33m=\u001b[0m \u001b[0mnew_index\u001b[0m\u001b[1;33m\u001b[0m\u001b[1;33m\u001b[0m\u001b[0m\n",
      "\u001b[1;32m~\\Anaconda3\\lib\\site-packages\\pandas\\core\\frame.py\u001b[0m in \u001b[0;36minsert\u001b[1;34m(self, loc, column, value, allow_duplicates)\u001b[0m\n\u001b[0;32m   3220\u001b[0m         \u001b[0mvalue\u001b[0m \u001b[1;33m=\u001b[0m \u001b[0mself\u001b[0m\u001b[1;33m.\u001b[0m\u001b[0m_sanitize_column\u001b[0m\u001b[1;33m(\u001b[0m\u001b[0mcolumn\u001b[0m\u001b[1;33m,\u001b[0m \u001b[0mvalue\u001b[0m\u001b[1;33m,\u001b[0m \u001b[0mbroadcast\u001b[0m\u001b[1;33m=\u001b[0m\u001b[1;32mFalse\u001b[0m\u001b[1;33m)\u001b[0m\u001b[1;33m\u001b[0m\u001b[1;33m\u001b[0m\u001b[0m\n\u001b[0;32m   3221\u001b[0m         self._data.insert(loc, column, value,\n\u001b[1;32m-> 3222\u001b[1;33m                           allow_duplicates=allow_duplicates)\n\u001b[0m\u001b[0;32m   3223\u001b[0m \u001b[1;33m\u001b[0m\u001b[0m\n\u001b[0;32m   3224\u001b[0m     \u001b[1;32mdef\u001b[0m \u001b[0massign\u001b[0m\u001b[1;33m(\u001b[0m\u001b[0mself\u001b[0m\u001b[1;33m,\u001b[0m \u001b[1;33m**\u001b[0m\u001b[0mkwargs\u001b[0m\u001b[1;33m)\u001b[0m\u001b[1;33m:\u001b[0m\u001b[1;33m\u001b[0m\u001b[1;33m\u001b[0m\u001b[0m\n",
      "\u001b[1;32m~\\Anaconda3\\lib\\site-packages\\pandas\\core\\internals.py\u001b[0m in \u001b[0;36minsert\u001b[1;34m(self, loc, item, value, allow_duplicates)\u001b[0m\n\u001b[0;32m   4336\u001b[0m         \u001b[1;32mif\u001b[0m \u001b[1;32mnot\u001b[0m \u001b[0mallow_duplicates\u001b[0m \u001b[1;32mand\u001b[0m \u001b[0mitem\u001b[0m \u001b[1;32min\u001b[0m \u001b[0mself\u001b[0m\u001b[1;33m.\u001b[0m\u001b[0mitems\u001b[0m\u001b[1;33m:\u001b[0m\u001b[1;33m\u001b[0m\u001b[1;33m\u001b[0m\u001b[0m\n\u001b[0;32m   4337\u001b[0m             \u001b[1;31m# Should this be a different kind of error??\u001b[0m\u001b[1;33m\u001b[0m\u001b[1;33m\u001b[0m\u001b[1;33m\u001b[0m\u001b[0m\n\u001b[1;32m-> 4338\u001b[1;33m             \u001b[1;32mraise\u001b[0m \u001b[0mValueError\u001b[0m\u001b[1;33m(\u001b[0m\u001b[1;34m'cannot insert {}, already exists'\u001b[0m\u001b[1;33m.\u001b[0m\u001b[0mformat\u001b[0m\u001b[1;33m(\u001b[0m\u001b[0mitem\u001b[0m\u001b[1;33m)\u001b[0m\u001b[1;33m)\u001b[0m\u001b[1;33m\u001b[0m\u001b[1;33m\u001b[0m\u001b[0m\n\u001b[0m\u001b[0;32m   4339\u001b[0m \u001b[1;33m\u001b[0m\u001b[0m\n\u001b[0;32m   4340\u001b[0m         \u001b[1;32mif\u001b[0m \u001b[1;32mnot\u001b[0m \u001b[0misinstance\u001b[0m\u001b[1;33m(\u001b[0m\u001b[0mloc\u001b[0m\u001b[1;33m,\u001b[0m \u001b[0mint\u001b[0m\u001b[1;33m)\u001b[0m\u001b[1;33m:\u001b[0m\u001b[1;33m\u001b[0m\u001b[1;33m\u001b[0m\u001b[0m\n",
      "\u001b[1;31mValueError\u001b[0m: cannot insert level_0, already exists"
     ]
    }
   ],
   "source": [
    "df_analyze.reset_index(inplace = True)\n",
    "df_analyze.head()"
   ]
  },
  {
   "cell_type": "code",
   "execution_count": 26,
   "metadata": {},
   "outputs": [],
   "source": [
    "#remove X = unknown and ' = not listed\n",
    "convert_other_lst = ['A','K','F','C','I','J','P','V','U','Z','G','S','D','L']\n",
    "descent_lst = []\n",
    "for index in range(len(df_analyze['Vict_Descent'])):\n",
    "    if df_analyze['Vict_Descent'][index] in convert_other_lst:\n",
    "        descent_lst.append('O')\n",
    "    else:\n",
    "        descent_lst.append(df_analyze['Vict_Descent'][index])\n"
   ]
  },
  {
   "cell_type": "code",
   "execution_count": 27,
   "metadata": {},
   "outputs": [],
   "source": [
    "df_analyze['Vict_Descent'] = descent_lst\n",
    "df_analyze = df_analyze[df_analyze['Vict_Descent'] != 'X']\n",
    "df_analyze = df_analyze[df_analyze['Vict_Descent'] != '-']"
   ]
  },
  {
   "cell_type": "code",
   "execution_count": 89,
   "metadata": {},
   "outputs": [],
   "source": [
    "#convert TIME_OCC to morning afternoon night\n",
    "#day = 6am - 6pm\n",
    "#night = 6pm - 6am\n",
    "\n",
    "time_lst = []\n",
    "for time in  df_analyze['TIME_OCC']:\n",
    "    if time >= 600 and time < 1800:\n",
    "        time_lst.append('Day')\n",
    "    else:\n",
    "        time_lst.append('Night')\n"
   ]
  },
  {
   "cell_type": "code",
   "execution_count": 90,
   "metadata": {},
   "outputs": [
    {
     "data": {
      "text/plain": [
       "1704472"
      ]
     },
     "execution_count": 90,
     "metadata": {},
     "output_type": "execute_result"
    }
   ],
   "source": [
    "len(df_analyze)\n",
    "len(time_lst)"
   ]
  },
  {
   "cell_type": "code",
   "execution_count": 91,
   "metadata": {},
   "outputs": [],
   "source": [
    "df_analyze['TIME_OCC'] = time_lst"
   ]
  },
  {
   "cell_type": "code",
   "execution_count": 92,
   "metadata": {},
   "outputs": [
    {
     "data": {
      "text/plain": [
       "array([48, 23, 46, 51, 30, 55, 40, 47, 41, 11, 50, 37, 28, 31, 36, 27, 24,\n",
       "       35, 44, 20, 33, 26, 62, 54, 76, 22, 34, 65,  5, 49, 57, 58, 56, 45,\n",
       "       59, 61, 32, 18, 39,  9, 60, 21, 38, 43, 15, 42, 52, 63, 17,  6, 25,\n",
       "       19, 29,  7, 53, 99, 16, 82, 64, 69, 70, 71, 67, 80, 92, 81, 72, 14,\n",
       "       74, 12, 73, 66, 79, 68, 77,  2, 84, 75, 13, 78, 85,  4,  8, 10, 86,\n",
       "        3, 91, 87, 93, 83, 89, 90, 88, 95, 97, 94, 96, 98], dtype=int64)"
      ]
     },
     "execution_count": 92,
     "metadata": {},
     "output_type": "execute_result"
    }
   ],
   "source": [
    "#create new dataframe for making predictions without data that we cannot analyze\n",
    "#remove rows with Age <= 0\n",
    "df_analyze = df_analyze[df_analyze['Vict_Age'] > 0]\n",
    "df_analyze['Vict_Age'].unique()"
   ]
  },
  {
   "cell_type": "code",
   "execution_count": 29,
   "metadata": {},
   "outputs": [],
   "source": [
    "years = []\n",
    "for date in df['DATE_OCC']:\n",
    "    data = date.split('/')\n",
    "    years.append(int(data[2]))"
   ]
  },
  {
   "cell_type": "code",
   "execution_count": 30,
   "metadata": {},
   "outputs": [],
   "source": [
    "df['DATE_OCC'].head()\n",
    "df['Year'] = years"
   ]
  },
  {
   "cell_type": "code",
   "execution_count": 31,
   "metadata": {},
   "outputs": [
    {
     "data": {
      "text/plain": [
       "array([2010, 2011, 2012, 2013, 2014, 2015, 2016, 2017, 2018, 2019],\n",
       "      dtype=int64)"
      ]
     },
     "execution_count": 31,
     "metadata": {},
     "output_type": "execute_result"
    }
   ],
   "source": [
    "df['Year'].unique()"
   ]
  },
  {
   "cell_type": "code",
   "execution_count": null,
   "metadata": {},
   "outputs": [],
   "source": [
    "# split df into 2010-2012, 2013-2015, 2016-2018\n",
    "\n",
    "df_10_12 = df[(df['Year'] == 2010)]\n",
    "df_10_12 = df_10_12.append(df[(df['Year'] == 2011)])\n",
    "df_10_12 = df_10_12.append(df[(df['Year'] == 2012)])\n",
    "\n",
    "df_13_15 = df[(df['Year'] == 2013)]\n",
    "df_13_15 = df_13_15.append(df[(df['Year'] == 2014)])\n",
    "df_13_15 = df_13_15.append(df[(df['Year'] == 2015)])\n",
    "\n",
    "\n",
    "df_16_18 = df[(df['Year'] == 2016)]\n",
    "df_16_18 = df_16_18.append(df[(df['Year'] == 2017)])\n",
    "df_16_18 = df_16_18.append(df[(df['Year'] == 2018)])\n",
    "df_16_18 = df_16_18.append(df[(df['Year'] == 2019)])\n",
    "\n",
    "\n",
    "#df_10_12 = df.loc\n",
    "#plot lat v lon in different colors to visualize where crime is happening in LA\n",
    "#"
   ]
  },
  {
   "cell_type": "code",
   "execution_count": null,
   "metadata": {},
   "outputs": [],
   "source": [
    "print(len(df_10_12))\n",
    "print(len(df_13_15))\n",
    "print(len(df_16_18))"
   ]
  },
  {
   "cell_type": "code",
   "execution_count": 32,
   "metadata": {},
   "outputs": [
    {
     "name": "stdout",
     "output_type": "stream",
     "text": [
      "The max and min longitude values are -117.6596 & -118.8279\n",
      "The max and min latitude values are 34.7907 & 33.3427\n"
     ]
    }
   ],
   "source": [
    "#get max and min longitude\n",
    "print('The max and min longitude values are ' + str(np.max(df_analyze['LON'])) + ' & ' + str(np.min(df_analyze['LON'])))\n",
    "#get max and min latitude\n",
    "print('The max and min latitude values are ' + str(np.max(df_analyze['LAT'])) + ' & ' + str(np.min(df_analyze['LAT'])))\n",
    "#plot LAT v LON to visualize where crimes occur in LA"
   ]
  },
  {
   "cell_type": "code",
   "execution_count": null,
   "metadata": {
    "scrolled": true
   },
   "outputs": [],
   "source": [
    "#plot of all crimes lat v lon\n",
    "plt.scatter(df['LON'],df['LAT'])\n",
    "plt.xlim([-117.6596,-118.8279])\n",
    "plt.ylim([33.3427, 34.7907])\n",
    "plt.ylabel('Latitude')\n",
    "plt.xlabel('Longitude')"
   ]
  },
  {
   "cell_type": "code",
   "execution_count": null,
   "metadata": {},
   "outputs": [],
   "source": [
    "plt.scatter(df_analyze['LON'],df_analyze['LAT'])\n",
    "plt.xlim([-118.465381,-118.138795])\n",
    "plt.ylim([34.016907, 34.105999])\n",
    "plt.ylabel('Latitude')\n",
    "plt.xlabel('Longitude')"
   ]
  },
  {
   "cell_type": "code",
   "execution_count": 33,
   "metadata": {},
   "outputs": [],
   "source": [
    "#make separate data frames to hold only mature and immature gene expression sets\n",
    "data_v = df_analyze[df_analyze['violent_crime'] == 1]\n",
    "#data_mature.head()\n",
    "data_nv = df_analyze[df_analyze['violent_crime'] == 0]\n",
    "#data_immature.head()"
   ]
  },
  {
   "cell_type": "code",
   "execution_count": 34,
   "metadata": {},
   "outputs": [
    {
     "data": {
      "text/plain": [
       "<matplotlib.legend.Legend at 0x2015cbd96d8>"
      ]
     },
     "execution_count": 34,
     "metadata": {},
     "output_type": "execute_result"
    },
    {
     "data": {
      "image/png": "[encoded data removed]",
      "text/plain": [
       "<Figure size 432x288 with 1 Axes>"
      ]
     },
     "metadata": {
      "needs_background": "light"
     },
     "output_type": "display_data"
    }
   ],
   "source": [
    "#plot mature data as red\n",
    "plt.scatter(data_v['LON'], data_v['LAT'], c = 'red',s = 10, label = 'vio')\n",
    "# plot immature data as blue\n",
    "plt.scatter(data_nv['LON'], data_nv['LAT'], c = 'blue',s = 10, label = 'nvio')\n",
    "#create labels\n",
    "plt.xlabel('Longitude')\n",
    "plt.ylabel('Latitude')\n",
    "plt.title('Violent vs Non-Violent')\n",
    "plt.legend(loc = 'best')"
   ]
  },
  {
   "cell_type": "code",
   "execution_count": null,
   "metadata": {},
   "outputs": [],
   "source": [
    "plt.scatter(data_nv['LON'], data_nv['LAT'], c = 'blue',s = 10, label = 'nvio')\n",
    "#create labels\n",
    "plt.xlabel('Longitud')\n",
    "plt.ylabel('Latitud')\n",
    "plt.title('Vio vs NVio')\n",
    "plt.legend(loc = 'best')"
   ]
  },
  {
   "cell_type": "code",
   "execution_count": null,
   "metadata": {
    "scrolled": true
   },
   "outputs": [],
   "source": [
    "np.argmin(df['LON'])"
   ]
  },
  {
   "cell_type": "code",
   "execution_count": 35,
   "metadata": {},
   "outputs": [
    {
     "data": {
      "image/png": "[encoded data removed]",
      "text/plain": [
       "<Figure size 432x288 with 1 Axes>"
      ]
     },
     "metadata": {
      "needs_background": "light"
     },
     "output_type": "display_data"
    }
   ],
   "source": [
    "df_analyze['TIME_OCC'].value_counts()[:10].plot(kind = 'bar')\n",
    "\n",
    "f0 = plt.gcf()"
   ]
  },
  {
   "cell_type": "code",
   "execution_count": 36,
   "metadata": {},
   "outputs": [
    {
     "data": {
      "image/png": "[encoded data removed]",
      "text/plain": [
       "<Figure size 432x288 with 1 Axes>"
      ]
     },
     "metadata": {
      "needs_background": "light"
     },
     "output_type": "display_data"
    }
   ],
   "source": [
    "df_analyze['DATE_OCC'].value_counts()[:10].plot(kind = 'bar')\n",
    "\n",
    "f1 = plt.gcf()"
   ]
  },
  {
   "cell_type": "code",
   "execution_count": 37,
   "metadata": {},
   "outputs": [
    {
     "data": {
      "image/png": "[encoded data removed]",
      "text/plain": [
       "<Figure size 432x288 with 1 Axes>"
      ]
     },
     "metadata": {
      "needs_background": "light"
     },
     "output_type": "display_data"
    }
   ],
   "source": [
    "df_analyze['AREA_NAME'].value_counts().plot(kind = 'bar')\n",
    "\n",
    "f2 = plt.gcf()"
   ]
  },
  {
   "cell_type": "code",
   "execution_count": 39,
   "metadata": {},
   "outputs": [
    {
     "data": {
      "image/png": "[encoded data removed]",
      "text/plain": [
       "<Figure size 432x288 with 1 Axes>"
      ]
     },
     "metadata": {
      "needs_background": "light"
     },
     "output_type": "display_data"
    }
   ],
   "source": [
    "df_analyze['Vict_Age'].value_counts()[:10].plot(kind = 'bar')\n",
    "\n",
    "f3 = plt.gcf()"
   ]
  },
  {
   "cell_type": "code",
   "execution_count": 40,
   "metadata": {
    "scrolled": true
   },
   "outputs": [
    {
     "data": {
      "image/png": "[encoded data removed]",
      "text/plain": [
       "<Figure size 432x288 with 1 Axes>"
      ]
     },
     "metadata": {
      "needs_background": "light"
     },
     "output_type": "display_data"
    }
   ],
   "source": [
    "df_analyze['Vict_Descent'].value_counts().plot(kind = 'bar')\n",
    "\n",
    "f4 = plt.gcf()"
   ]
  },
  {
   "cell_type": "code",
   "execution_count": 41,
   "metadata": {},
   "outputs": [
    {
     "data": {
      "image/png": "[encoded data removed]",
      "text/plain": [
       "<Figure size 432x288 with 1 Axes>"
      ]
     },
     "metadata": {
      "needs_background": "light"
     },
     "output_type": "display_data"
    }
   ],
   "source": [
    "df_analyze['violent_crime'].value_counts().plot(kind = 'bar')\n",
    "\n",
    "f5 = plt.gcf()"
   ]
  },
  {
   "cell_type": "code",
   "execution_count": 42,
   "metadata": {},
   "outputs": [
    {
     "data": {
      "text/plain": [
       "array(['H', 'W', 'B', 'A', 'O', 'X', 'K', 'I', 'J', 'F', 'C', 'P', 'V',\n",
       "       'U', 'G', 'D', 'S', 'Z', 'L', '-'], dtype=object)"
      ]
     },
     "execution_count": 42,
     "metadata": {},
     "output_type": "execute_result"
    }
   ],
   "source": [
    "df['Vict_Descent'].unique()"
   ]
  },
  {
   "cell_type": "markdown",
   "metadata": {},
   "source": [
    "What can we drop? (eg '0' ages, unknown descent) - new dataframes?, X,H,N genders\n",
    "multi logistic regression\n",
    "how to do knn\n",
    "    formula = 'Vict Sex ~ TIME OCC + LAT + LON'\n",
    "    age, descent too\n",
    "    "
   ]
  },
  {
   "cell_type": "code",
   "execution_count": null,
   "metadata": {},
   "outputs": [],
   "source": [
    "#plot geographical data, violent and non violent separated by color\n",
    "\n",
    "#sklearn multiple logistic regression\n",
    "\n",
    "    # pay equal attention class_weight = balanced\n",
    "    "
   ]
  },
  {
   "cell_type": "code",
   "execution_count": null,
   "metadata": {},
   "outputs": [],
   "source": []
  },
  {
   "cell_type": "code",
   "execution_count": 43,
   "metadata": {},
   "outputs": [
    {
     "data": {
      "image/png": "[encoded data removed]",
      "text/plain": [
       "<Figure size 432x288 with 1 Axes>"
      ]
     },
     "metadata": {
      "needs_background": "light"
     },
     "output_type": "display_data"
    }
   ],
   "source": [
    "df['Vict_Sex'].value_counts().plot(kind = 'bar')\n",
    "\n",
    "f4 = plt.gcf()\n",
    "#plot which crimes affect which gender the most\n",
    "#gender and violent v nonviolent crimes"
   ]
  },
  {
   "cell_type": "code",
   "execution_count": null,
   "metadata": {},
   "outputs": [],
   "source": [
    "df['Crm Cd Desc'].value_counts()[:20].plot(kind = 'bar')\n",
    "\n",
    "f4 = plt.gcf()"
   ]
  },
  {
   "cell_type": "markdown",
   "metadata": {},
   "source": [
    "### Perform logistic regression to determine a relationship between time/location and the type of crime committed \n",
    "- predictors = latitude, longitude, time occurred\n",
    "- response = violent crime (1)/non violent crime (0)\n"
   ]
  },
  {
   "cell_type": "code",
   "execution_count": 122,
   "metadata": {},
   "outputs": [
    {
     "data": {
      "text/plain": [
       "Text(0.5, 1.0, 'Time prediction')"
      ]
     },
     "execution_count": 122,
     "metadata": {},
     "output_type": "execute_result"
    },
    {
     "data": {
      "image/png": "[encoded data removed]",
      "text/plain": [
       "<Figure size 216x360 with 1 Axes>"
      ]
     },
     "metadata": {
      "needs_background": "light"
     },
     "output_type": "display_data"
    },
    {
     "data": {
      "image/png": "[encoded data removed]",
      "text/plain": [
       "<Figure size 216x360 with 1 Axes>"
      ]
     },
     "metadata": {
      "needs_background": "light"
     },
     "output_type": "display_data"
    },
    {
     "data": {
      "image/png": "[encoded data removed]",
      "text/plain": [
       "<Figure size 216x360 with 1 Axes>"
      ]
     },
     "metadata": {
      "needs_background": "light"
     },
     "output_type": "display_data"
    }
   ],
   "source": [
    "fig, ax = plt.subplots(figsize = (3,5))\n",
    "lat_box = sns.boxplot(x = 'violent_crime', y = 'LAT', data = df_analyze, ax = ax)\n",
    "lat_box.set_title('Latitude prediction')\n",
    "\n",
    "fig, ax = plt.subplots(figsize = (3,5))\n",
    "long_box = sns.boxplot(x = 'violent_crime', y = 'LON', data = df_analyze, ax = ax)\n",
    "long_box.set_title('Longitude prediction')\n",
    "\n",
    "fig, ax = plt.subplots(figsize = (3,5))\n",
    "time_box = sns.boxplot(x = 'violent_crime', y = 'TIME_OCC', data = df_analyze, ax = ax)\n",
    "time_box.set_title('Time prediction')"
   ]
  },
  {
   "cell_type": "code",
   "execution_count": null,
   "metadata": {},
   "outputs": [],
   "source": [
    "#plots for violent crime enacted toward Vict_age, Vict_Sex, Vict_descent"
   ]
  },
  {
   "cell_type": "code",
   "execution_count": 96,
   "metadata": {
    "scrolled": true
   },
   "outputs": [
    {
     "name": "stdout",
     "output_type": "stream",
     "text": [
      "Optimization terminated successfully.\n",
      "         Current function value: 0.645483\n",
      "         Iterations 7\n"
     ]
    },
    {
     "data": {
      "text/html": [
       "<table class=\"simpletable\">\n",
       "<caption>Logit Regression Results</caption>\n",
       "<tr>\n",
       "  <th>Dep. Variable:</th>   <td>violent_crime</td>  <th>  No. Observations:  </th>   <td>1704472</td>  \n",
       "</tr>\n",
       "<tr>\n",
       "  <th>Model:</th>               <td>Logit</td>      <th>  Df Residuals:      </th>   <td>1704443</td>  \n",
       "</tr>\n",
       "<tr>\n",
       "  <th>Method:</th>               <td>MLE</td>       <th>  Df Model:          </th>   <td>    28</td>   \n",
       "</tr>\n",
       "<tr>\n",
       "  <th>Date:</th>          <td>Tue, 03 Dec 2019</td> <th>  Pseudo R-squ.:     </th>   <td>0.05559</td>  \n",
       "</tr>\n",
       "<tr>\n",
       "  <th>Time:</th>              <td>18:29:13</td>     <th>  Log-Likelihood:    </th> <td>-1.1002e+06</td>\n",
       "</tr>\n",
       "<tr>\n",
       "  <th>converged:</th>           <td>True</td>       <th>  LL-Null:           </th> <td>-1.1650e+06</td>\n",
       "</tr>\n",
       "<tr>\n",
       "  <th> </th>                      <td> </td>        <th>  LLR p-value:       </th>   <td> 0.000</td>   \n",
       "</tr>\n",
       "</table>\n",
       "<table class=\"simpletable\">\n",
       "<tr>\n",
       "              <td></td>                <th>coef</th>     <th>std err</th>      <th>z</th>      <th>P>|z|</th>  <th>[0.025</th>    <th>0.975]</th>  \n",
       "</tr>\n",
       "<tr>\n",
       "  <th>Intercept</th>                <td>   40.7571</td> <td>    8.397</td> <td>    4.854</td> <td> 0.000</td> <td>   24.300</td> <td>   57.214</td>\n",
       "</tr>\n",
       "<tr>\n",
       "  <th>TIME_OCC[T.Night]</th>        <td>    0.1972</td> <td>    0.003</td> <td>   60.932</td> <td> 0.000</td> <td>    0.191</td> <td>    0.204</td>\n",
       "</tr>\n",
       "<tr>\n",
       "  <th>AREA_NAME[T.Central]</th>     <td>    0.1795</td> <td>    0.011</td> <td>   15.845</td> <td> 0.000</td> <td>    0.157</td> <td>    0.202</td>\n",
       "</tr>\n",
       "<tr>\n",
       "  <th>AREA_NAME[T.Devonshire]</th>  <td>   -0.3471</td> <td>    0.029</td> <td>  -12.018</td> <td> 0.000</td> <td>   -0.404</td> <td>   -0.290</td>\n",
       "</tr>\n",
       "<tr>\n",
       "  <th>AREA_NAME[T.Foothill]</th>    <td>   -0.1454</td> <td>    0.025</td> <td>   -5.877</td> <td> 0.000</td> <td>   -0.194</td> <td>   -0.097</td>\n",
       "</tr>\n",
       "<tr>\n",
       "  <th>AREA_NAME[T.Harbor]</th>      <td>   -0.4250</td> <td>    0.020</td> <td>  -21.539</td> <td> 0.000</td> <td>   -0.464</td> <td>   -0.386</td>\n",
       "</tr>\n",
       "<tr>\n",
       "  <th>AREA_NAME[T.Hollenbeck]</th>  <td>   -0.0338</td> <td>    0.014</td> <td>   -2.417</td> <td> 0.016</td> <td>   -0.061</td> <td>   -0.006</td>\n",
       "</tr>\n",
       "<tr>\n",
       "  <th>AREA_NAME[T.Hollywood]</th>   <td>    0.0059</td> <td>    0.014</td> <td>    0.425</td> <td> 0.671</td> <td>   -0.021</td> <td>    0.033</td>\n",
       "</tr>\n",
       "<tr>\n",
       "  <th>AREA_NAME[T.Mission]</th>     <td>   -0.1368</td> <td>    0.026</td> <td>   -5.203</td> <td> 0.000</td> <td>   -0.188</td> <td>   -0.085</td>\n",
       "</tr>\n",
       "<tr>\n",
       "  <th>AREA_NAME[T.N Hollywood]</th> <td>   -0.3262</td> <td>    0.019</td> <td>  -17.017</td> <td> 0.000</td> <td>   -0.364</td> <td>   -0.289</td>\n",
       "</tr>\n",
       "<tr>\n",
       "  <th>AREA_NAME[T.Newton]</th>      <td>    0.1522</td> <td>    0.010</td> <td>   14.919</td> <td> 0.000</td> <td>    0.132</td> <td>    0.172</td>\n",
       "</tr>\n",
       "<tr>\n",
       "  <th>AREA_NAME[T.Northeast]</th>   <td>   -0.3188</td> <td>    0.015</td> <td>  -21.368</td> <td> 0.000</td> <td>   -0.348</td> <td>   -0.290</td>\n",
       "</tr>\n",
       "<tr>\n",
       "  <th>AREA_NAME[T.Olympic]</th>     <td>    0.1023</td> <td>    0.012</td> <td>    8.684</td> <td> 0.000</td> <td>    0.079</td> <td>    0.125</td>\n",
       "</tr>\n",
       "<tr>\n",
       "  <th>AREA_NAME[T.Pacific]</th>     <td>   -0.3743</td> <td>    0.013</td> <td>  -28.871</td> <td> 0.000</td> <td>   -0.400</td> <td>   -0.349</td>\n",
       "</tr>\n",
       "<tr>\n",
       "  <th>AREA_NAME[T.Rampart]</th>     <td>    0.1371</td> <td>    0.012</td> <td>   11.384</td> <td> 0.000</td> <td>    0.113</td> <td>    0.161</td>\n",
       "</tr>\n",
       "<tr>\n",
       "  <th>AREA_NAME[T.Southeast]</th>   <td>    0.0134</td> <td>    0.010</td> <td>    1.384</td> <td> 0.166</td> <td>   -0.006</td> <td>    0.032</td>\n",
       "</tr>\n",
       "<tr>\n",
       "  <th>AREA_NAME[T.Southwest]</th>   <td>   -0.1972</td> <td>    0.009</td> <td>  -21.553</td> <td> 0.000</td> <td>   -0.215</td> <td>   -0.179</td>\n",
       "</tr>\n",
       "<tr>\n",
       "  <th>AREA_NAME[T.Topanga]</th>     <td>   -0.2804</td> <td>    0.028</td> <td>   -9.897</td> <td> 0.000</td> <td>   -0.336</td> <td>   -0.225</td>\n",
       "</tr>\n",
       "<tr>\n",
       "  <th>AREA_NAME[T.Van Nuys]</th>    <td>   -0.2653</td> <td>    0.021</td> <td>  -12.501</td> <td> 0.000</td> <td>   -0.307</td> <td>   -0.224</td>\n",
       "</tr>\n",
       "<tr>\n",
       "  <th>AREA_NAME[T.West LA]</th>     <td>   -0.4207</td> <td>    0.015</td> <td>  -27.549</td> <td> 0.000</td> <td>   -0.451</td> <td>   -0.391</td>\n",
       "</tr>\n",
       "<tr>\n",
       "  <th>AREA_NAME[T.West Valley]</th> <td>   -0.2080</td> <td>    0.025</td> <td>   -8.452</td> <td> 0.000</td> <td>   -0.256</td> <td>   -0.160</td>\n",
       "</tr>\n",
       "<tr>\n",
       "  <th>AREA_NAME[T.Wilshire]</th>    <td>   -0.3757</td> <td>    0.012</td> <td>  -30.116</td> <td> 0.000</td> <td>   -0.400</td> <td>   -0.351</td>\n",
       "</tr>\n",
       "<tr>\n",
       "  <th>Vict_Sex[T.M]</th>            <td>   -0.1506</td> <td>    0.003</td> <td>  -46.504</td> <td> 0.000</td> <td>   -0.157</td> <td>   -0.144</td>\n",
       "</tr>\n",
       "<tr>\n",
       "  <th>Vict_Descent[T.H]</th>        <td>   -0.1658</td> <td>    0.005</td> <td>  -35.313</td> <td> 0.000</td> <td>   -0.175</td> <td>   -0.157</td>\n",
       "</tr>\n",
       "<tr>\n",
       "  <th>Vict_Descent[T.O]</th>        <td>   -0.7301</td> <td>    0.006</td> <td> -116.605</td> <td> 0.000</td> <td>   -0.742</td> <td>   -0.718</td>\n",
       "</tr>\n",
       "<tr>\n",
       "  <th>Vict_Descent[T.W]</th>        <td>   -0.6195</td> <td>    0.005</td> <td> -114.708</td> <td> 0.000</td> <td>   -0.630</td> <td>   -0.609</td>\n",
       "</tr>\n",
       "<tr>\n",
       "  <th>Vict_Age</th>                 <td>   -0.0201</td> <td>    0.000</td> <td> -187.227</td> <td> 0.000</td> <td>   -0.020</td> <td>   -0.020</td>\n",
       "</tr>\n",
       "<tr>\n",
       "  <th>LAT</th>                      <td>   -0.6967</td> <td>    0.081</td> <td>   -8.623</td> <td> 0.000</td> <td>   -0.855</td> <td>   -0.538</td>\n",
       "</tr>\n",
       "<tr>\n",
       "  <th>LON</th>                      <td>    0.1358</td> <td>    0.068</td> <td>    2.010</td> <td> 0.044</td> <td>    0.003</td> <td>    0.268</td>\n",
       "</tr>\n",
       "</table>"
      ],
      "text/plain": [
       "<class 'statsmodels.iolib.summary.Summary'>\n",
       "\"\"\"\n",
       "                           Logit Regression Results                           \n",
       "==============================================================================\n",
       "Dep. Variable:          violent_crime   No. Observations:              1704472\n",
       "Model:                          Logit   Df Residuals:                  1704443\n",
       "Method:                           MLE   Df Model:                           28\n",
       "Date:                Tue, 03 Dec 2019   Pseudo R-squ.:                 0.05559\n",
       "Time:                        18:29:13   Log-Likelihood:            -1.1002e+06\n",
       "converged:                       True   LL-Null:                   -1.1650e+06\n",
       "                                        LLR p-value:                     0.000\n",
       "============================================================================================\n",
       "                               coef    std err          z      P>|z|      [0.025      0.975]\n",
       "--------------------------------------------------------------------------------------------\n",
       "Intercept                   40.7571      8.397      4.854      0.000      24.300      57.214\n",
       "TIME_OCC[T.Night]            0.1972      0.003     60.932      0.000       0.191       0.204\n",
       "AREA_NAME[T.Central]         0.1795      0.011     15.845      0.000       0.157       0.202\n",
       "AREA_NAME[T.Devonshire]     -0.3471      0.029    -12.018      0.000      -0.404      -0.290\n",
       "AREA_NAME[T.Foothill]       -0.1454      0.025     -5.877      0.000      -0.194      -0.097\n",
       "AREA_NAME[T.Harbor]         -0.4250      0.020    -21.539      0.000      -0.464      -0.386\n",
       "AREA_NAME[T.Hollenbeck]     -0.0338      0.014     -2.417      0.016      -0.061      -0.006\n",
       "AREA_NAME[T.Hollywood]       0.0059      0.014      0.425      0.671      -0.021       0.033\n",
       "AREA_NAME[T.Mission]        -0.1368      0.026     -5.203      0.000      -0.188      -0.085\n",
       "AREA_NAME[T.N Hollywood]    -0.3262      0.019    -17.017      0.000      -0.364      -0.289\n",
       "AREA_NAME[T.Newton]          0.1522      0.010     14.919      0.000       0.132       0.172\n",
       "AREA_NAME[T.Northeast]      -0.3188      0.015    -21.368      0.000      -0.348      -0.290\n",
       "AREA_NAME[T.Olympic]         0.1023      0.012      8.684      0.000       0.079       0.125\n",
       "AREA_NAME[T.Pacific]        -0.3743      0.013    -28.871      0.000      -0.400      -0.349\n",
       "AREA_NAME[T.Rampart]         0.1371      0.012     11.384      0.000       0.113       0.161\n",
       "AREA_NAME[T.Southeast]       0.0134      0.010      1.384      0.166      -0.006       0.032\n",
       "AREA_NAME[T.Southwest]      -0.1972      0.009    -21.553      0.000      -0.215      -0.179\n",
       "AREA_NAME[T.Topanga]        -0.2804      0.028     -9.897      0.000      -0.336      -0.225\n",
       "AREA_NAME[T.Van Nuys]       -0.2653      0.021    -12.501      0.000      -0.307      -0.224\n",
       "AREA_NAME[T.West LA]        -0.4207      0.015    -27.549      0.000      -0.451      -0.391\n",
       "AREA_NAME[T.West Valley]    -0.2080      0.025     -8.452      0.000      -0.256      -0.160\n",
       "AREA_NAME[T.Wilshire]       -0.3757      0.012    -30.116      0.000      -0.400      -0.351\n",
       "Vict_Sex[T.M]               -0.1506      0.003    -46.504      0.000      -0.157      -0.144\n",
       "Vict_Descent[T.H]           -0.1658      0.005    -35.313      0.000      -0.175      -0.157\n",
       "Vict_Descent[T.O]           -0.7301      0.006   -116.605      0.000      -0.742      -0.718\n",
       "Vict_Descent[T.W]           -0.6195      0.005   -114.708      0.000      -0.630      -0.609\n",
       "Vict_Age                    -0.0201      0.000   -187.227      0.000      -0.020      -0.020\n",
       "LAT                         -0.6967      0.081     -8.623      0.000      -0.855      -0.538\n",
       "LON                          0.1358      0.068      2.010      0.044       0.003       0.268\n",
       "============================================================================================\n",
       "\"\"\""
      ]
     },
     "execution_count": 96,
     "metadata": {},
     "output_type": "execute_result"
    }
   ],
   "source": [
    "pred_formula = 'violent_crime ~ 1  + TIME_OCC + AREA_NAME + Vict_Age + Vict_Sex + Vict_Descent + LAT + LON'\n",
    "mult_mdl = smf.logit(formula = pred_formula, data = df_analyze)\n",
    "results = mult_mdl.fit()\n",
    "results.summary()"
   ]
  },
  {
   "cell_type": "code",
   "execution_count": 46,
   "metadata": {},
   "outputs": [],
   "source": [
    "#append predicted violent crimes to model with threshold = 0.3\n",
    "#In this dataset, there is a larger amount of non-violent crimes committed than violent\n",
    "# we want to focus on correctly classifying violent crimes committed, \n",
    "# at the expense of misclassifying non-violent crimes\n",
    "# better safe than sorry \n",
    "thresh = 0.3\n",
    "df_analyze['pred_violent'] = (results.predict() > thresh).astype(int)\n"
   ]
  },
  {
   "cell_type": "code",
   "execution_count": 47,
   "metadata": {},
   "outputs": [
    {
     "data": {
      "text/html": [
       "<div>\n",
       "<style scoped>\n",
       "    .dataframe tbody tr th:only-of-type {\n",
       "        vertical-align: middle;\n",
       "    }\n",
       "\n",
       "    .dataframe tbody tr th {\n",
       "        vertical-align: top;\n",
       "    }\n",
       "\n",
       "    .dataframe thead th {\n",
       "        text-align: right;\n",
       "    }\n",
       "</style>\n",
       "<table border=\"1\" class=\"dataframe\">\n",
       "  <thead>\n",
       "    <tr style=\"text-align: right;\">\n",
       "      <th></th>\n",
       "      <th>predicted_nonviolent</th>\n",
       "      <th>predicted_violent</th>\n",
       "    </tr>\n",
       "  </thead>\n",
       "  <tbody>\n",
       "    <tr>\n",
       "      <th>true_nonviolent</th>\n",
       "      <td>240848</td>\n",
       "      <td>729698</td>\n",
       "    </tr>\n",
       "    <tr>\n",
       "      <th>true_violent</th>\n",
       "      <td>84972</td>\n",
       "      <td>648954</td>\n",
       "    </tr>\n",
       "  </tbody>\n",
       "</table>\n",
       "</div>"
      ],
      "text/plain": [
       "                 predicted_nonviolent  predicted_violent\n",
       "true_nonviolent                240848             729698\n",
       "true_violent                    84972             648954"
      ]
     },
     "execution_count": 47,
     "metadata": {},
     "output_type": "execute_result"
    }
   ],
   "source": [
    "#create confusion matrix with predicted violent crimes and actual violent crimes\n",
    "violent_conf_mat = metrics.confusion_matrix(df_analyze['violent_crime'],df_analyze['pred_violent'])\n",
    "df_cm = pd.DataFrame(violent_conf_mat, index = ['true_nonviolent','true_violent'], columns = ['predicted_nonviolent','predicted_violent'])\n",
    "\n",
    "df_cm"
   ]
  },
  {
   "cell_type": "code",
   "execution_count": 48,
   "metadata": {},
   "outputs": [],
   "source": [
    "def sensitivity(conf_mat):\n",
    "    return conf_mat[1,1]/np.sum(conf_mat[1,:])\n",
    "def specificity(conf_mat):\n",
    "    return conf_mat[0,0]/np.sum(conf_mat[0,:])"
   ]
  },
  {
   "cell_type": "code",
   "execution_count": 49,
   "metadata": {},
   "outputs": [
    {
     "data": {
      "text/plain": [
       "0.8842226600501958"
      ]
     },
     "execution_count": 49,
     "metadata": {},
     "output_type": "execute_result"
    }
   ],
   "source": [
    "sensitivity(violent_conf_mat)"
   ]
  },
  {
   "cell_type": "code",
   "execution_count": 50,
   "metadata": {},
   "outputs": [
    {
     "data": {
      "text/plain": [
       "0.24815722284157576"
      ]
     },
     "execution_count": 50,
     "metadata": {},
     "output_type": "execute_result"
    }
   ],
   "source": [
    "specificity(violent_conf_mat)"
   ]
  },
  {
   "cell_type": "code",
   "execution_count": 68,
   "metadata": {},
   "outputs": [
    {
     "data": {
      "text/plain": [
       "Text(0, 0.5, 'False Positive Rate')"
      ]
     },
     "execution_count": 68,
     "metadata": {},
     "output_type": "execute_result"
    },
    {
     "data": {
      "image/png": "[encoded data removed]",
      "text/plain": [
       "<Figure size 432x288 with 1 Axes>"
      ]
     },
     "metadata": {
      "needs_background": "light"
     },
     "output_type": "display_data"
    }
   ],
   "source": [
    "#threshold v FP rate\n",
    "\n",
    "# initialize empty matrix to fill with false positive values\n",
    "false_pos = [] \n",
    "\n",
    "threshold = np.arange(0,1,.025)\n",
    "# for each threshold from 0-1\n",
    "for i in threshold:\n",
    "    df_analyze['pred_violent_temp'] = (results.predict() > i).astype(int) # use current threshold to create predictions\n",
    "    \n",
    "    #make confusion matrix between mature and prediction\n",
    "    temp_confusion = metrics.confusion_matrix(df_analyze['violent_crime'], df_analyze['pred_violent_temp'])\n",
    "    \n",
    "    #calc false positive rate\n",
    "    temp_FP = temp_confusion[0,1]/np.sum(temp_confusion[:1])\n",
    "    false_pos.append(temp_FP)\n",
    "\n",
    "\n",
    "    \n",
    "\n",
    "plt.plot(threshold,false_pos)\n",
    "plt.title('Threshold vs False Positive rate')\n",
    "plt.xlabel('Threshold')\n",
    "plt.ylabel('False Positive Rate')"
   ]
  },
  {
   "cell_type": "code",
   "execution_count": 75,
   "metadata": {},
   "outputs": [
    {
     "name": "stderr",
     "output_type": "stream",
     "text": [
      "C:\\Users\\Jacob\\Anaconda3\\lib\\site-packages\\ipykernel_launcher.py:14: RuntimeWarning: invalid value encountered in longlong_scalars\n",
      "  \n"
     ]
    }
   ],
   "source": [
    "#precision TP / P* = True pos/ (true pos + false pos)\n",
    "#recall  TP / P = true pos/ all pos\n",
    "#F1 Score = 2* Precision*Recall/(Precision + Recall)\n",
    "precision = []\n",
    "recall = []\n",
    "f_score = []\n",
    "acc = []\n",
    "\n",
    "for i in threshold:\n",
    "    df_analyze['pred_violent_temp'] = (results.predict() > i).astype(int)\n",
    "    temp_confusion = metrics.confusion_matrix(df_analyze['violent_crime'], df_analyze['pred_violent_temp'])\n",
    "    \n",
    "    temp_acc = metrics.accuracy_score(df_analyze['violent_crime'],df_analyze['pred_violent_temp'])\n",
    "    temp_precision = temp_confusion[1,1] / (temp_confusion[1,1] + temp_confusion[0,1])\n",
    "    temp_recall = temp_confusion[1,1] / (np.sum(temp_confusion[1:]))\n",
    "    temp_fscore = (2 * temp_precision * temp_recall) / (temp_precision + temp_recall)\n",
    "    \n",
    "    #append\n",
    "    precision.append(temp_precision)\n",
    "    recall.append(temp_recall)\n",
    "    f_score.append(temp_fscore)\n",
    "    acc.append(temp_acc)\n"
   ]
  },
  {
   "cell_type": "code",
   "execution_count": 76,
   "metadata": {},
   "outputs": [
    {
     "data": {
      "text/plain": [
       "Text(0, 0.5, 'Magnitude')"
      ]
     },
     "execution_count": 76,
     "metadata": {},
     "output_type": "execute_result"
    },
    {
     "data": {
      "image/png": "[encoded data removed]",
      "text/plain": [
       "<Figure size 432x288 with 1 Axes>"
      ]
     },
     "metadata": {
      "needs_background": "light"
     },
     "output_type": "display_data"
    }
   ],
   "source": [
    "plt.plot(threshold, precision, label = 'precision')\n",
    "plt.plot(threshold, recall, label = 'recall')\n",
    "plt.plot(threshold, f_score, label = 'F score')\n",
    "plt.plot(threshold, acc, label = 'accuracy')\n",
    "plt.legend()\n",
    "plt.xlabel('Threshold')\n",
    "plt.title('Threshold vs important measures of classification')\n",
    "plt.ylabel('Magnitude')\n"
   ]
  },
  {
   "cell_type": "code",
   "execution_count": 74,
   "metadata": {},
   "outputs": [
    {
     "data": {
      "text/plain": [
       "[<matplotlib.lines.Line2D at 0x201a78ade48>]"
      ]
     },
     "execution_count": 74,
     "metadata": {},
     "output_type": "execute_result"
    },
    {
     "data": {
      "image/png": "[encoded data removed]",
      "text/plain": [
       "<Figure size 432x288 with 1 Axes>"
      ]
     },
     "metadata": {
      "needs_background": "light"
     },
     "output_type": "display_data"
    }
   ],
   "source": [
    "plt.plot(threshold,acc,label = 'accuracy')"
   ]
  },
  {
   "cell_type": "code",
   "execution_count": 54,
   "metadata": {},
   "outputs": [
    {
     "data": {
      "text/plain": [
       "<matplotlib.legend.Legend at 0x20148876b00>"
      ]
     },
     "execution_count": 54,
     "metadata": {},
     "output_type": "execute_result"
    },
    {
     "data": {
      "image/png": "[encoded data removed]",
      "text/plain": [
       "<Figure size 432x288 with 1 Axes>"
      ]
     },
     "metadata": {
      "needs_background": "light"
     },
     "output_type": "display_data"
    }
   ],
   "source": [
    "# ROC TP rate v FP rate for all threshold x = FP y = TP\n",
    "\n",
    "#recall = TP rate, false_pos = FP rate\n",
    "plt.plot(false_pos,recall)\n",
    "plt.xlabel('False positive rate')\n",
    "plt.ylabel('True Positive rate')\n",
    "plt.title('ROC plot')\n",
    "\n",
    "#symbol to show point on ROC that corresponds to threshold = 0.5\n",
    "ROC_df = pd.DataFrame()\n",
    "ROC_df['Threshold'] = threshold\n",
    "ROC_df['TP Rate'] = recall\n",
    "ROC_df['FP Rate'] = false_pos\n",
    "\n",
    "plt.scatter(.751843,.884223, color = 'r', label = 'threshold = .3') \n",
    "plt.scatter(.237601,.456368, c = 'g',label = 'threshold = .5')\n",
    "plt.legend()\n",
    "#second symbol to show point at threshold = .2"
   ]
  },
  {
   "cell_type": "code",
   "execution_count": null,
   "metadata": {},
   "outputs": [],
   "source": [
    "ROC_df"
   ]
  },
  {
   "cell_type": "code",
   "execution_count": 55,
   "metadata": {},
   "outputs": [],
   "source": [
    "def accuracy(conf_mat):\n",
    "    return (conf_mat[0, 0] + conf_mat[1, 1])/np.sum(np.ravel(conf_mat))\n",
    "def error_rate(conf_mat):\n",
    "    return 1 - accuracy(conf_mat) "
   ]
  },
  {
   "cell_type": "code",
   "execution_count": 56,
   "metadata": {},
   "outputs": [
    {
     "ename": "SyntaxError",
     "evalue": "invalid syntax (<ipython-input-56-78e36e573ebe>, line 2)",
     "output_type": "error",
     "traceback": [
      "\u001b[1;36m  File \u001b[1;32m\"<ipython-input-56-78e36e573ebe>\"\u001b[1;36m, line \u001b[1;32m2\u001b[0m\n\u001b[1;33m    predict -> metrics.accuracy_score()\u001b[0m\n\u001b[1;37m             ^\u001b[0m\n\u001b[1;31mSyntaxError\u001b[0m\u001b[1;31m:\u001b[0m invalid syntax\n"
     ]
    }
   ],
   "source": [
    "for thresh in threshold:\n",
    "    predict -> metrics.accuracy_score()"
   ]
  },
  {
   "cell_type": "code",
   "execution_count": 57,
   "metadata": {},
   "outputs": [],
   "source": [
    "# estimate test error, div all observations into k = 2 folds (randomize)\n",
    "#for loop selects one fold at a time to be held out\n",
    "k = 2\n",
    "threshold = 0.3\n",
    "kf = KFold(n_splits=k, shuffle=True)\n",
    "train_errs = []\n",
    "test_errs = []\n",
    "\n",
    "for train_index, test_index in kf.split(df_analyze):\n",
    "    df_train = df_analyze.iloc[train_index, :]\n",
    "    df_test = df_analyze.iloc[test_index, :]\n",
    "    \n",
    "    # logistic regression\n",
    "    res = smf.logit(pred_formula, data=df_train).fit(disp=0)\n",
    "    # total error rate \n",
    "    train_pred_temp = (res.predict(df_train) > threshold).astype(int)\n",
    "    train_conf_mat = metrics.confusion_matrix(df_train['violent_crime'], train_pred_temp)\n",
    "    train_err = error_rate(train_conf_mat)\n",
    "    train_errs.append(train_err)\n",
    "    \n",
    "    test_pred_temp = (res.predict(df_test) > threshold).astype(int)\n",
    "    test_conf_mat = metrics.confusion_matrix(df_test['violent_crime'], test_pred_temp)\n",
    "    test_err = error_rate(test_conf_mat)\n",
    "    test_errs.append(test_err)\n",
    "    \n"
   ]
  },
  {
   "cell_type": "code",
   "execution_count": 58,
   "metadata": {},
   "outputs": [
    {
     "data": {
      "text/html": [
       "<div>\n",
       "<style scoped>\n",
       "    .dataframe tbody tr th:only-of-type {\n",
       "        vertical-align: middle;\n",
       "    }\n",
       "\n",
       "    .dataframe tbody tr th {\n",
       "        vertical-align: top;\n",
       "    }\n",
       "\n",
       "    .dataframe thead th {\n",
       "        text-align: right;\n",
       "    }\n",
       "</style>\n",
       "<table border=\"1\" class=\"dataframe\">\n",
       "  <thead>\n",
       "    <tr style=\"text-align: right;\">\n",
       "      <th></th>\n",
       "      <th>training error rate</th>\n",
       "      <th>test error rate</th>\n",
       "    </tr>\n",
       "  </thead>\n",
       "  <tbody>\n",
       "    <tr>\n",
       "      <th>0</th>\n",
       "      <td>0.478011</td>\n",
       "      <td>0.478506</td>\n",
       "    </tr>\n",
       "    <tr>\n",
       "      <th>1</th>\n",
       "      <td>0.477722</td>\n",
       "      <td>0.477499</td>\n",
       "    </tr>\n",
       "  </tbody>\n",
       "</table>\n",
       "</div>"
      ],
      "text/plain": [
       "   training error rate  test error rate\n",
       "0             0.478011         0.478506\n",
       "1             0.477722         0.477499"
      ]
     },
     "execution_count": 58,
     "metadata": {},
     "output_type": "execute_result"
    }
   ],
   "source": [
    "res_table = pd.DataFrame()\n",
    "res_table['training error rate'] = train_errs\n",
    "res_table['test error rate'] = test_errs\n",
    "res_table"
   ]
  },
  {
   "cell_type": "code",
   "execution_count": 59,
   "metadata": {},
   "outputs": [
    {
     "name": "stdout",
     "output_type": "stream",
     "text": [
      "training error rate    0.477866\n",
      "test error rate        0.478003\n",
      "dtype: float64\n",
      "training error rate    0.000144\n",
      "test error rate        0.000503\n",
      "dtype: float64\n"
     ]
    }
   ],
   "source": [
    "#mean training error \n",
    "print(res_table.mean())\n",
    "#standard error of the mean\n",
    "print(res_table.sem())"
   ]
  },
  {
   "cell_type": "code",
   "execution_count": 60,
   "metadata": {},
   "outputs": [],
   "source": [
    "# estimate test error, div all observations into k = 2 folds (randomize)\n",
    "#for loop selects one fold at a time to be held out\n",
    "k = 4\n",
    "threshold = 0.3\n",
    "kf = KFold(n_splits=k, shuffle=True)\n",
    "train_errs_4 = []\n",
    "test_errs_4 = []\n",
    "\n",
    "for train_index, test_index in kf.split(df_analyze):\n",
    "    df_train = df_analyze.iloc[train_index, :]\n",
    "    df_test = df_analyze.iloc[test_index, :]\n",
    "    \n",
    "    # logistic regression\n",
    "    res = smf.logit(pred_formula, data=df_train).fit(disp=0)\n",
    "    # total error rate \n",
    "    train_pred_temp = (res.predict(df_train) > threshold).astype(int)\n",
    "    train_conf_mat = metrics.confusion_matrix(df_train['violent_crime'], train_pred_temp)\n",
    "    train_err = error_rate(train_conf_mat)\n",
    "    train_errs_4.append(train_err)\n",
    "    \n",
    "    test_pred_temp = (res.predict(df_test) > threshold).astype(int)\n",
    "    test_conf_mat = metrics.confusion_matrix(df_test['violent_crime'], test_pred_temp)\n",
    "    test_err = error_rate(test_conf_mat)\n",
    "    test_errs_4.append(test_err)\n",
    "    \n"
   ]
  },
  {
   "cell_type": "code",
   "execution_count": 61,
   "metadata": {},
   "outputs": [
    {
     "data": {
      "text/html": [
       "<div>\n",
       "<style scoped>\n",
       "    .dataframe tbody tr th:only-of-type {\n",
       "        vertical-align: middle;\n",
       "    }\n",
       "\n",
       "    .dataframe tbody tr th {\n",
       "        vertical-align: top;\n",
       "    }\n",
       "\n",
       "    .dataframe thead th {\n",
       "        text-align: right;\n",
       "    }\n",
       "</style>\n",
       "<table border=\"1\" class=\"dataframe\">\n",
       "  <thead>\n",
       "    <tr style=\"text-align: right;\">\n",
       "      <th></th>\n",
       "      <th>training error rate</th>\n",
       "      <th>test error rate</th>\n",
       "    </tr>\n",
       "  </thead>\n",
       "  <tbody>\n",
       "    <tr>\n",
       "      <th>0</th>\n",
       "      <td>0.478050</td>\n",
       "      <td>0.476722</td>\n",
       "    </tr>\n",
       "    <tr>\n",
       "      <th>1</th>\n",
       "      <td>0.477482</td>\n",
       "      <td>0.479048</td>\n",
       "    </tr>\n",
       "    <tr>\n",
       "      <th>2</th>\n",
       "      <td>0.478098</td>\n",
       "      <td>0.477800</td>\n",
       "    </tr>\n",
       "    <tr>\n",
       "      <th>3</th>\n",
       "      <td>0.478209</td>\n",
       "      <td>0.478457</td>\n",
       "    </tr>\n",
       "  </tbody>\n",
       "</table>\n",
       "</div>"
      ],
      "text/plain": [
       "   training error rate  test error rate\n",
       "0             0.478050         0.476722\n",
       "1             0.477482         0.479048\n",
       "2             0.478098         0.477800\n",
       "3             0.478209         0.478457"
      ]
     },
     "execution_count": 61,
     "metadata": {},
     "output_type": "execute_result"
    }
   ],
   "source": [
    "res_table4 = pd.DataFrame()\n",
    "res_table4['training error rate'] = train_errs_4\n",
    "res_table4['test error rate'] = test_errs_4\n",
    "res_table4"
   ]
  },
  {
   "cell_type": "code",
   "execution_count": 62,
   "metadata": {},
   "outputs": [
    {
     "name": "stdout",
     "output_type": "stream",
     "text": [
      "training error rate    0.477960\n",
      "test error rate        0.478007\n",
      "dtype: float64\n",
      "training error rate    0.000163\n",
      "test error rate        0.000498\n",
      "dtype: float64\n"
     ]
    }
   ],
   "source": [
    "#mean training error \n",
    "print(res_table4.mean())\n",
    "#standard error of the mean\n",
    "print(res_table4.sem())"
   ]
  },
  {
   "cell_type": "code",
   "execution_count": 63,
   "metadata": {},
   "outputs": [],
   "source": [
    "# estimate test error, div all observations into k = 2 folds (randomize)\n",
    "#for loop selects one fold at a time to be held out\n",
    "k = 5\n",
    "threshold = 0.3\n",
    "kf = KFold(n_splits=k, shuffle=True)\n",
    "train_errs_5 = []\n",
    "test_errs_5 = []\n",
    "\n",
    "for train_index, test_index in kf.split(df_analyze):\n",
    "    df_train = df_analyze.iloc[train_index, :]\n",
    "    df_test = df_analyze.iloc[test_index, :]\n",
    "    \n",
    "    # logistic regression\n",
    "    res = smf.logit(pred_formula, data=df_train).fit(disp=0)\n",
    "    # total error rate \n",
    "    train_pred_temp = (res.predict(df_train) > threshold).astype(int)\n",
    "    train_conf_mat = metrics.confusion_matrix(df_train['violent_crime'], train_pred_temp)\n",
    "    train_err = error_rate(train_conf_mat)\n",
    "    train_errs_5.append(train_err)\n",
    "    \n",
    "    test_pred_temp = (res.predict(df_test) > threshold).astype(int)\n",
    "    test_conf_mat = metrics.confusion_matrix(df_test['violent_crime'], test_pred_temp)\n",
    "    test_err = error_rate(test_conf_mat)\n",
    "    test_errs_5.append(test_err)\n",
    "    \n"
   ]
  },
  {
   "cell_type": "code",
   "execution_count": 64,
   "metadata": {},
   "outputs": [
    {
     "data": {
      "text/html": [
       "<div>\n",
       "<style scoped>\n",
       "    .dataframe tbody tr th:only-of-type {\n",
       "        vertical-align: middle;\n",
       "    }\n",
       "\n",
       "    .dataframe tbody tr th {\n",
       "        vertical-align: top;\n",
       "    }\n",
       "\n",
       "    .dataframe thead th {\n",
       "        text-align: right;\n",
       "    }\n",
       "</style>\n",
       "<table border=\"1\" class=\"dataframe\">\n",
       "  <thead>\n",
       "    <tr style=\"text-align: right;\">\n",
       "      <th></th>\n",
       "      <th>training error rate</th>\n",
       "      <th>test error rate</th>\n",
       "    </tr>\n",
       "  </thead>\n",
       "  <tbody>\n",
       "    <tr>\n",
       "      <th>0</th>\n",
       "      <td>0.477966</td>\n",
       "      <td>0.477640</td>\n",
       "    </tr>\n",
       "    <tr>\n",
       "      <th>1</th>\n",
       "      <td>0.478227</td>\n",
       "      <td>0.478335</td>\n",
       "    </tr>\n",
       "    <tr>\n",
       "      <th>2</th>\n",
       "      <td>0.478087</td>\n",
       "      <td>0.477462</td>\n",
       "    </tr>\n",
       "    <tr>\n",
       "      <th>3</th>\n",
       "      <td>0.477971</td>\n",
       "      <td>0.479076</td>\n",
       "    </tr>\n",
       "    <tr>\n",
       "      <th>4</th>\n",
       "      <td>0.477715</td>\n",
       "      <td>0.477489</td>\n",
       "    </tr>\n",
       "  </tbody>\n",
       "</table>\n",
       "</div>"
      ],
      "text/plain": [
       "   training error rate  test error rate\n",
       "0             0.477966         0.477640\n",
       "1             0.478227         0.478335\n",
       "2             0.478087         0.477462\n",
       "3             0.477971         0.479076\n",
       "4             0.477715         0.477489"
      ]
     },
     "execution_count": 64,
     "metadata": {},
     "output_type": "execute_result"
    }
   ],
   "source": [
    "res_table5 = pd.DataFrame()\n",
    "res_table5['training error rate'] = train_errs_5\n",
    "res_table5['test error rate'] = test_errs_5\n",
    "res_table5"
   ]
  },
  {
   "cell_type": "code",
   "execution_count": 65,
   "metadata": {},
   "outputs": [
    {
     "name": "stdout",
     "output_type": "stream",
     "text": [
      "training error rate    0.477993\n",
      "test error rate        0.478000\n",
      "dtype: float64\n",
      "training error rate    0.000084\n",
      "test error rate        0.000312\n",
      "dtype: float64\n"
     ]
    }
   ],
   "source": [
    "#mean training error \n",
    "print(res_table5.mean())\n",
    "#standard error of the mean\n",
    "print(res_table5.sem())"
   ]
  },
  {
   "cell_type": "markdown",
   "metadata": {},
   "source": [
    "### Perform K-Fold(2,5,10) using samples of the dataframe (fraction = 0.1, 0.25, 0.5) "
   ]
  },
  {
   "cell_type": "code",
   "execution_count": 102,
   "metadata": {},
   "outputs": [],
   "source": [
    "sample_10 = df_analyze.sample(frac = 0.10)\n",
    "sample_25 = df_analyze.sample(frac = 0.25)\n",
    "sample_50 = df_analyze.sample(frac = 0.50)\n"
   ]
  },
  {
   "cell_type": "code",
   "execution_count": 110,
   "metadata": {},
   "outputs": [],
   "source": [
    "m_df_analyze = df_analyze[df_analyze['Vict_Sex'] == 'M']\n",
    "f_df_analyze = df_analyze[df_analyze['Vict_Sex'] == 'F']"
   ]
  },
  {
   "cell_type": "code",
   "execution_count": 112,
   "metadata": {},
   "outputs": [
    {
     "data": {
      "text/plain": [
       "<matplotlib.axes._subplots.AxesSubplot at 0x201cdc154a8>"
      ]
     },
     "execution_count": 112,
     "metadata": {},
     "output_type": "execute_result"
    },
    {
     "data": {
      "image/png": "[encoded data removed]",
      "text/plain": [
       "<Figure size 432x288 with 1 Axes>"
      ]
     },
     "metadata": {
      "needs_background": "light"
     },
     "output_type": "display_data"
    }
   ],
   "source": [
    "\n",
    "f_df_analyze['violent_crime'].value_counts().plot(kind = 'bar')"
   ]
  },
  {
   "cell_type": "code",
   "execution_count": 120,
   "metadata": {},
   "outputs": [
    {
     "data": {
      "text/html": [
       "<div>\n",
       "<style scoped>\n",
       "    .dataframe tbody tr th:only-of-type {\n",
       "        vertical-align: middle;\n",
       "    }\n",
       "\n",
       "    .dataframe tbody tr th {\n",
       "        vertical-align: top;\n",
       "    }\n",
       "\n",
       "    .dataframe thead th {\n",
       "        text-align: right;\n",
       "    }\n",
       "</style>\n",
       "<table border=\"1\" class=\"dataframe\">\n",
       "  <thead>\n",
       "    <tr style=\"text-align: right;\">\n",
       "      <th></th>\n",
       "      <th>level_0</th>\n",
       "      <th>index</th>\n",
       "      <th>DATE_OCC</th>\n",
       "      <th>TIME_OCC</th>\n",
       "      <th>AREA_NAME</th>\n",
       "      <th>Crm Cd Desc</th>\n",
       "      <th>Vict_Age</th>\n",
       "      <th>Vict_Sex</th>\n",
       "      <th>Vict_Descent</th>\n",
       "      <th>LAT</th>\n",
       "      <th>LON</th>\n",
       "      <th>pred_violent</th>\n",
       "      <th>pred_violent_temp</th>\n",
       "    </tr>\n",
       "    <tr>\n",
       "      <th>violent_crime</th>\n",
       "      <th></th>\n",
       "      <th></th>\n",
       "      <th></th>\n",
       "      <th></th>\n",
       "      <th></th>\n",
       "      <th></th>\n",
       "      <th></th>\n",
       "      <th></th>\n",
       "      <th></th>\n",
       "      <th></th>\n",
       "      <th></th>\n",
       "      <th></th>\n",
       "      <th></th>\n",
       "    </tr>\n",
       "  </thead>\n",
       "  <tbody>\n",
       "    <tr>\n",
       "      <th>0</th>\n",
       "      <td>503341</td>\n",
       "      <td>503341</td>\n",
       "      <td>503341</td>\n",
       "      <td>503341</td>\n",
       "      <td>503341</td>\n",
       "      <td>503341</td>\n",
       "      <td>503341</td>\n",
       "      <td>503341</td>\n",
       "      <td>503341</td>\n",
       "      <td>503341</td>\n",
       "      <td>503341</td>\n",
       "      <td>503341</td>\n",
       "      <td>503341</td>\n",
       "    </tr>\n",
       "    <tr>\n",
       "      <th>1</th>\n",
       "      <td>339242</td>\n",
       "      <td>339242</td>\n",
       "      <td>339242</td>\n",
       "      <td>339242</td>\n",
       "      <td>339242</td>\n",
       "      <td>339242</td>\n",
       "      <td>339242</td>\n",
       "      <td>339242</td>\n",
       "      <td>339242</td>\n",
       "      <td>339242</td>\n",
       "      <td>339242</td>\n",
       "      <td>339242</td>\n",
       "      <td>339242</td>\n",
       "    </tr>\n",
       "  </tbody>\n",
       "</table>\n",
       "</div>"
      ],
      "text/plain": [
       "               level_0   index  DATE_OCC  TIME_OCC  AREA_NAME  Crm Cd Desc  \\\n",
       "violent_crime                                                                \n",
       "0               503341  503341    503341    503341     503341       503341   \n",
       "1               339242  339242    339242    339242     339242       339242   \n",
       "\n",
       "               Vict_Age  Vict_Sex  Vict_Descent     LAT     LON  pred_violent  \\\n",
       "violent_crime                                                                   \n",
       "0                503341    503341        503341  503341  503341        503341   \n",
       "1                339242    339242        339242  339242  339242        339242   \n",
       "\n",
       "               pred_violent_temp  \n",
       "violent_crime                     \n",
       "0                         503341  \n",
       "1                         339242  "
      ]
     },
     "execution_count": 120,
     "metadata": {},
     "output_type": "execute_result"
    }
   ],
   "source": [
    "m_df_analyze.groupby('violent_crime').count()"
   ]
  },
  {
   "cell_type": "code",
   "execution_count": 121,
   "metadata": {},
   "outputs": [
    {
     "data": {
      "text/html": [
       "<div>\n",
       "<style scoped>\n",
       "    .dataframe tbody tr th:only-of-type {\n",
       "        vertical-align: middle;\n",
       "    }\n",
       "\n",
       "    .dataframe tbody tr th {\n",
       "        vertical-align: top;\n",
       "    }\n",
       "\n",
       "    .dataframe thead th {\n",
       "        text-align: right;\n",
       "    }\n",
       "</style>\n",
       "<table border=\"1\" class=\"dataframe\">\n",
       "  <thead>\n",
       "    <tr style=\"text-align: right;\">\n",
       "      <th></th>\n",
       "      <th>level_0</th>\n",
       "      <th>index</th>\n",
       "      <th>DATE_OCC</th>\n",
       "      <th>TIME_OCC</th>\n",
       "      <th>AREA_NAME</th>\n",
       "      <th>Crm Cd Desc</th>\n",
       "      <th>Vict_Age</th>\n",
       "      <th>Vict_Sex</th>\n",
       "      <th>Vict_Descent</th>\n",
       "      <th>LAT</th>\n",
       "      <th>LON</th>\n",
       "      <th>pred_violent</th>\n",
       "      <th>pred_violent_temp</th>\n",
       "    </tr>\n",
       "    <tr>\n",
       "      <th>violent_crime</th>\n",
       "      <th></th>\n",
       "      <th></th>\n",
       "      <th></th>\n",
       "      <th></th>\n",
       "      <th></th>\n",
       "      <th></th>\n",
       "      <th></th>\n",
       "      <th></th>\n",
       "      <th></th>\n",
       "      <th></th>\n",
       "      <th></th>\n",
       "      <th></th>\n",
       "      <th></th>\n",
       "    </tr>\n",
       "  </thead>\n",
       "  <tbody>\n",
       "    <tr>\n",
       "      <th>0</th>\n",
       "      <td>467205</td>\n",
       "      <td>467205</td>\n",
       "      <td>467205</td>\n",
       "      <td>467205</td>\n",
       "      <td>467205</td>\n",
       "      <td>467205</td>\n",
       "      <td>467205</td>\n",
       "      <td>467205</td>\n",
       "      <td>467205</td>\n",
       "      <td>467205</td>\n",
       "      <td>467205</td>\n",
       "      <td>467205</td>\n",
       "      <td>467205</td>\n",
       "    </tr>\n",
       "    <tr>\n",
       "      <th>1</th>\n",
       "      <td>394684</td>\n",
       "      <td>394684</td>\n",
       "      <td>394684</td>\n",
       "      <td>394684</td>\n",
       "      <td>394684</td>\n",
       "      <td>394684</td>\n",
       "      <td>394684</td>\n",
       "      <td>394684</td>\n",
       "      <td>394684</td>\n",
       "      <td>394684</td>\n",
       "      <td>394684</td>\n",
       "      <td>394684</td>\n",
       "      <td>394684</td>\n",
       "    </tr>\n",
       "  </tbody>\n",
       "</table>\n",
       "</div>"
      ],
      "text/plain": [
       "               level_0   index  DATE_OCC  TIME_OCC  AREA_NAME  Crm Cd Desc  \\\n",
       "violent_crime                                                                \n",
       "0               467205  467205    467205    467205     467205       467205   \n",
       "1               394684  394684    394684    394684     394684       394684   \n",
       "\n",
       "               Vict_Age  Vict_Sex  Vict_Descent     LAT     LON  pred_violent  \\\n",
       "violent_crime                                                                   \n",
       "0                467205    467205        467205  467205  467205        467205   \n",
       "1                394684    394684        394684  394684  394684        394684   \n",
       "\n",
       "               pred_violent_temp  \n",
       "violent_crime                     \n",
       "0                         467205  \n",
       "1                         394684  "
      ]
     },
     "execution_count": 121,
     "metadata": {},
     "output_type": "execute_result"
    }
   ],
   "source": [
    "f_df_analyze.groupby('violent_crime').count()"
   ]
  },
  {
   "cell_type": "code",
   "execution_count": 156,
   "metadata": {},
   "outputs": [
    {
     "data": {
      "image/png": "[encoded data removed]",
      "text/plain": [
       "<Figure size 432x288 with 1 Axes>"
      ]
     },
     "metadata": {
      "needs_background": "light"
     },
     "output_type": "display_data"
    }
   ],
   "source": [
    "n_groups = 2\n",
    "\n",
    "counts_violent = (90, 55)\n",
    "counts_nonvio = (85, 62)\n",
    "\n",
    "# create plot\n",
    "fig, ax = plt.subplots()\n",
    "index = np.arange(n_groups)\n",
    "bar_width = 0.4\n",
    "opacity = 0.8\n",
    "\n",
    "rects1 = plt.bar(index, counts_violent, bar_width,\n",
    "alpha=opacity,\n",
    "color='b',\n",
    "label='Violent')\n",
    "\n",
    "rects2 = plt.bar(index + bar_width, counts_nonvio, bar_width,\n",
    "alpha=opacity,\n",
    "color='g',\n",
    "label='Non-Violent')\n",
    "\n",
    "plt.xlabel('Gender')\n",
    "plt.ylabel('Counts')\n",
    "plt.title('Scores by person')\n",
    "plt.xticks(index + 0.5*bar_width, ('M', 'F'))\n",
    "plt.legend()\n",
    "\n",
    "plt.tight_layout()\n",
    "plt.show()"
   ]
  },
  {
   "cell_type": "code",
   "execution_count": null,
   "metadata": {},
   "outputs": [],
   "source": []
  }
 ],
 "metadata": {
  "kernelspec": {
   "display_name": "Python 3",
   "language": "python",
   "name": "python3"
  },
  "language_info": {
   "codemirror_mode": {
    "name": "ipython",
    "version": 3
   },
   "file_extension": ".py",
   "mimetype": "text/x-python",
   "name": "python",
   "nbconvert_exporter": "python",
   "pygments_lexer": "ipython3",
   "version": "3.7.1"
  }
 },
 "nbformat": 4,
 "nbformat_minor": 2
}
