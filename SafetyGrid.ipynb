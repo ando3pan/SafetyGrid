{
 "cells": [
  {
   "cell_type": "code",
   "execution_count": 1,
   "metadata": {},
   "outputs": [],
   "source": [
    "import pandas as pd\n",
    "import scipy\n",
    "from sklearn.neighbors import KNeighborsClassifier as KNN\n",
    "import matplotlib.pyplot as plt\n",
    "import numpy as np\n"
   ]
  },
  {
   "cell_type": "code",
   "execution_count": 2,
   "metadata": {},
   "outputs": [],
   "source": [
    "df = pd.read_csv('Crime_Data_from_2010_to_Present.csv')"
   ]
  },
  {
   "cell_type": "code",
   "execution_count": 3,
   "metadata": {},
   "outputs": [
    {
     "data": {
      "text/html": [
       "<div>\n",
       "<style scoped>\n",
       "    .dataframe tbody tr th:only-of-type {\n",
       "        vertical-align: middle;\n",
       "    }\n",
       "\n",
       "    .dataframe tbody tr th {\n",
       "        vertical-align: top;\n",
       "    }\n",
       "\n",
       "    .dataframe thead th {\n",
       "        text-align: right;\n",
       "    }\n",
       "</style>\n",
       "<table border=\"1\" class=\"dataframe\">\n",
       "  <thead>\n",
       "    <tr style=\"text-align: right;\">\n",
       "      <th></th>\n",
       "      <th>DR_NO</th>\n",
       "      <th>Date Rptd</th>\n",
       "      <th>DATE OCC</th>\n",
       "      <th>TIME OCC</th>\n",
       "      <th>AREA</th>\n",
       "      <th>AREA NAME</th>\n",
       "      <th>Rpt Dist No</th>\n",
       "      <th>Part 1-2</th>\n",
       "      <th>Crm Cd</th>\n",
       "      <th>Crm Cd Desc</th>\n",
       "      <th>...</th>\n",
       "      <th>Status</th>\n",
       "      <th>Status Desc</th>\n",
       "      <th>Crm Cd 1</th>\n",
       "      <th>Crm Cd 2</th>\n",
       "      <th>Crm Cd 3</th>\n",
       "      <th>Crm Cd 4</th>\n",
       "      <th>LOCATION</th>\n",
       "      <th>Cross Street</th>\n",
       "      <th>LAT</th>\n",
       "      <th>LON</th>\n",
       "    </tr>\n",
       "  </thead>\n",
       "  <tbody>\n",
       "    <tr>\n",
       "      <th>0</th>\n",
       "      <td>1307355</td>\n",
       "      <td>02/20/2010 12:00:00 AM</td>\n",
       "      <td>02/20/2010 12:00:00 AM</td>\n",
       "      <td>1350</td>\n",
       "      <td>13</td>\n",
       "      <td>Newton</td>\n",
       "      <td>1385</td>\n",
       "      <td>2</td>\n",
       "      <td>900</td>\n",
       "      <td>VIOLATION OF COURT ORDER</td>\n",
       "      <td>...</td>\n",
       "      <td>AA</td>\n",
       "      <td>Adult Arrest</td>\n",
       "      <td>900.0</td>\n",
       "      <td>NaN</td>\n",
       "      <td>NaN</td>\n",
       "      <td>NaN</td>\n",
       "      <td>300 E  GAGE                         AV</td>\n",
       "      <td>NaN</td>\n",
       "      <td>33.9825</td>\n",
       "      <td>-118.2695</td>\n",
       "    </tr>\n",
       "    <tr>\n",
       "      <th>1</th>\n",
       "      <td>11401303</td>\n",
       "      <td>09/13/2010 12:00:00 AM</td>\n",
       "      <td>09/12/2010 12:00:00 AM</td>\n",
       "      <td>45</td>\n",
       "      <td>14</td>\n",
       "      <td>Pacific</td>\n",
       "      <td>1485</td>\n",
       "      <td>2</td>\n",
       "      <td>740</td>\n",
       "      <td>VANDALISM - FELONY ($400 &amp; OVER, ALL CHURCH VA...</td>\n",
       "      <td>...</td>\n",
       "      <td>IC</td>\n",
       "      <td>Invest Cont</td>\n",
       "      <td>740.0</td>\n",
       "      <td>NaN</td>\n",
       "      <td>NaN</td>\n",
       "      <td>NaN</td>\n",
       "      <td>SEPULVEDA                    BL</td>\n",
       "      <td>MANCHESTER                   AV</td>\n",
       "      <td>33.9599</td>\n",
       "      <td>-118.3962</td>\n",
       "    </tr>\n",
       "    <tr>\n",
       "      <th>2</th>\n",
       "      <td>70309629</td>\n",
       "      <td>08/09/2010 12:00:00 AM</td>\n",
       "      <td>08/09/2010 12:00:00 AM</td>\n",
       "      <td>1515</td>\n",
       "      <td>13</td>\n",
       "      <td>Newton</td>\n",
       "      <td>1324</td>\n",
       "      <td>2</td>\n",
       "      <td>946</td>\n",
       "      <td>OTHER MISCELLANEOUS CRIME</td>\n",
       "      <td>...</td>\n",
       "      <td>IC</td>\n",
       "      <td>Invest Cont</td>\n",
       "      <td>946.0</td>\n",
       "      <td>NaN</td>\n",
       "      <td>NaN</td>\n",
       "      <td>NaN</td>\n",
       "      <td>1300 E  21ST                         ST</td>\n",
       "      <td>NaN</td>\n",
       "      <td>34.0224</td>\n",
       "      <td>-118.2524</td>\n",
       "    </tr>\n",
       "    <tr>\n",
       "      <th>3</th>\n",
       "      <td>90631215</td>\n",
       "      <td>01/05/2010 12:00:00 AM</td>\n",
       "      <td>01/05/2010 12:00:00 AM</td>\n",
       "      <td>150</td>\n",
       "      <td>6</td>\n",
       "      <td>Hollywood</td>\n",
       "      <td>646</td>\n",
       "      <td>2</td>\n",
       "      <td>900</td>\n",
       "      <td>VIOLATION OF COURT ORDER</td>\n",
       "      <td>...</td>\n",
       "      <td>IC</td>\n",
       "      <td>Invest Cont</td>\n",
       "      <td>900.0</td>\n",
       "      <td>998.0</td>\n",
       "      <td>NaN</td>\n",
       "      <td>NaN</td>\n",
       "      <td>CAHUENGA                     BL</td>\n",
       "      <td>HOLLYWOOD                    BL</td>\n",
       "      <td>34.1016</td>\n",
       "      <td>-118.3295</td>\n",
       "    </tr>\n",
       "    <tr>\n",
       "      <th>4</th>\n",
       "      <td>100100501</td>\n",
       "      <td>01/03/2010 12:00:00 AM</td>\n",
       "      <td>01/02/2010 12:00:00 AM</td>\n",
       "      <td>2100</td>\n",
       "      <td>1</td>\n",
       "      <td>Central</td>\n",
       "      <td>176</td>\n",
       "      <td>1</td>\n",
       "      <td>122</td>\n",
       "      <td>RAPE, ATTEMPTED</td>\n",
       "      <td>...</td>\n",
       "      <td>IC</td>\n",
       "      <td>Invest Cont</td>\n",
       "      <td>122.0</td>\n",
       "      <td>NaN</td>\n",
       "      <td>NaN</td>\n",
       "      <td>NaN</td>\n",
       "      <td>8TH                          ST</td>\n",
       "      <td>SAN PEDRO                    ST</td>\n",
       "      <td>34.0387</td>\n",
       "      <td>-118.2488</td>\n",
       "    </tr>\n",
       "  </tbody>\n",
       "</table>\n",
       "<p>5 rows × 28 columns</p>\n",
       "</div>"
      ],
      "text/plain": [
       "       DR_NO               Date Rptd                DATE OCC  TIME OCC  AREA   \\\n",
       "0    1307355  02/20/2010 12:00:00 AM  02/20/2010 12:00:00 AM      1350     13   \n",
       "1   11401303  09/13/2010 12:00:00 AM  09/12/2010 12:00:00 AM        45     14   \n",
       "2   70309629  08/09/2010 12:00:00 AM  08/09/2010 12:00:00 AM      1515     13   \n",
       "3   90631215  01/05/2010 12:00:00 AM  01/05/2010 12:00:00 AM       150      6   \n",
       "4  100100501  01/03/2010 12:00:00 AM  01/02/2010 12:00:00 AM      2100      1   \n",
       "\n",
       "   AREA NAME  Rpt Dist No  Part 1-2  Crm Cd  \\\n",
       "0     Newton         1385         2     900   \n",
       "1    Pacific         1485         2     740   \n",
       "2     Newton         1324         2     946   \n",
       "3  Hollywood          646         2     900   \n",
       "4    Central          176         1     122   \n",
       "\n",
       "                                         Crm Cd Desc    ...    Status  \\\n",
       "0                           VIOLATION OF COURT ORDER    ...        AA   \n",
       "1  VANDALISM - FELONY ($400 & OVER, ALL CHURCH VA...    ...        IC   \n",
       "2                          OTHER MISCELLANEOUS CRIME    ...        IC   \n",
       "3                           VIOLATION OF COURT ORDER    ...        IC   \n",
       "4                                    RAPE, ATTEMPTED    ...        IC   \n",
       "\n",
       "    Status Desc Crm Cd 1 Crm Cd 2  Crm Cd 3 Crm Cd 4  \\\n",
       "0  Adult Arrest    900.0      NaN       NaN      NaN   \n",
       "1   Invest Cont    740.0      NaN       NaN      NaN   \n",
       "2   Invest Cont    946.0      NaN       NaN      NaN   \n",
       "3   Invest Cont    900.0    998.0       NaN      NaN   \n",
       "4   Invest Cont    122.0      NaN       NaN      NaN   \n",
       "\n",
       "                                  LOCATION                     Cross Street  \\\n",
       "0   300 E  GAGE                         AV                              NaN   \n",
       "1          SEPULVEDA                    BL  MANCHESTER                   AV   \n",
       "2  1300 E  21ST                         ST                              NaN   \n",
       "3          CAHUENGA                     BL  HOLLYWOOD                    BL   \n",
       "4          8TH                          ST  SAN PEDRO                    ST   \n",
       "\n",
       "       LAT       LON  \n",
       "0  33.9825 -118.2695  \n",
       "1  33.9599 -118.3962  \n",
       "2  34.0224 -118.2524  \n",
       "3  34.1016 -118.3295  \n",
       "4  34.0387 -118.2488  \n",
       "\n",
       "[5 rows x 28 columns]"
      ]
     },
     "execution_count": 3,
     "metadata": {},
     "output_type": "execute_result"
    }
   ],
   "source": [
    "df.head()"
   ]
  },
  {
   "cell_type": "code",
   "execution_count": 4,
   "metadata": {},
   "outputs": [
    {
     "data": {
      "text/plain": [
       "Index(['DR_NO', 'Date Rptd', 'DATE OCC', 'TIME OCC', 'AREA ', 'AREA NAME',\n",
       "       'Rpt Dist No', 'Part 1-2', 'Crm Cd', 'Crm Cd Desc', 'Mocodes',\n",
       "       'Vict Age', 'Vict Sex', 'Vict Descent', 'Premis Cd', 'Premis Desc',\n",
       "       'Weapon Used Cd', 'Weapon Desc', 'Status', 'Status Desc', 'Crm Cd 1',\n",
       "       'Crm Cd 2', 'Crm Cd 3', 'Crm Cd 4', 'LOCATION', 'Cross Street', 'LAT',\n",
       "       'LON'],\n",
       "      dtype='object')"
      ]
     },
     "execution_count": 4,
     "metadata": {},
     "output_type": "execute_result"
    }
   ],
   "source": [
    "df.columns"
   ]
  },
  {
   "cell_type": "code",
   "execution_count": 5,
   "metadata": {},
   "outputs": [
    {
     "data": {
      "text/plain": [
       "Index(['DATE OCC', 'TIME OCC', 'AREA NAME', 'Crm Cd Desc', 'Vict Age',\n",
       "       'Vict Sex', 'Vict Descent', 'LAT', 'LON'],\n",
       "      dtype='object')"
      ]
     },
     "execution_count": 5,
     "metadata": {},
     "output_type": "execute_result"
    }
   ],
   "source": [
    "#drop columns irrelevant to our data analysis\n",
    "drop_cols = [\n",
    "    'DR_NO',\n",
    "    'Date Rptd',\n",
    "    'AREA ',\n",
    "    'Rpt Dist No',\n",
    "    'Part 1-2',\n",
    "    'Crm Cd',\n",
    "    'Premis Cd',\n",
    "    'Premis Desc',\n",
    "    'Weapon Used Cd',\n",
    "    'Weapon Desc',\n",
    "    'Mocodes',\n",
    "    'Status',\n",
    "    'Status Desc',\n",
    "    'Crm Cd 1',\n",
    "    'Crm Cd 2',\n",
    "    'Crm Cd 3',\n",
    "    'Crm Cd 4',\n",
    "    'Cross Street',\n",
    "    'LOCATION',\n",
    "]\n",
    "\n",
    "df = df.drop(drop_cols, axis=1)\n",
    "df.columns"
   ]
  },
  {
   "cell_type": "code",
   "execution_count": 6,
   "metadata": {},
   "outputs": [
    {
     "data": {
      "text/html": [
       "<div>\n",
       "<style scoped>\n",
       "    .dataframe tbody tr th:only-of-type {\n",
       "        vertical-align: middle;\n",
       "    }\n",
       "\n",
       "    .dataframe tbody tr th {\n",
       "        vertical-align: top;\n",
       "    }\n",
       "\n",
       "    .dataframe thead th {\n",
       "        text-align: right;\n",
       "    }\n",
       "</style>\n",
       "<table border=\"1\" class=\"dataframe\">\n",
       "  <thead>\n",
       "    <tr style=\"text-align: right;\">\n",
       "      <th></th>\n",
       "      <th>DATE OCC</th>\n",
       "      <th>TIME OCC</th>\n",
       "      <th>AREA NAME</th>\n",
       "      <th>Crm Cd Desc</th>\n",
       "      <th>Vict Age</th>\n",
       "      <th>Vict Sex</th>\n",
       "      <th>Vict Descent</th>\n",
       "      <th>LAT</th>\n",
       "      <th>LON</th>\n",
       "    </tr>\n",
       "  </thead>\n",
       "  <tbody>\n",
       "    <tr>\n",
       "      <th>0</th>\n",
       "      <td>02/20/2010 12:00:00 AM</td>\n",
       "      <td>1350</td>\n",
       "      <td>Newton</td>\n",
       "      <td>VIOLATION OF COURT ORDER</td>\n",
       "      <td>48</td>\n",
       "      <td>M</td>\n",
       "      <td>H</td>\n",
       "      <td>33.9825</td>\n",
       "      <td>-118.2695</td>\n",
       "    </tr>\n",
       "    <tr>\n",
       "      <th>1</th>\n",
       "      <td>09/12/2010 12:00:00 AM</td>\n",
       "      <td>45</td>\n",
       "      <td>Pacific</td>\n",
       "      <td>VANDALISM - FELONY ($400 &amp; OVER, ALL CHURCH VA...</td>\n",
       "      <td>0</td>\n",
       "      <td>M</td>\n",
       "      <td>W</td>\n",
       "      <td>33.9599</td>\n",
       "      <td>-118.3962</td>\n",
       "    </tr>\n",
       "    <tr>\n",
       "      <th>2</th>\n",
       "      <td>08/09/2010 12:00:00 AM</td>\n",
       "      <td>1515</td>\n",
       "      <td>Newton</td>\n",
       "      <td>OTHER MISCELLANEOUS CRIME</td>\n",
       "      <td>0</td>\n",
       "      <td>M</td>\n",
       "      <td>H</td>\n",
       "      <td>34.0224</td>\n",
       "      <td>-118.2524</td>\n",
       "    </tr>\n",
       "    <tr>\n",
       "      <th>3</th>\n",
       "      <td>01/05/2010 12:00:00 AM</td>\n",
       "      <td>150</td>\n",
       "      <td>Hollywood</td>\n",
       "      <td>VIOLATION OF COURT ORDER</td>\n",
       "      <td>47</td>\n",
       "      <td>F</td>\n",
       "      <td>W</td>\n",
       "      <td>34.1016</td>\n",
       "      <td>-118.3295</td>\n",
       "    </tr>\n",
       "    <tr>\n",
       "      <th>4</th>\n",
       "      <td>01/02/2010 12:00:00 AM</td>\n",
       "      <td>2100</td>\n",
       "      <td>Central</td>\n",
       "      <td>RAPE, ATTEMPTED</td>\n",
       "      <td>47</td>\n",
       "      <td>F</td>\n",
       "      <td>H</td>\n",
       "      <td>34.0387</td>\n",
       "      <td>-118.2488</td>\n",
       "    </tr>\n",
       "  </tbody>\n",
       "</table>\n",
       "</div>"
      ],
      "text/plain": [
       "                 DATE OCC  TIME OCC  AREA NAME  \\\n",
       "0  02/20/2010 12:00:00 AM      1350     Newton   \n",
       "1  09/12/2010 12:00:00 AM        45    Pacific   \n",
       "2  08/09/2010 12:00:00 AM      1515     Newton   \n",
       "3  01/05/2010 12:00:00 AM       150  Hollywood   \n",
       "4  01/02/2010 12:00:00 AM      2100    Central   \n",
       "\n",
       "                                         Crm Cd Desc  Vict Age Vict Sex  \\\n",
       "0                           VIOLATION OF COURT ORDER        48        M   \n",
       "1  VANDALISM - FELONY ($400 & OVER, ALL CHURCH VA...         0        M   \n",
       "2                          OTHER MISCELLANEOUS CRIME         0        M   \n",
       "3                           VIOLATION OF COURT ORDER        47        F   \n",
       "4                                    RAPE, ATTEMPTED        47        F   \n",
       "\n",
       "  Vict Descent      LAT       LON  \n",
       "0            H  33.9825 -118.2695  \n",
       "1            W  33.9599 -118.3962  \n",
       "2            H  34.0224 -118.2524  \n",
       "3            W  34.1016 -118.3295  \n",
       "4            H  34.0387 -118.2488  "
      ]
     },
     "execution_count": 6,
     "metadata": {},
     "output_type": "execute_result"
    }
   ],
   "source": [
    "df.head()"
   ]
  },
  {
   "cell_type": "code",
   "execution_count": 7,
   "metadata": {},
   "outputs": [],
   "source": [
    "# clean up date occurred to only contain month/day/year\n",
    "temp = df['DATE OCC'].str.split(' ',n = 1, expand = True)\n",
    "temp2 = temp[0]\n",
    "df['DATE OCC'] = temp2"
   ]
  },
  {
   "cell_type": "code",
   "execution_count": 8,
   "metadata": {},
   "outputs": [
    {
     "data": {
      "text/html": [
       "<div>\n",
       "<style scoped>\n",
       "    .dataframe tbody tr th:only-of-type {\n",
       "        vertical-align: middle;\n",
       "    }\n",
       "\n",
       "    .dataframe tbody tr th {\n",
       "        vertical-align: top;\n",
       "    }\n",
       "\n",
       "    .dataframe thead th {\n",
       "        text-align: right;\n",
       "    }\n",
       "</style>\n",
       "<table border=\"1\" class=\"dataframe\">\n",
       "  <thead>\n",
       "    <tr style=\"text-align: right;\">\n",
       "      <th></th>\n",
       "      <th>DATE OCC</th>\n",
       "      <th>TIME OCC</th>\n",
       "      <th>AREA NAME</th>\n",
       "      <th>Crm Cd Desc</th>\n",
       "      <th>Vict Age</th>\n",
       "      <th>Vict Sex</th>\n",
       "      <th>Vict Descent</th>\n",
       "      <th>LAT</th>\n",
       "      <th>LON</th>\n",
       "    </tr>\n",
       "  </thead>\n",
       "  <tbody>\n",
       "    <tr>\n",
       "      <th>0</th>\n",
       "      <td>02/20/2010</td>\n",
       "      <td>1350</td>\n",
       "      <td>Newton</td>\n",
       "      <td>VIOLATION OF COURT ORDER</td>\n",
       "      <td>48</td>\n",
       "      <td>M</td>\n",
       "      <td>H</td>\n",
       "      <td>33.9825</td>\n",
       "      <td>-118.2695</td>\n",
       "    </tr>\n",
       "    <tr>\n",
       "      <th>1</th>\n",
       "      <td>09/12/2010</td>\n",
       "      <td>45</td>\n",
       "      <td>Pacific</td>\n",
       "      <td>VANDALISM - FELONY ($400 &amp; OVER, ALL CHURCH VA...</td>\n",
       "      <td>0</td>\n",
       "      <td>M</td>\n",
       "      <td>W</td>\n",
       "      <td>33.9599</td>\n",
       "      <td>-118.3962</td>\n",
       "    </tr>\n",
       "    <tr>\n",
       "      <th>2</th>\n",
       "      <td>08/09/2010</td>\n",
       "      <td>1515</td>\n",
       "      <td>Newton</td>\n",
       "      <td>OTHER MISCELLANEOUS CRIME</td>\n",
       "      <td>0</td>\n",
       "      <td>M</td>\n",
       "      <td>H</td>\n",
       "      <td>34.0224</td>\n",
       "      <td>-118.2524</td>\n",
       "    </tr>\n",
       "    <tr>\n",
       "      <th>3</th>\n",
       "      <td>01/05/2010</td>\n",
       "      <td>150</td>\n",
       "      <td>Hollywood</td>\n",
       "      <td>VIOLATION OF COURT ORDER</td>\n",
       "      <td>47</td>\n",
       "      <td>F</td>\n",
       "      <td>W</td>\n",
       "      <td>34.1016</td>\n",
       "      <td>-118.3295</td>\n",
       "    </tr>\n",
       "    <tr>\n",
       "      <th>4</th>\n",
       "      <td>01/02/2010</td>\n",
       "      <td>2100</td>\n",
       "      <td>Central</td>\n",
       "      <td>RAPE, ATTEMPTED</td>\n",
       "      <td>47</td>\n",
       "      <td>F</td>\n",
       "      <td>H</td>\n",
       "      <td>34.0387</td>\n",
       "      <td>-118.2488</td>\n",
       "    </tr>\n",
       "  </tbody>\n",
       "</table>\n",
       "</div>"
      ],
      "text/plain": [
       "     DATE OCC  TIME OCC  AREA NAME  \\\n",
       "0  02/20/2010      1350     Newton   \n",
       "1  09/12/2010        45    Pacific   \n",
       "2  08/09/2010      1515     Newton   \n",
       "3  01/05/2010       150  Hollywood   \n",
       "4  01/02/2010      2100    Central   \n",
       "\n",
       "                                         Crm Cd Desc  Vict Age Vict Sex  \\\n",
       "0                           VIOLATION OF COURT ORDER        48        M   \n",
       "1  VANDALISM - FELONY ($400 & OVER, ALL CHURCH VA...         0        M   \n",
       "2                          OTHER MISCELLANEOUS CRIME         0        M   \n",
       "3                           VIOLATION OF COURT ORDER        47        F   \n",
       "4                                    RAPE, ATTEMPTED        47        F   \n",
       "\n",
       "  Vict Descent      LAT       LON  \n",
       "0            H  33.9825 -118.2695  \n",
       "1            W  33.9599 -118.3962  \n",
       "2            H  34.0224 -118.2524  \n",
       "3            W  34.1016 -118.3295  \n",
       "4            H  34.0387 -118.2488  "
      ]
     },
     "execution_count": 8,
     "metadata": {},
     "output_type": "execute_result"
    }
   ],
   "source": [
    "df.head()"
   ]
  },
  {
   "cell_type": "code",
   "execution_count": 9,
   "metadata": {
    "scrolled": true
   },
   "outputs": [
    {
     "data": {
      "text/plain": [
       "array(['VIOLATION OF COURT ORDER',\n",
       "       'VANDALISM - FELONY ($400 & OVER, ALL CHURCH VANDALISMS)',\n",
       "       'OTHER MISCELLANEOUS CRIME', 'RAPE, ATTEMPTED',\n",
       "       'SHOPLIFTING - PETTY THEFT ($950 & UNDER)',\n",
       "       'BURGLARY FROM VEHICLE',\n",
       "       'ASSAULT WITH DEADLY WEAPON, AGGRAVATED ASSAULT',\n",
       "       'THEFT-GRAND ($950.01 & OVER)EXCPT,GUNS,FOWL,LIVESTK,PROD',\n",
       "       'BATTERY - SIMPLE ASSAULT', 'ROBBERY', 'BOMB SCARE',\n",
       "       'CHILD NEGLECT (SEE 300 W.I.C.)',\n",
       "       'INTIMATE PARTNER - AGGRAVATED ASSAULT',\n",
       "       'INTIMATE PARTNER - SIMPLE ASSAULT',\n",
       "       'THEFT PLAIN - PETTY ($950 & UNDER)',\n",
       "       'CRIMINAL THREATS - NO WEAPON DISPLAYED', 'ATTEMPTED ROBBERY',\n",
       "       'VANDALISM - MISDEAMEANOR ($399 OR UNDER)', 'BURGLARY', 'ARSON',\n",
       "       'RAPE, FORCIBLE', 'BRANDISH WEAPON',\n",
       "       'THROWING OBJECT AT MOVING VEHICLE',\n",
       "       'SHOPLIFTING-GRAND THEFT ($950.01 & OVER)',\n",
       "       'CHILD ABUSE (PHYSICAL) - SIMPLE ASSAULT',\n",
       "       'SHOTS FIRED AT INHABITED DWELLING',\n",
       "       'THEFT FROM MOTOR VEHICLE - GRAND ($400 AND OVER)',\n",
       "       'VEHICLE - STOLEN', 'KIDNAPPING - GRAND ATTEMPT',\n",
       "       'CRIMINAL HOMICIDE', 'THEFT PLAIN - ATTEMPT', 'THEFT, PERSON',\n",
       "       'TRESPASSING', 'KIDNAPPING', 'VEHICLE - ATTEMPT STOLEN',\n",
       "       'BATTERY WITH SEXUAL CONTACT', 'DOCUMENT FORGERY / STOLEN FELONY',\n",
       "       'BATTERY POLICE (SIMPLE)',\n",
       "       'CHILD ABUSE (PHYSICAL) - AGGRAVATED ASSAULT',\n",
       "       'DISTURBING THE PEACE', 'OTHER ASSAULT',\n",
       "       'VIOLATION OF RESTRAINING ORDER', 'LEWD CONDUCT',\n",
       "       'CRM AGNST CHLD (13 OR UNDER) (14-15 & SUSP 10 YRS OLDER)',\n",
       "       'THEFT OF IDENTITY',\n",
       "       'ASSAULT WITH DEADLY WEAPON ON POLICE OFFICER',\n",
       "       'CHILD ANNOYING (17YRS & UNDER)',\n",
       "       'SODOMY/SEXUAL CONTACT B/W PENIS OF ONE PERS TO ANUS OTH',\n",
       "       'ORAL COPULATION', 'CRUELTY TO ANIMALS',\n",
       "       'THEFT FROM MOTOR VEHICLE - PETTY ($950 & UNDER)',\n",
       "       'LETTERS, LEWD  -  TELEPHONE CALLS, LEWD', 'PEEPING TOM',\n",
       "       'INDECENT EXPOSURE', 'BIKE - STOLEN',\n",
       "       'BURGLARY FROM VEHICLE, ATTEMPTED', 'BURGLARY, ATTEMPTED',\n",
       "       'STALKING', 'THREATENING PHONE CALLS/LETTERS',\n",
       "       'SEX,UNLAWFUL(INC MUTUAL CONSENT, PENETRATION W/ FRGN OBJ',\n",
       "       'BUNCO, PETTY THEFT', 'VIOLATION OF TEMPORARY RESTRAINING ORDER',\n",
       "       'BUNCO, GRAND THEFT', 'EMBEZZLEMENT, GRAND THEFT ($950.01 & OVER)',\n",
       "       'SEXUAL PENETRATION W/FOREIGN OBJECT', 'EXTORTION', 'PICKPOCKET',\n",
       "       'EMBEZZLEMENT, PETTY THEFT ($950 & UNDER)', 'PURSE SNATCHING',\n",
       "       'WEAPONS POSSESSION/BOMBING', 'COUNTERFEIT',\n",
       "       'DEFRAUDING INNKEEPER/THEFT OF SERVICES, $400 & UNDER',\n",
       "       'FALSE IMPRISONMENT', 'CREDIT CARDS, FRAUD USE ($950.01 & OVER)',\n",
       "       'DISCHARGE FIREARMS/SHOTS FIRED',\n",
       "       'DEFRAUDING INNKEEPER/THEFT OF SERVICES, OVER $400',\n",
       "       'THEFT FROM PERSON - ATTEMPT', 'UNAUTHORIZED COMPUTER ACCESS',\n",
       "       'PANDERING', 'PIMPING', 'DRUNK ROLL - ATTEMPT',\n",
       "       'SHOPLIFTING - ATTEMPT', 'RESISTING ARREST',\n",
       "       'DISHONEST EMPLOYEE - GRAND THEFT', 'RECKLESS DRIVING', 'PROWLER',\n",
       "       'CREDIT CARDS, FRAUD USE ($950 & UNDER',\n",
       "       'DOCUMENT WORTHLESS ($200.01 & OVER)', 'CHILD STEALING',\n",
       "       'CONTEMPT OF COURT', 'CONSPIRACY',\n",
       "       'THEFT FROM MOTOR VEHICLE - ATTEMPT', 'DRUNK ROLL',\n",
       "       'BATTERY ON A FIREFIGHTER', 'ILLEGAL DUMPING', 'LYNCHING',\n",
       "       'THEFT, COIN MACHINE - PETTY ($950 & UNDER)',\n",
       "       'GRAND THEFT / INSURANCE FRAUD', 'BUNCO, ATTEMPT',\n",
       "       'DISRUPT SCHOOL', 'THEFT, COIN MACHINE - GRAND ($950.01 & OVER)',\n",
       "       'FALSE POLICE REPORT', 'PURSE SNATCHING - ATTEMPT',\n",
       "       'BOAT - STOLEN',\n",
       "       'SHOTS FIRED AT MOVING VEHICLE, TRAIN OR AIRCRAFT',\n",
       "       'DRIVING WITHOUT OWNER CONSENT (DWOC)', 'CONTRIBUTING',\n",
       "       'FAILURE TO YIELD', 'TILL TAP - ATTEMPT', 'DRUGS, TO A MINOR',\n",
       "       'INCITING A RIOT',\n",
       "       'BEASTIALITY, CRIME AGAINST NATURE SEXUAL ASSLT WITH ANIM',\n",
       "       'BRIBERY', 'LYNCHING - ATTEMPTED', 'TELEPHONE PROPERTY - DAMAGE',\n",
       "       'CHILD ABANDONMENT', 'THEFT, COIN MACHINE - ATTEMPT',\n",
       "       'DISHONEST EMPLOYEE - PETTY THEFT', 'PETTY THEFT - AUTO REPAIR',\n",
       "       'BIGAMY', 'TILL TAP - PETTY ($950 & UNDER)',\n",
       "       'TILL TAP - GRAND THEFT ($950.01 & OVER)',\n",
       "       'DOCUMENT WORTHLESS ($200 & UNDER)', 'MANSLAUGHTER, NEGLIGENT',\n",
       "       'PICKPOCKET, ATTEMPT', 'GRAND THEFT / AUTO REPAIR',\n",
       "       'HUMAN TRAFFICKING - COMMERCIAL SEX ACTS',\n",
       "       'LEWD/LASCIVIOUS ACTS WITH CHILD', 'BIKE - ATTEMPTED STOLEN',\n",
       "       'FAILURE TO DISPERSE',\n",
       "       'REPLICA FIREARMS(SALE,DISPLAY,MANUFACTURE OR DISTRIBUTE)',\n",
       "       'HUMAN TRAFFICKING - INVOLUNTARY SERVITUDE', 'CHILD PORNOGRAPHY',\n",
       "       'ABORTION/ILLEGAL', 'INCEST (SEXUAL ACTS BETWEEN BLOOD RELATIVES)',\n",
       "       'DISHONEST EMPLOYEE ATTEMPTED THEFT', 'TRAIN WRECKING',\n",
       "       'BLOCKING DOOR INDUCTION CENTER',\n",
       "       'FIREARMS RESTRAINING ORDER (FIREARMS RO)',\n",
       "       'VEHICLE - MOTORIZED SCOOTERS, BICYCLES, AND WHEELCHAIRS',\n",
       "       'FIREARMS TEMPORARY RESTRAINING ORDER (TEMP FIREARMS RO)'],\n",
       "      dtype=object)"
      ]
     },
     "execution_count": 9,
     "metadata": {},
     "output_type": "execute_result"
    }
   ],
   "source": [
    "df['Crm Cd Desc'].unique()"
   ]
  },
  {
   "cell_type": "code",
   "execution_count": 10,
   "metadata": {},
   "outputs": [],
   "source": [
    "# # drop crimes that are not deemed threatening to civilians\n",
    "# drop_crimes = set([\n",
    "#     'ABORTION/ILLEGAL',\n",
    "#     'BEASTIALITY, CRIME AGAINST NATURE SEXUAL ASSLT WITH ANIM',\n",
    "#     'BIGAMY',\n",
    "#     'BLOCKING DOOR INDUCTION CENTER',\n",
    "#     'BOAT - STOLEN',\n",
    "#     'CONSPIRACY',\n",
    "#     'CREDIT CARDS, FRAUD USE ($950 & UNDER',\n",
    "#     'CREDIT CARDS, FRAUD USE ($950.01 & OVER)',\n",
    "#     'CONTEMPT OF COURT',\n",
    "#     'CONTRIBUTING',\n",
    "#     'COUNTERFEIT',\n",
    "#     'CRUELTY TO ANIMALS',\n",
    "#     'DEFRAUDING INNKEEPER/THEFT OF SERVICES, $400 & UNDER',\n",
    "#     'DEFRAUDING INNKEEPER/THEFT OF SERVICES, OVER $400',\n",
    "#     'DISHONEST EMPLOYEE - GRAND THEFT',\n",
    "#     'DISHONEST EMPLOYEE - PETTY THEFT',\n",
    "#     'DISHONEST EMPLOYEE ATTEMPTED THEFT',\n",
    "#     'DOCUMENT FORGERY / STOLEN FELONY',\n",
    "#     'DOCUMENT WORTHLESS ($200 & UNDER)',\n",
    "#     'DOCUMENT WORTHLESS ($200.01 & OVER)',\n",
    "#     'DRIVING WITHOUT OWNER CONSENT (DWOC)',\n",
    "#     'EMBEZZLEMENT, GRAND THEFT ($950.01 & OVER)',\n",
    "#     'EMBEZZLEMENT, PETTY THEFT ($950 & UNDER)',\n",
    "#     'FAILURE TO YIELD',\n",
    "#     'FALSE IMPRISONMENT',\n",
    "#     'FALSE POLICE REPORT',\n",
    "#     'LETTERS, LEWD  -  TELEPHONE CALLS, LEWD',\n",
    "#     'PANDERING',\n",
    "#     'REPLICA FIREARMS(SALE,DISPLAY,MANUFACTURE OR DISTRIBUTE)',\n",
    "#     'TELEPHONE PROPERTY - DAMAGE',\n",
    "#     'THEFT OF IDENTITY',\n",
    "#     'UNAUTHORIZED COMPUTER ACCESS',\n",
    "#     'VIOLATION OF COURT ORDER',\n",
    "    \n",
    "# ])\n",
    "\n",
    "# df = df[~df['Crm Cd Desc'].isin(drop_crimes)]"
   ]
  },
  {
   "cell_type": "code",
   "execution_count": 11,
   "metadata": {},
   "outputs": [],
   "source": [
    "#merging latitude and longitude into new column `COORDS`\n",
    "\n",
    "# df['COORDS'] = list(zip(df['LAT'],df['LON']))\n",
    "# df.drop(columns = ['LAT','LON'], axis = 1, inplace = True)"
   ]
  },
  {
   "cell_type": "code",
   "execution_count": 12,
   "metadata": {},
   "outputs": [
    {
     "data": {
      "text/html": [
       "<div>\n",
       "<style scoped>\n",
       "    .dataframe tbody tr th:only-of-type {\n",
       "        vertical-align: middle;\n",
       "    }\n",
       "\n",
       "    .dataframe tbody tr th {\n",
       "        vertical-align: top;\n",
       "    }\n",
       "\n",
       "    .dataframe thead th {\n",
       "        text-align: right;\n",
       "    }\n",
       "</style>\n",
       "<table border=\"1\" class=\"dataframe\">\n",
       "  <thead>\n",
       "    <tr style=\"text-align: right;\">\n",
       "      <th></th>\n",
       "      <th>DATE OCC</th>\n",
       "      <th>TIME OCC</th>\n",
       "      <th>AREA NAME</th>\n",
       "      <th>Crm Cd Desc</th>\n",
       "      <th>Vict Age</th>\n",
       "      <th>Vict Sex</th>\n",
       "      <th>Vict Descent</th>\n",
       "      <th>LAT</th>\n",
       "      <th>LON</th>\n",
       "    </tr>\n",
       "  </thead>\n",
       "  <tbody>\n",
       "    <tr>\n",
       "      <th>0</th>\n",
       "      <td>02/20/2010</td>\n",
       "      <td>1350</td>\n",
       "      <td>Newton</td>\n",
       "      <td>VIOLATION OF COURT ORDER</td>\n",
       "      <td>48</td>\n",
       "      <td>M</td>\n",
       "      <td>H</td>\n",
       "      <td>33.9825</td>\n",
       "      <td>-118.2695</td>\n",
       "    </tr>\n",
       "    <tr>\n",
       "      <th>1</th>\n",
       "      <td>09/12/2010</td>\n",
       "      <td>45</td>\n",
       "      <td>Pacific</td>\n",
       "      <td>VANDALISM - FELONY ($400 &amp; OVER, ALL CHURCH VA...</td>\n",
       "      <td>0</td>\n",
       "      <td>M</td>\n",
       "      <td>W</td>\n",
       "      <td>33.9599</td>\n",
       "      <td>-118.3962</td>\n",
       "    </tr>\n",
       "    <tr>\n",
       "      <th>2</th>\n",
       "      <td>08/09/2010</td>\n",
       "      <td>1515</td>\n",
       "      <td>Newton</td>\n",
       "      <td>OTHER MISCELLANEOUS CRIME</td>\n",
       "      <td>0</td>\n",
       "      <td>M</td>\n",
       "      <td>H</td>\n",
       "      <td>34.0224</td>\n",
       "      <td>-118.2524</td>\n",
       "    </tr>\n",
       "    <tr>\n",
       "      <th>3</th>\n",
       "      <td>01/05/2010</td>\n",
       "      <td>150</td>\n",
       "      <td>Hollywood</td>\n",
       "      <td>VIOLATION OF COURT ORDER</td>\n",
       "      <td>47</td>\n",
       "      <td>F</td>\n",
       "      <td>W</td>\n",
       "      <td>34.1016</td>\n",
       "      <td>-118.3295</td>\n",
       "    </tr>\n",
       "    <tr>\n",
       "      <th>4</th>\n",
       "      <td>01/02/2010</td>\n",
       "      <td>2100</td>\n",
       "      <td>Central</td>\n",
       "      <td>RAPE, ATTEMPTED</td>\n",
       "      <td>47</td>\n",
       "      <td>F</td>\n",
       "      <td>H</td>\n",
       "      <td>34.0387</td>\n",
       "      <td>-118.2488</td>\n",
       "    </tr>\n",
       "  </tbody>\n",
       "</table>\n",
       "</div>"
      ],
      "text/plain": [
       "     DATE OCC  TIME OCC  AREA NAME  \\\n",
       "0  02/20/2010      1350     Newton   \n",
       "1  09/12/2010        45    Pacific   \n",
       "2  08/09/2010      1515     Newton   \n",
       "3  01/05/2010       150  Hollywood   \n",
       "4  01/02/2010      2100    Central   \n",
       "\n",
       "                                         Crm Cd Desc  Vict Age Vict Sex  \\\n",
       "0                           VIOLATION OF COURT ORDER        48        M   \n",
       "1  VANDALISM - FELONY ($400 & OVER, ALL CHURCH VA...         0        M   \n",
       "2                          OTHER MISCELLANEOUS CRIME         0        M   \n",
       "3                           VIOLATION OF COURT ORDER        47        F   \n",
       "4                                    RAPE, ATTEMPTED        47        F   \n",
       "\n",
       "  Vict Descent      LAT       LON  \n",
       "0            H  33.9825 -118.2695  \n",
       "1            W  33.9599 -118.3962  \n",
       "2            H  34.0224 -118.2524  \n",
       "3            W  34.1016 -118.3295  \n",
       "4            H  34.0387 -118.2488  "
      ]
     },
     "execution_count": 12,
     "metadata": {},
     "output_type": "execute_result"
    }
   ],
   "source": [
    "df.head()"
   ]
  },
  {
   "cell_type": "code",
   "execution_count": 13,
   "metadata": {},
   "outputs": [
    {
     "data": {
      "text/plain": [
       "array(['Newton', 'Pacific', 'Hollywood', 'Central', 'Northeast',\n",
       "       'Hollenbeck', 'Southwest', 'Southeast', 'Rampart', 'Olympic',\n",
       "       'Wilshire', '77th Street', 'Harbor', 'West LA', 'Van Nuys',\n",
       "       'West Valley', 'Topanga', 'N Hollywood', 'Mission', 'Foothill',\n",
       "       'Devonshire'], dtype=object)"
      ]
     },
     "execution_count": 13,
     "metadata": {},
     "output_type": "execute_result"
    }
   ],
   "source": [
    "df['AREA NAME'].unique()"
   ]
  },
  {
   "cell_type": "code",
   "execution_count": 14,
   "metadata": {},
   "outputs": [],
   "source": [
    "#drop all victimless crime\n",
    "df.dropna(inplace = True)\n",
    "df.reset_index(inplace = True)"
   ]
  },
  {
   "cell_type": "code",
   "execution_count": 15,
   "metadata": {},
   "outputs": [
    {
     "name": "stdout",
     "output_type": "stream",
     "text": [
      "The max and min longitude values are 0.0 & -118.8279\n",
      "The max and min latitude values are 34.7907 & 0.0\n"
     ]
    }
   ],
   "source": [
    "#get max and min longitude\n",
    "print('The max and min longitude values are ' + str(np.max(df['LON'])) + ' & ' + str(np.min(df['LON'])))\n",
    "#get max and min latitude\n",
    "print('The max and min latitude values are ' + str(np.max(df['LAT'])) + ' & ' + str(np.min(df['LAT'])))\n",
    "#plot LAT v LON to visualize where crimes occur in LA\n"
   ]
  },
  {
   "cell_type": "code",
   "execution_count": 46,
   "metadata": {},
   "outputs": [
    {
     "ename": "SyntaxError",
     "evalue": "invalid syntax (<ipython-input-46-da4a8cca8407>, line 2)",
     "output_type": "error",
     "traceback": [
      "\u001b[1;36m  File \u001b[1;32m\"<ipython-input-46-da4a8cca8407>\"\u001b[1;36m, line \u001b[1;32m2\u001b[0m\n\u001b[1;33m    df.loc[df['DATE OCC'] has '/2010']\u001b[0m\n\u001b[1;37m                            ^\u001b[0m\n\u001b[1;31mSyntaxError\u001b[0m\u001b[1;31m:\u001b[0m invalid syntax\n"
     ]
    }
   ],
   "source": [
    "#df.loc[df['column_name'].isin(some_values)]\n",
    "# df.loc[df['DATE OCC'] has '/2010']"
   ]
  },
  {
   "cell_type": "code",
   "execution_count": null,
   "metadata": {},
   "outputs": [],
   "source": [
    "df.loc?"
   ]
  },
  {
   "cell_type": "code",
   "execution_count": 21,
   "metadata": {},
   "outputs": [],
   "source": [
    "years = []\n",
    "for date in df['DATE OCC']:\n",
    "    data = date.split('/')\n",
    "    years.append(int(data[2]))"
   ]
  },
  {
   "cell_type": "code",
   "execution_count": 22,
   "metadata": {},
   "outputs": [],
   "source": [
    "df['DATE OCC'].head()\n",
    "df['Year'] = years"
   ]
  },
  {
   "cell_type": "code",
   "execution_count": 30,
   "metadata": {},
   "outputs": [
    {
     "data": {
      "text/plain": [
       "array([2010, 2011, 2012, 2013, 2014, 2015, 2016, 2017, 2018, 2019],\n",
       "      dtype=int64)"
      ]
     },
     "execution_count": 30,
     "metadata": {},
     "output_type": "execute_result"
    }
   ],
   "source": [
    "df['Year'].unique()"
   ]
  },
  {
   "cell_type": "code",
   "execution_count": 44,
   "metadata": {},
   "outputs": [],
   "source": [
    "# split df into 2010-2012, 2013-2015, 2016-2018\n",
    "\n",
    "# def append_year(year_range):\n",
    "# df_10_12 = df[(df['Year'] == 2010)]\n",
    "# df_10_12 = df_10_12.append(df[(df['Year'] == 2011)])\n",
    "# df_13_15 = df.loc[df['Year'] >= 2013 and df['Year'] <= 2015]\n",
    "# df_16_18 = df.loc[df['Year'] >= 2016 and df['Year'] <= 2018]\n",
    "#df_10_12 = df.loc\n",
    "#plot lat v lon in different colors to visualize where crime is happening in LA\n",
    "#"
   ]
  },
  {
   "cell_type": "code",
   "execution_count": 45,
   "metadata": {},
   "outputs": [
    {
     "data": {
      "text/plain": [
       "array([2010, 2011], dtype=int64)"
      ]
     },
     "execution_count": 45,
     "metadata": {},
     "output_type": "execute_result"
    }
   ],
   "source": [
    "df_10_12['Year'].unique()"
   ]
  },
  {
   "cell_type": "code",
   "execution_count": null,
   "metadata": {},
   "outputs": [],
   "source": [
    "#plot of all crimes lat v lon\n",
    "plt.scatter(df['LON'],df['LAT'])\n",
    "plt.xlim([-118.465381,-118.138795])\n",
    "plt.ylim([34.016907, 34.105999])\n",
    "plt.ylabel('Latitude')\n",
    "plt.xlabel('Longitude')"
   ]
  },
  {
   "cell_type": "code",
   "execution_count": null,
   "metadata": {},
   "outputs": [],
   "source": [
    "np.argmin(df['LON'])"
   ]
  },
  {
   "cell_type": "code",
   "execution_count": null,
   "metadata": {},
   "outputs": [],
   "source": [
    "df['TIME OCC'].value_counts()[:10].plot(kind = 'bar')\n",
    "\n",
    "f0 = plt.gcf()"
   ]
  },
  {
   "cell_type": "code",
   "execution_count": null,
   "metadata": {},
   "outputs": [],
   "source": [
    "df['DATE OCC'].value_counts()[:10].plot(kind = 'bar')\n",
    "\n",
    "f1 = plt.gcf()"
   ]
  },
  {
   "cell_type": "code",
   "execution_count": null,
   "metadata": {},
   "outputs": [],
   "source": [
    "df['AREA NAME'].value_counts().plot(kind = 'bar')\n",
    "\n",
    "f2 = plt.gcf()"
   ]
  },
  {
   "cell_type": "code",
   "execution_count": null,
   "metadata": {},
   "outputs": [],
   "source": [
    "df['Vict Age'].value_counts()[:30].plot(kind = 'bar')\n",
    "\n",
    "f3 = plt.gcf()"
   ]
  },
  {
   "cell_type": "code",
   "execution_count": null,
   "metadata": {
    "scrolled": true
   },
   "outputs": [],
   "source": [
    "df['Vict Descent'].value_counts().plot(kind = 'bar')\n",
    "\n",
    "f4 = plt.gcf()"
   ]
  },
  {
   "cell_type": "code",
   "execution_count": null,
   "metadata": {},
   "outputs": [],
   "source": [
    "df['Vict Descent'].unique()"
   ]
  },
  {
   "cell_type": "markdown",
   "metadata": {},
   "source": [
    "What can we drop? (eg '0' ages, unknown descent) - new dataframes?, X,H,N genders\n",
    "multi logistic regression\n",
    "how to do knn\n",
    "    formula = 'Vict Sex ~ TIME OCC + LAT + LON'\n",
    "    age, descent too\n",
    "    "
   ]
  },
  {
   "cell_type": "code",
   "execution_count": null,
   "metadata": {},
   "outputs": [],
   "source": [
    "#plot geographical data, violent and non violent separated by color\n",
    "\n",
    "#sklearn multiple logistic regression\n",
    "\n",
    "    # pay equal attention class_weight = balancd\n",
    "    "
   ]
  },
  {
   "cell_type": "code",
   "execution_count": null,
   "metadata": {},
   "outputs": [],
   "source": [
    "df['Vict Sex'].value_counts().plot(kind = 'bar')\n",
    "\n",
    "f4 = plt.gcf()\n",
    "#plot which crimes affect which gender the most\n",
    "#gender and violent v nonviolent crimes"
   ]
  },
  {
   "cell_type": "code",
   "execution_count": null,
   "metadata": {},
   "outputs": [],
   "source": [
    "df['Crm Cd Desc'].value_counts()[:10].plot(kind = 'bar')\n",
    "\n",
    "f4 = plt.gcf()"
   ]
  },
  {
   "cell_type": "code",
   "execution_count": null,
   "metadata": {},
   "outputs": [],
   "source": []
  }
 ],
 "metadata": {
  "kernelspec": {
   "display_name": "Python 3",
   "language": "python",
   "name": "python3"
  },
  "language_info": {
   "codemirror_mode": {
    "name": "ipython",
    "version": 3
   },
   "file_extension": ".py",
   "mimetype": "text/x-python",
   "name": "python",
   "nbconvert_exporter": "python",
   "pygments_lexer": "ipython3",
   "version": "3.7.1"
  }
 },
 "nbformat": 4,
 "nbformat_minor": 2
}
